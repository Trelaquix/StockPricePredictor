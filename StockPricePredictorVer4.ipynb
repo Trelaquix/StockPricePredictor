{
  "cells": [
    {
      "cell_type": "code",
      "execution_count": 1,
      "id": "f91eb4e9",
      "metadata": {
        "id": "f91eb4e9",
        "colab": {
          "base_uri": "https://localhost:8080/"
        },
        "outputId": "12c65e62-69e2-43c7-9032-fcea465ac867"
      },
      "outputs": [
        {
          "output_type": "stream",
          "name": "stdout",
          "text": [
            "Collecting yfinance\n",
            "  Downloading yfinance-0.1.70-py2.py3-none-any.whl (26 kB)\n",
            "Collecting requests>=2.26\n",
            "  Downloading requests-2.27.1-py2.py3-none-any.whl (63 kB)\n",
            "\u001b[K     |████████████████████████████████| 63 kB 996 kB/s \n",
            "\u001b[?25hCollecting lxml>=4.5.1\n",
            "  Downloading lxml-4.8.0-cp37-cp37m-manylinux_2_17_x86_64.manylinux2014_x86_64.manylinux_2_24_x86_64.whl (6.4 MB)\n",
            "\u001b[K     |████████████████████████████████| 6.4 MB 2.4 MB/s \n",
            "\u001b[?25hRequirement already satisfied: pandas>=0.24.0 in /usr/local/lib/python3.7/dist-packages (from yfinance) (1.3.5)\n",
            "Requirement already satisfied: multitasking>=0.0.7 in /usr/local/lib/python3.7/dist-packages (from yfinance) (0.0.10)\n",
            "Requirement already satisfied: numpy>=1.15 in /usr/local/lib/python3.7/dist-packages (from yfinance) (1.21.5)\n",
            "Requirement already satisfied: python-dateutil>=2.7.3 in /usr/local/lib/python3.7/dist-packages (from pandas>=0.24.0->yfinance) (2.8.2)\n",
            "Requirement already satisfied: pytz>=2017.3 in /usr/local/lib/python3.7/dist-packages (from pandas>=0.24.0->yfinance) (2018.9)\n",
            "Requirement already satisfied: six>=1.5 in /usr/local/lib/python3.7/dist-packages (from python-dateutil>=2.7.3->pandas>=0.24.0->yfinance) (1.15.0)\n",
            "Requirement already satisfied: charset-normalizer~=2.0.0 in /usr/local/lib/python3.7/dist-packages (from requests>=2.26->yfinance) (2.0.12)\n",
            "Requirement already satisfied: urllib3<1.27,>=1.21.1 in /usr/local/lib/python3.7/dist-packages (from requests>=2.26->yfinance) (1.24.3)\n",
            "Requirement already satisfied: idna<4,>=2.5 in /usr/local/lib/python3.7/dist-packages (from requests>=2.26->yfinance) (2.10)\n",
            "Requirement already satisfied: certifi>=2017.4.17 in /usr/local/lib/python3.7/dist-packages (from requests>=2.26->yfinance) (2021.10.8)\n",
            "Installing collected packages: requests, lxml, yfinance\n",
            "  Attempting uninstall: requests\n",
            "    Found existing installation: requests 2.23.0\n",
            "    Uninstalling requests-2.23.0:\n",
            "      Successfully uninstalled requests-2.23.0\n",
            "  Attempting uninstall: lxml\n",
            "    Found existing installation: lxml 4.2.6\n",
            "    Uninstalling lxml-4.2.6:\n",
            "      Successfully uninstalled lxml-4.2.6\n",
            "\u001b[31mERROR: pip's dependency resolver does not currently take into account all the packages that are installed. This behaviour is the source of the following dependency conflicts.\n",
            "google-colab 1.0.0 requires requests~=2.23.0, but you have requests 2.27.1 which is incompatible.\n",
            "datascience 0.10.6 requires folium==0.2.1, but you have folium 0.8.3 which is incompatible.\u001b[0m\n",
            "Successfully installed lxml-4.8.0 requests-2.27.1 yfinance-0.1.70\n"
          ]
        }
      ],
      "source": [
        "#yahoo finance as data source\n",
        "!pip install yfinance\n",
        "import yfinance as yf"
      ]
    },
    {
      "cell_type": "code",
      "execution_count": 2,
      "id": "ee00f18c",
      "metadata": {
        "id": "ee00f18c"
      },
      "outputs": [],
      "source": [
        "#See the yahoo finance ticker for your stock symbol\n",
        "stock_symbol = 'AAPL'"
      ]
    },
    {
      "cell_type": "code",
      "execution_count": 3,
      "id": "d365868a",
      "metadata": {
        "id": "d365868a",
        "outputId": "39f640ef-8662-47c9-8d9e-04797ffd427a",
        "colab": {
          "base_uri": "https://localhost:8080/"
        }
      },
      "outputs": [
        {
          "output_type": "stream",
          "name": "stdout",
          "text": [
            "\r[*********************100%***********************]  1 of 1 completed\n"
          ]
        }
      ],
      "source": [
        "#last 5 years data with interval of 1 day\n",
        "data = yf.download(tickers=stock_symbol,period='5y',interval='1d')"
      ]
    },
    {
      "cell_type": "code",
      "execution_count": 4,
      "id": "9f82e205",
      "metadata": {
        "id": "9f82e205",
        "outputId": "2a4edebb-003a-4bcd-d798-697324119a64",
        "colab": {
          "base_uri": "https://localhost:8080/"
        }
      },
      "outputs": [
        {
          "output_type": "execute_result",
          "data": {
            "text/plain": [
              "pandas.core.frame.DataFrame"
            ]
          },
          "metadata": {},
          "execution_count": 4
        }
      ],
      "source": [
        "type(data)"
      ]
    },
    {
      "cell_type": "code",
      "execution_count": 5,
      "id": "dbbe3e6b",
      "metadata": {
        "id": "dbbe3e6b",
        "outputId": "db90cadb-7175-4c36-c835-4bc33942330d",
        "colab": {
          "base_uri": "https://localhost:8080/",
          "height": 238
        }
      },
      "outputs": [
        {
          "output_type": "execute_result",
          "data": {
            "text/plain": [
              "                 Open       High        Low      Close  Adj Close     Volume\n",
              "Date                                                                        \n",
              "2017-04-10  35.900002  35.970001  35.724998  35.792500  33.793835   75733600\n",
              "2017-04-11  35.735001  35.837502  35.014999  35.407501  33.430347  121517600\n",
              "2017-04-12  35.400002  35.537498  35.252499  35.450001  33.470474   81400000\n",
              "2017-04-13  35.477501  35.595001  35.262501  35.262501  33.293438   71291600\n",
              "2017-04-17  35.369999  35.470001  35.217499  35.457500  33.477547   66328400"
            ],
            "text/html": [
              "\n",
              "  <div id=\"df-505548b1-a8e7-47b6-8d0b-96429cecabe6\">\n",
              "    <div class=\"colab-df-container\">\n",
              "      <div>\n",
              "<style scoped>\n",
              "    .dataframe tbody tr th:only-of-type {\n",
              "        vertical-align: middle;\n",
              "    }\n",
              "\n",
              "    .dataframe tbody tr th {\n",
              "        vertical-align: top;\n",
              "    }\n",
              "\n",
              "    .dataframe thead th {\n",
              "        text-align: right;\n",
              "    }\n",
              "</style>\n",
              "<table border=\"1\" class=\"dataframe\">\n",
              "  <thead>\n",
              "    <tr style=\"text-align: right;\">\n",
              "      <th></th>\n",
              "      <th>Open</th>\n",
              "      <th>High</th>\n",
              "      <th>Low</th>\n",
              "      <th>Close</th>\n",
              "      <th>Adj Close</th>\n",
              "      <th>Volume</th>\n",
              "    </tr>\n",
              "    <tr>\n",
              "      <th>Date</th>\n",
              "      <th></th>\n",
              "      <th></th>\n",
              "      <th></th>\n",
              "      <th></th>\n",
              "      <th></th>\n",
              "      <th></th>\n",
              "    </tr>\n",
              "  </thead>\n",
              "  <tbody>\n",
              "    <tr>\n",
              "      <th>2017-04-10</th>\n",
              "      <td>35.900002</td>\n",
              "      <td>35.970001</td>\n",
              "      <td>35.724998</td>\n",
              "      <td>35.792500</td>\n",
              "      <td>33.793835</td>\n",
              "      <td>75733600</td>\n",
              "    </tr>\n",
              "    <tr>\n",
              "      <th>2017-04-11</th>\n",
              "      <td>35.735001</td>\n",
              "      <td>35.837502</td>\n",
              "      <td>35.014999</td>\n",
              "      <td>35.407501</td>\n",
              "      <td>33.430347</td>\n",
              "      <td>121517600</td>\n",
              "    </tr>\n",
              "    <tr>\n",
              "      <th>2017-04-12</th>\n",
              "      <td>35.400002</td>\n",
              "      <td>35.537498</td>\n",
              "      <td>35.252499</td>\n",
              "      <td>35.450001</td>\n",
              "      <td>33.470474</td>\n",
              "      <td>81400000</td>\n",
              "    </tr>\n",
              "    <tr>\n",
              "      <th>2017-04-13</th>\n",
              "      <td>35.477501</td>\n",
              "      <td>35.595001</td>\n",
              "      <td>35.262501</td>\n",
              "      <td>35.262501</td>\n",
              "      <td>33.293438</td>\n",
              "      <td>71291600</td>\n",
              "    </tr>\n",
              "    <tr>\n",
              "      <th>2017-04-17</th>\n",
              "      <td>35.369999</td>\n",
              "      <td>35.470001</td>\n",
              "      <td>35.217499</td>\n",
              "      <td>35.457500</td>\n",
              "      <td>33.477547</td>\n",
              "      <td>66328400</td>\n",
              "    </tr>\n",
              "  </tbody>\n",
              "</table>\n",
              "</div>\n",
              "      <button class=\"colab-df-convert\" onclick=\"convertToInteractive('df-505548b1-a8e7-47b6-8d0b-96429cecabe6')\"\n",
              "              title=\"Convert this dataframe to an interactive table.\"\n",
              "              style=\"display:none;\">\n",
              "        \n",
              "  <svg xmlns=\"http://www.w3.org/2000/svg\" height=\"24px\"viewBox=\"0 0 24 24\"\n",
              "       width=\"24px\">\n",
              "    <path d=\"M0 0h24v24H0V0z\" fill=\"none\"/>\n",
              "    <path d=\"M18.56 5.44l.94 2.06.94-2.06 2.06-.94-2.06-.94-.94-2.06-.94 2.06-2.06.94zm-11 1L8.5 8.5l.94-2.06 2.06-.94-2.06-.94L8.5 2.5l-.94 2.06-2.06.94zm10 10l.94 2.06.94-2.06 2.06-.94-2.06-.94-.94-2.06-.94 2.06-2.06.94z\"/><path d=\"M17.41 7.96l-1.37-1.37c-.4-.4-.92-.59-1.43-.59-.52 0-1.04.2-1.43.59L10.3 9.45l-7.72 7.72c-.78.78-.78 2.05 0 2.83L4 21.41c.39.39.9.59 1.41.59.51 0 1.02-.2 1.41-.59l7.78-7.78 2.81-2.81c.8-.78.8-2.07 0-2.86zM5.41 20L4 18.59l7.72-7.72 1.47 1.35L5.41 20z\"/>\n",
              "  </svg>\n",
              "      </button>\n",
              "      \n",
              "  <style>\n",
              "    .colab-df-container {\n",
              "      display:flex;\n",
              "      flex-wrap:wrap;\n",
              "      gap: 12px;\n",
              "    }\n",
              "\n",
              "    .colab-df-convert {\n",
              "      background-color: #E8F0FE;\n",
              "      border: none;\n",
              "      border-radius: 50%;\n",
              "      cursor: pointer;\n",
              "      display: none;\n",
              "      fill: #1967D2;\n",
              "      height: 32px;\n",
              "      padding: 0 0 0 0;\n",
              "      width: 32px;\n",
              "    }\n",
              "\n",
              "    .colab-df-convert:hover {\n",
              "      background-color: #E2EBFA;\n",
              "      box-shadow: 0px 1px 2px rgba(60, 64, 67, 0.3), 0px 1px 3px 1px rgba(60, 64, 67, 0.15);\n",
              "      fill: #174EA6;\n",
              "    }\n",
              "\n",
              "    [theme=dark] .colab-df-convert {\n",
              "      background-color: #3B4455;\n",
              "      fill: #D2E3FC;\n",
              "    }\n",
              "\n",
              "    [theme=dark] .colab-df-convert:hover {\n",
              "      background-color: #434B5C;\n",
              "      box-shadow: 0px 1px 3px 1px rgba(0, 0, 0, 0.15);\n",
              "      filter: drop-shadow(0px 1px 2px rgba(0, 0, 0, 0.3));\n",
              "      fill: #FFFFFF;\n",
              "    }\n",
              "  </style>\n",
              "\n",
              "      <script>\n",
              "        const buttonEl =\n",
              "          document.querySelector('#df-505548b1-a8e7-47b6-8d0b-96429cecabe6 button.colab-df-convert');\n",
              "        buttonEl.style.display =\n",
              "          google.colab.kernel.accessAllowed ? 'block' : 'none';\n",
              "\n",
              "        async function convertToInteractive(key) {\n",
              "          const element = document.querySelector('#df-505548b1-a8e7-47b6-8d0b-96429cecabe6');\n",
              "          const dataTable =\n",
              "            await google.colab.kernel.invokeFunction('convertToInteractive',\n",
              "                                                     [key], {});\n",
              "          if (!dataTable) return;\n",
              "\n",
              "          const docLinkHtml = 'Like what you see? Visit the ' +\n",
              "            '<a target=\"_blank\" href=https://colab.research.google.com/notebooks/data_table.ipynb>data table notebook</a>'\n",
              "            + ' to learn more about interactive tables.';\n",
              "          element.innerHTML = '';\n",
              "          dataTable['output_type'] = 'display_data';\n",
              "          await google.colab.output.renderOutput(dataTable, element);\n",
              "          const docLink = document.createElement('div');\n",
              "          docLink.innerHTML = docLinkHtml;\n",
              "          element.appendChild(docLink);\n",
              "        }\n",
              "      </script>\n",
              "    </div>\n",
              "  </div>\n",
              "  "
            ]
          },
          "metadata": {},
          "execution_count": 5
        }
      ],
      "source": [
        "data.head()"
      ]
    },
    {
      "cell_type": "code",
      "execution_count": 6,
      "id": "9d445949",
      "metadata": {
        "id": "9d445949",
        "outputId": "95e638f9-c0c6-4a88-87cd-88a763eef6c0",
        "colab": {
          "base_uri": "https://localhost:8080/"
        }
      },
      "outputs": [
        {
          "output_type": "execute_result",
          "data": {
            "text/plain": [
              "1260"
            ]
          },
          "metadata": {},
          "execution_count": 6
        }
      ],
      "source": [
        "len(data)"
      ]
    },
    {
      "cell_type": "code",
      "execution_count": 7,
      "id": "bf283ad5",
      "metadata": {
        "id": "bf283ad5",
        "outputId": "c25b2c6f-a0ec-4a09-ebf9-fc000f59d65d",
        "colab": {
          "base_uri": "https://localhost:8080/",
          "height": 238
        }
      },
      "outputs": [
        {
          "output_type": "execute_result",
          "data": {
            "text/plain": [
              "                  Open        High         Low       Close   Adj Close  \\\n",
              "Date                                                                     \n",
              "2022-04-04  174.570007  178.490005  174.440002  178.440002  178.440002   \n",
              "2022-04-05  177.500000  178.300003  174.419998  175.059998  175.059998   \n",
              "2022-04-06  172.360001  173.630005  170.130005  171.830002  171.830002   \n",
              "2022-04-07  171.160004  173.360001  169.850006  172.139999  172.139999   \n",
              "2022-04-08  171.779999  171.779999  169.199997  170.089996  170.089996   \n",
              "\n",
              "              Volume  \n",
              "Date                  \n",
              "2022-04-04  76468400  \n",
              "2022-04-05  73401800  \n",
              "2022-04-06  89058800  \n",
              "2022-04-07  77594700  \n",
              "2022-04-08  76515900  "
            ],
            "text/html": [
              "\n",
              "  <div id=\"df-154a963f-cdb3-434b-b09e-8c7563dbe449\">\n",
              "    <div class=\"colab-df-container\">\n",
              "      <div>\n",
              "<style scoped>\n",
              "    .dataframe tbody tr th:only-of-type {\n",
              "        vertical-align: middle;\n",
              "    }\n",
              "\n",
              "    .dataframe tbody tr th {\n",
              "        vertical-align: top;\n",
              "    }\n",
              "\n",
              "    .dataframe thead th {\n",
              "        text-align: right;\n",
              "    }\n",
              "</style>\n",
              "<table border=\"1\" class=\"dataframe\">\n",
              "  <thead>\n",
              "    <tr style=\"text-align: right;\">\n",
              "      <th></th>\n",
              "      <th>Open</th>\n",
              "      <th>High</th>\n",
              "      <th>Low</th>\n",
              "      <th>Close</th>\n",
              "      <th>Adj Close</th>\n",
              "      <th>Volume</th>\n",
              "    </tr>\n",
              "    <tr>\n",
              "      <th>Date</th>\n",
              "      <th></th>\n",
              "      <th></th>\n",
              "      <th></th>\n",
              "      <th></th>\n",
              "      <th></th>\n",
              "      <th></th>\n",
              "    </tr>\n",
              "  </thead>\n",
              "  <tbody>\n",
              "    <tr>\n",
              "      <th>2022-04-04</th>\n",
              "      <td>174.570007</td>\n",
              "      <td>178.490005</td>\n",
              "      <td>174.440002</td>\n",
              "      <td>178.440002</td>\n",
              "      <td>178.440002</td>\n",
              "      <td>76468400</td>\n",
              "    </tr>\n",
              "    <tr>\n",
              "      <th>2022-04-05</th>\n",
              "      <td>177.500000</td>\n",
              "      <td>178.300003</td>\n",
              "      <td>174.419998</td>\n",
              "      <td>175.059998</td>\n",
              "      <td>175.059998</td>\n",
              "      <td>73401800</td>\n",
              "    </tr>\n",
              "    <tr>\n",
              "      <th>2022-04-06</th>\n",
              "      <td>172.360001</td>\n",
              "      <td>173.630005</td>\n",
              "      <td>170.130005</td>\n",
              "      <td>171.830002</td>\n",
              "      <td>171.830002</td>\n",
              "      <td>89058800</td>\n",
              "    </tr>\n",
              "    <tr>\n",
              "      <th>2022-04-07</th>\n",
              "      <td>171.160004</td>\n",
              "      <td>173.360001</td>\n",
              "      <td>169.850006</td>\n",
              "      <td>172.139999</td>\n",
              "      <td>172.139999</td>\n",
              "      <td>77594700</td>\n",
              "    </tr>\n",
              "    <tr>\n",
              "      <th>2022-04-08</th>\n",
              "      <td>171.779999</td>\n",
              "      <td>171.779999</td>\n",
              "      <td>169.199997</td>\n",
              "      <td>170.089996</td>\n",
              "      <td>170.089996</td>\n",
              "      <td>76515900</td>\n",
              "    </tr>\n",
              "  </tbody>\n",
              "</table>\n",
              "</div>\n",
              "      <button class=\"colab-df-convert\" onclick=\"convertToInteractive('df-154a963f-cdb3-434b-b09e-8c7563dbe449')\"\n",
              "              title=\"Convert this dataframe to an interactive table.\"\n",
              "              style=\"display:none;\">\n",
              "        \n",
              "  <svg xmlns=\"http://www.w3.org/2000/svg\" height=\"24px\"viewBox=\"0 0 24 24\"\n",
              "       width=\"24px\">\n",
              "    <path d=\"M0 0h24v24H0V0z\" fill=\"none\"/>\n",
              "    <path d=\"M18.56 5.44l.94 2.06.94-2.06 2.06-.94-2.06-.94-.94-2.06-.94 2.06-2.06.94zm-11 1L8.5 8.5l.94-2.06 2.06-.94-2.06-.94L8.5 2.5l-.94 2.06-2.06.94zm10 10l.94 2.06.94-2.06 2.06-.94-2.06-.94-.94-2.06-.94 2.06-2.06.94z\"/><path d=\"M17.41 7.96l-1.37-1.37c-.4-.4-.92-.59-1.43-.59-.52 0-1.04.2-1.43.59L10.3 9.45l-7.72 7.72c-.78.78-.78 2.05 0 2.83L4 21.41c.39.39.9.59 1.41.59.51 0 1.02-.2 1.41-.59l7.78-7.78 2.81-2.81c.8-.78.8-2.07 0-2.86zM5.41 20L4 18.59l7.72-7.72 1.47 1.35L5.41 20z\"/>\n",
              "  </svg>\n",
              "      </button>\n",
              "      \n",
              "  <style>\n",
              "    .colab-df-container {\n",
              "      display:flex;\n",
              "      flex-wrap:wrap;\n",
              "      gap: 12px;\n",
              "    }\n",
              "\n",
              "    .colab-df-convert {\n",
              "      background-color: #E8F0FE;\n",
              "      border: none;\n",
              "      border-radius: 50%;\n",
              "      cursor: pointer;\n",
              "      display: none;\n",
              "      fill: #1967D2;\n",
              "      height: 32px;\n",
              "      padding: 0 0 0 0;\n",
              "      width: 32px;\n",
              "    }\n",
              "\n",
              "    .colab-df-convert:hover {\n",
              "      background-color: #E2EBFA;\n",
              "      box-shadow: 0px 1px 2px rgba(60, 64, 67, 0.3), 0px 1px 3px 1px rgba(60, 64, 67, 0.15);\n",
              "      fill: #174EA6;\n",
              "    }\n",
              "\n",
              "    [theme=dark] .colab-df-convert {\n",
              "      background-color: #3B4455;\n",
              "      fill: #D2E3FC;\n",
              "    }\n",
              "\n",
              "    [theme=dark] .colab-df-convert:hover {\n",
              "      background-color: #434B5C;\n",
              "      box-shadow: 0px 1px 3px 1px rgba(0, 0, 0, 0.15);\n",
              "      filter: drop-shadow(0px 1px 2px rgba(0, 0, 0, 0.3));\n",
              "      fill: #FFFFFF;\n",
              "    }\n",
              "  </style>\n",
              "\n",
              "      <script>\n",
              "        const buttonEl =\n",
              "          document.querySelector('#df-154a963f-cdb3-434b-b09e-8c7563dbe449 button.colab-df-convert');\n",
              "        buttonEl.style.display =\n",
              "          google.colab.kernel.accessAllowed ? 'block' : 'none';\n",
              "\n",
              "        async function convertToInteractive(key) {\n",
              "          const element = document.querySelector('#df-154a963f-cdb3-434b-b09e-8c7563dbe449');\n",
              "          const dataTable =\n",
              "            await google.colab.kernel.invokeFunction('convertToInteractive',\n",
              "                                                     [key], {});\n",
              "          if (!dataTable) return;\n",
              "\n",
              "          const docLinkHtml = 'Like what you see? Visit the ' +\n",
              "            '<a target=\"_blank\" href=https://colab.research.google.com/notebooks/data_table.ipynb>data table notebook</a>'\n",
              "            + ' to learn more about interactive tables.';\n",
              "          element.innerHTML = '';\n",
              "          dataTable['output_type'] = 'display_data';\n",
              "          await google.colab.output.renderOutput(dataTable, element);\n",
              "          const docLink = document.createElement('div');\n",
              "          docLink.innerHTML = docLinkHtml;\n",
              "          element.appendChild(docLink);\n",
              "        }\n",
              "      </script>\n",
              "    </div>\n",
              "  </div>\n",
              "  "
            ]
          },
          "metadata": {},
          "execution_count": 7
        }
      ],
      "source": [
        "data.tail()"
      ]
    },
    {
      "cell_type": "code",
      "execution_count": 8,
      "id": "6292e20a",
      "metadata": {
        "id": "6292e20a"
      },
      "outputs": [],
      "source": [
        "opn = data[['Open']]"
      ]
    },
    {
      "cell_type": "code",
      "execution_count": 9,
      "id": "21e132d8",
      "metadata": {
        "id": "21e132d8",
        "outputId": "c91eae1a-2030-4e4a-bef6-a295523c0fb9",
        "colab": {
          "base_uri": "https://localhost:8080/",
          "height": 286
        }
      },
      "outputs": [
        {
          "output_type": "execute_result",
          "data": {
            "text/plain": [
              "<matplotlib.axes._subplots.AxesSubplot at 0x7f41e0e9b650>"
            ]
          },
          "metadata": {},
          "execution_count": 9
        },
        {
          "output_type": "display_data",
          "data": {
            "text/plain": [
              "<Figure size 432x288 with 1 Axes>"
            ],
            "image/png": "[encoded data removed]"
          },
          "metadata": {
            "needs_background": "light"
          }
        }
      ],
      "source": [
        "opn.plot()"
      ]
    },
    {
      "cell_type": "code",
      "execution_count": 10,
      "id": "c5194440",
      "metadata": {
        "id": "c5194440"
      },
      "outputs": [],
      "source": [
        "import matplotlib.pyplot as plt"
      ]
    },
    {
      "cell_type": "code",
      "execution_count": 11,
      "id": "8038cb6a",
      "metadata": {
        "id": "8038cb6a"
      },
      "outputs": [],
      "source": [
        "ds = opn.values"
      ]
    },
    {
      "cell_type": "code",
      "execution_count": 12,
      "id": "69b08672",
      "metadata": {
        "id": "69b08672",
        "outputId": "a3941305-528c-452e-afa1-8efd127baf13",
        "colab": {
          "base_uri": "https://localhost:8080/"
        }
      },
      "outputs": [
        {
          "output_type": "execute_result",
          "data": {
            "text/plain": [
              "array([[ 35.90000153],\n",
              "       [ 35.73500061],\n",
              "       [ 35.40000153],\n",
              "       ...,\n",
              "       [172.36000061],\n",
              "       [171.16000366],\n",
              "       [171.77999878]])"
            ]
          },
          "metadata": {},
          "execution_count": 12
        }
      ],
      "source": [
        "ds"
      ]
    },
    {
      "cell_type": "code",
      "execution_count": 13,
      "id": "af022e3c",
      "metadata": {
        "id": "af022e3c",
        "outputId": "847c099e-041f-4482-9e98-fc2e581a679c",
        "colab": {
          "base_uri": "https://localhost:8080/",
          "height": 282
        }
      },
      "outputs": [
        {
          "output_type": "execute_result",
          "data": {
            "text/plain": [
              "[<matplotlib.lines.Line2D at 0x7f41e08bd250>]"
            ]
          },
          "metadata": {},
          "execution_count": 13
        },
        {
          "output_type": "display_data",
          "data": {
            "text/plain": [
              "<Figure size 432x288 with 1 Axes>"
            ],
            "image/png": "[encoded data removed]"
          },
          "metadata": {
            "needs_background": "light"
          }
        }
      ],
      "source": [
        "plt.plot(ds)"
      ]
    },
    {
      "cell_type": "code",
      "execution_count": 14,
      "id": "0e73b789",
      "metadata": {
        "id": "0e73b789"
      },
      "outputs": [],
      "source": [
        "import numpy as np"
      ]
    },
    {
      "cell_type": "code",
      "execution_count": 15,
      "id": "0e6c1c22",
      "metadata": {
        "id": "0e6c1c22"
      },
      "outputs": [],
      "source": [
        "from sklearn.preprocessing import MinMaxScaler"
      ]
    },
    {
      "cell_type": "code",
      "execution_count": 16,
      "id": "cf6a3e1b",
      "metadata": {
        "id": "cf6a3e1b"
      },
      "outputs": [],
      "source": [
        "#Using MinMaxScaler for normalizing data between 0 & 1\n",
        "normalizer = MinMaxScaler(feature_range=(0,1))\n",
        "ds_scaled = normalizer.fit_transform(np.array(ds).reshape(-1,1))"
      ]
    },
    {
      "cell_type": "code",
      "execution_count": 17,
      "id": "7dbea1d5",
      "metadata": {
        "id": "7dbea1d5",
        "outputId": "14c9bfd0-8a40-400e-8173-0465c20aaf67",
        "colab": {
          "base_uri": "https://localhost:8080/"
        }
      },
      "outputs": [
        {
          "output_type": "execute_result",
          "data": {
            "text/plain": [
              "(1260, 1260)"
            ]
          },
          "metadata": {},
          "execution_count": 17
        }
      ],
      "source": [
        "len(ds_scaled), len(ds)"
      ]
    },
    {
      "cell_type": "code",
      "execution_count": 18,
      "id": "a20c5654",
      "metadata": {
        "id": "a20c5654"
      },
      "outputs": [],
      "source": [
        "#Defining test and train data sizes\n",
        "train_size = int(len(ds_scaled)*0.70)\n",
        "test_size = len(ds_scaled) - train_size"
      ]
    },
    {
      "cell_type": "code",
      "execution_count": 19,
      "id": "b964aa4e",
      "metadata": {
        "id": "b964aa4e",
        "outputId": "603a872b-ec13-4872-a57a-b210221c09a3",
        "colab": {
          "base_uri": "https://localhost:8080/"
        }
      },
      "outputs": [
        {
          "output_type": "execute_result",
          "data": {
            "text/plain": [
              "(882, 378)"
            ]
          },
          "metadata": {},
          "execution_count": 19
        }
      ],
      "source": [
        "train_size,test_size"
      ]
    },
    {
      "cell_type": "code",
      "execution_count": 20,
      "id": "25ca615e",
      "metadata": {
        "id": "25ca615e"
      },
      "outputs": [],
      "source": [
        "#Splitting data between train and test\n",
        "ds_train, ds_test = ds_scaled[0:train_size,:], ds_scaled[train_size:len(ds_scaled),:1]"
      ]
    },
    {
      "cell_type": "code",
      "execution_count": 21,
      "id": "95913f28",
      "metadata": {
        "id": "95913f28",
        "outputId": "3e1eae22-4a83-4292-8b54-e1434c1e013a",
        "colab": {
          "base_uri": "https://localhost:8080/"
        }
      },
      "outputs": [
        {
          "output_type": "execute_result",
          "data": {
            "text/plain": [
              "(882, 378)"
            ]
          },
          "metadata": {},
          "execution_count": 21
        }
      ],
      "source": [
        "len(ds_train),len(ds_test)"
      ]
    },
    {
      "cell_type": "code",
      "execution_count": 22,
      "id": "5dd0b45e",
      "metadata": {
        "id": "5dd0b45e"
      },
      "outputs": [],
      "source": [
        "#creating dataset in time series for LSTM model \n",
        "#X[100,120,140,160,180] : Y[200]\n",
        "def create_ds(dataset,step):\n",
        "    Xtrain, Ytrain = [], []\n",
        "    for i in range(len(dataset)-step-1):\n",
        "        a = dataset[i:(i+step), 0]\n",
        "        Xtrain.append(a)\n",
        "        Ytrain.append(dataset[i + step, 0])\n",
        "    return np.array(Xtrain), np.array(Ytrain)"
      ]
    },
    {
      "cell_type": "code",
      "execution_count": 23,
      "id": "d28b7d1d",
      "metadata": {
        "id": "d28b7d1d"
      },
      "outputs": [],
      "source": [
        "#Taking 100 days price as one record for training\n",
        "time_stamp = 100\n",
        "X_train, y_train = create_ds(ds_train,time_stamp)\n",
        "X_test, y_test = create_ds(ds_test,time_stamp)"
      ]
    },
    {
      "cell_type": "code",
      "execution_count": 24,
      "id": "03ce9096",
      "metadata": {
        "id": "03ce9096",
        "outputId": "71ccb2e7-0854-440d-af02-37b63b0670f5",
        "colab": {
          "base_uri": "https://localhost:8080/"
        }
      },
      "outputs": [
        {
          "output_type": "execute_result",
          "data": {
            "text/plain": [
              "((781, 100), (781,))"
            ]
          },
          "metadata": {},
          "execution_count": 24
        }
      ],
      "source": [
        "X_train.shape,y_train.shape"
      ]
    },
    {
      "cell_type": "code",
      "execution_count": 25,
      "id": "84acdd72",
      "metadata": {
        "id": "84acdd72",
        "outputId": "9afa82d8-85ea-463d-fabe-bf4d45303462",
        "colab": {
          "base_uri": "https://localhost:8080/"
        }
      },
      "outputs": [
        {
          "output_type": "execute_result",
          "data": {
            "text/plain": [
              "((277, 100), (277,))"
            ]
          },
          "metadata": {},
          "execution_count": 25
        }
      ],
      "source": [
        "X_test.shape, y_test.shape"
      ]
    },
    {
      "cell_type": "code",
      "execution_count": 26,
      "id": "c657d193",
      "metadata": {
        "id": "c657d193"
      },
      "outputs": [],
      "source": [
        "#Reshaping data to fit into LSTM model\n",
        "X_train = X_train.reshape(X_train.shape[0],X_train.shape[1] , 1)\n",
        "X_test = X_test.reshape(X_test.shape[0],X_test.shape[1] , 1)"
      ]
    },
    {
      "cell_type": "code",
      "execution_count": 27,
      "id": "82844671",
      "metadata": {
        "id": "82844671"
      },
      "outputs": [],
      "source": [
        "from keras.models import Sequential\n",
        "from keras.layers import Dense, LSTM"
      ]
    },
    {
      "cell_type": "code",
      "execution_count": 28,
      "id": "b5250913",
      "metadata": {
        "id": "b5250913",
        "outputId": "0a39d46c-10f6-45a9-868e-8d2334b54196",
        "colab": {
          "base_uri": "https://localhost:8080/"
        }
      },
      "outputs": [
        {
          "output_type": "stream",
          "name": "stdout",
          "text": [
            "Model: \"sequential\"\n",
            "_________________________________________________________________\n",
            " Layer (type)                Output Shape              Param #   \n",
            "=================================================================\n",
            " lstm (LSTM)                 (None, 100, 50)           10400     \n",
            "                                                                 \n",
            " lstm_1 (LSTM)               (None, 100, 50)           20200     \n",
            "                                                                 \n",
            " lstm_2 (LSTM)               (None, 50)                20200     \n",
            "                                                                 \n",
            " dense (Dense)               (None, 1)                 51        \n",
            "                                                                 \n",
            "=================================================================\n",
            "Total params: 50,851\n",
            "Trainable params: 50,851\n",
            "Non-trainable params: 0\n",
            "_________________________________________________________________\n"
          ]
        }
      ],
      "source": [
        "#Creating LSTM model using keras\n",
        "model = Sequential()\n",
        "model.add(LSTM(units=50,return_sequences=True,input_shape=(X_train.shape[1],1)))\n",
        "model.add(LSTM(units=50,return_sequences=True))\n",
        "model.add(LSTM(units=50))\n",
        "model.add(Dense(units=1,activation='linear'))\n",
        "model.summary()"
      ]
    },
    {
      "cell_type": "code",
      "execution_count": 29,
      "id": "7e8ff062",
      "metadata": {
        "id": "7e8ff062",
        "outputId": "cd241571-f366-481f-f1e9-c64e943be385",
        "colab": {
          "base_uri": "https://localhost:8080/"
        }
      },
      "outputs": [
        {
          "output_type": "stream",
          "name": "stdout",
          "text": [
            "Epoch 1/100\n",
            "13/13 [==============================] - 16s 645ms/step - loss: 0.0128 - val_loss: 0.0368\n",
            "Epoch 2/100\n",
            "13/13 [==============================] - 5s 370ms/step - loss: 0.0016 - val_loss: 0.0028\n",
            "Epoch 3/100\n",
            "13/13 [==============================] - 5s 342ms/step - loss: 9.3652e-04 - val_loss: 0.0070\n",
            "Epoch 4/100\n",
            "13/13 [==============================] - 4s 308ms/step - loss: 9.7036e-04 - val_loss: 0.0046\n",
            "Epoch 5/100\n",
            "13/13 [==============================] - 2s 180ms/step - loss: 8.9698e-04 - val_loss: 0.0073\n",
            "Epoch 6/100\n",
            "13/13 [==============================] - 2s 178ms/step - loss: 9.3049e-04 - val_loss: 0.0090\n",
            "Epoch 7/100\n",
            "13/13 [==============================] - 2s 180ms/step - loss: 7.9522e-04 - val_loss: 0.0050\n",
            "Epoch 8/100\n",
            "13/13 [==============================] - 2s 178ms/step - loss: 6.7380e-04 - val_loss: 0.0045\n",
            "Epoch 9/100\n",
            "13/13 [==============================] - 2s 179ms/step - loss: 6.2256e-04 - val_loss: 0.0054\n",
            "Epoch 10/100\n",
            "13/13 [==============================] - 2s 179ms/step - loss: 5.8954e-04 - val_loss: 0.0050\n",
            "Epoch 11/100\n",
            "13/13 [==============================] - 2s 179ms/step - loss: 5.5710e-04 - val_loss: 0.0041\n",
            "Epoch 12/100\n",
            "13/13 [==============================] - 2s 177ms/step - loss: 5.6411e-04 - val_loss: 0.0038\n",
            "Epoch 13/100\n",
            "13/13 [==============================] - 2s 181ms/step - loss: 5.3223e-04 - val_loss: 0.0069\n",
            "Epoch 14/100\n",
            "13/13 [==============================] - 2s 180ms/step - loss: 5.5058e-04 - val_loss: 0.0083\n",
            "Epoch 15/100\n",
            "13/13 [==============================] - 2s 180ms/step - loss: 4.6997e-04 - val_loss: 0.0053\n",
            "Epoch 16/100\n",
            "13/13 [==============================] - 2s 180ms/step - loss: 4.6834e-04 - val_loss: 0.0016\n",
            "Epoch 17/100\n",
            "13/13 [==============================] - 2s 181ms/step - loss: 4.7192e-04 - val_loss: 0.0040\n",
            "Epoch 18/100\n",
            "13/13 [==============================] - 2s 181ms/step - loss: 4.9204e-04 - val_loss: 0.0121\n",
            "Epoch 19/100\n",
            "13/13 [==============================] - 2s 180ms/step - loss: 5.4022e-04 - val_loss: 0.0034\n",
            "Epoch 20/100\n",
            "13/13 [==============================] - 2s 182ms/step - loss: 4.7837e-04 - val_loss: 0.0014\n",
            "Epoch 21/100\n",
            "13/13 [==============================] - 2s 178ms/step - loss: 5.0654e-04 - val_loss: 0.0058\n",
            "Epoch 22/100\n",
            "13/13 [==============================] - 2s 177ms/step - loss: 5.3508e-04 - val_loss: 0.0059\n",
            "Epoch 23/100\n",
            "13/13 [==============================] - 2s 178ms/step - loss: 4.2547e-04 - val_loss: 0.0034\n",
            "Epoch 24/100\n",
            "13/13 [==============================] - 2s 181ms/step - loss: 4.2115e-04 - val_loss: 0.0015\n",
            "Epoch 25/100\n",
            "13/13 [==============================] - 2s 178ms/step - loss: 5.9901e-04 - val_loss: 0.0032\n",
            "Epoch 26/100\n",
            "13/13 [==============================] - 2s 181ms/step - loss: 6.3193e-04 - val_loss: 0.0066\n",
            "Epoch 27/100\n",
            "13/13 [==============================] - 2s 179ms/step - loss: 4.0845e-04 - val_loss: 0.0078\n",
            "Epoch 28/100\n",
            "13/13 [==============================] - 2s 181ms/step - loss: 3.7544e-04 - val_loss: 0.0015\n",
            "Epoch 29/100\n",
            "13/13 [==============================] - 2s 179ms/step - loss: 3.9600e-04 - val_loss: 0.0061\n",
            "Epoch 30/100\n",
            "13/13 [==============================] - 2s 177ms/step - loss: 3.5777e-04 - val_loss: 0.0026\n",
            "Epoch 31/100\n",
            "13/13 [==============================] - 2s 183ms/step - loss: 3.4219e-04 - val_loss: 0.0017\n",
            "Epoch 32/100\n",
            "13/13 [==============================] - 2s 180ms/step - loss: 3.3301e-04 - val_loss: 0.0014\n",
            "Epoch 33/100\n",
            "13/13 [==============================] - 2s 181ms/step - loss: 3.6059e-04 - val_loss: 0.0050\n",
            "Epoch 34/100\n",
            "13/13 [==============================] - 2s 184ms/step - loss: 3.5234e-04 - val_loss: 0.0040\n",
            "Epoch 35/100\n",
            "13/13 [==============================] - 2s 181ms/step - loss: 3.5027e-04 - val_loss: 0.0015\n",
            "Epoch 36/100\n",
            "13/13 [==============================] - 2s 180ms/step - loss: 3.5260e-04 - val_loss: 0.0032\n",
            "Epoch 37/100\n",
            "13/13 [==============================] - 2s 182ms/step - loss: 3.3889e-04 - val_loss: 0.0030\n",
            "Epoch 38/100\n",
            "13/13 [==============================] - 2s 182ms/step - loss: 3.1877e-04 - val_loss: 0.0013\n",
            "Epoch 39/100\n",
            "13/13 [==============================] - 2s 181ms/step - loss: 3.3277e-04 - val_loss: 0.0030\n",
            "Epoch 40/100\n",
            "13/13 [==============================] - 2s 182ms/step - loss: 3.4639e-04 - val_loss: 0.0047\n",
            "Epoch 41/100\n",
            "13/13 [==============================] - 2s 185ms/step - loss: 3.9383e-04 - val_loss: 0.0012\n",
            "Epoch 42/100\n",
            "13/13 [==============================] - 2s 181ms/step - loss: 3.6800e-04 - val_loss: 0.0011\n",
            "Epoch 43/100\n",
            "13/13 [==============================] - 2s 183ms/step - loss: 3.6350e-04 - val_loss: 0.0051\n",
            "Epoch 44/100\n",
            "13/13 [==============================] - 2s 181ms/step - loss: 3.3116e-04 - val_loss: 0.0012\n",
            "Epoch 45/100\n",
            "13/13 [==============================] - 2s 181ms/step - loss: 3.1929e-04 - val_loss: 0.0016\n",
            "Epoch 46/100\n",
            "13/13 [==============================] - 4s 328ms/step - loss: 3.1006e-04 - val_loss: 0.0022\n",
            "Epoch 47/100\n",
            "13/13 [==============================] - 2s 180ms/step - loss: 3.4811e-04 - val_loss: 0.0085\n",
            "Epoch 48/100\n",
            "13/13 [==============================] - 2s 181ms/step - loss: 4.1075e-04 - val_loss: 0.0017\n",
            "Epoch 49/100\n",
            "13/13 [==============================] - 2s 182ms/step - loss: 3.6837e-04 - val_loss: 0.0021\n",
            "Epoch 50/100\n",
            "13/13 [==============================] - 2s 179ms/step - loss: 2.9588e-04 - val_loss: 0.0014\n",
            "Epoch 51/100\n",
            "13/13 [==============================] - 2s 180ms/step - loss: 2.8444e-04 - val_loss: 0.0014\n",
            "Epoch 52/100\n",
            "13/13 [==============================] - 2s 180ms/step - loss: 3.0715e-04 - val_loss: 0.0047\n",
            "Epoch 53/100\n",
            "13/13 [==============================] - 2s 184ms/step - loss: 3.1420e-04 - val_loss: 0.0013\n",
            "Epoch 54/100\n",
            "13/13 [==============================] - 2s 185ms/step - loss: 3.2635e-04 - val_loss: 0.0014\n",
            "Epoch 55/100\n",
            "13/13 [==============================] - 2s 181ms/step - loss: 3.3091e-04 - val_loss: 0.0050\n",
            "Epoch 56/100\n",
            "13/13 [==============================] - 2s 181ms/step - loss: 3.7274e-04 - val_loss: 0.0045\n",
            "Epoch 57/100\n",
            "13/13 [==============================] - 2s 180ms/step - loss: 3.8666e-04 - val_loss: 0.0012\n",
            "Epoch 58/100\n",
            "13/13 [==============================] - 2s 184ms/step - loss: 3.6708e-04 - val_loss: 0.0038\n",
            "Epoch 59/100\n",
            "13/13 [==============================] - 2s 182ms/step - loss: 3.3285e-04 - val_loss: 0.0034\n",
            "Epoch 60/100\n",
            "13/13 [==============================] - 2s 181ms/step - loss: 2.6548e-04 - val_loss: 0.0031\n",
            "Epoch 61/100\n",
            "13/13 [==============================] - 2s 181ms/step - loss: 2.5325e-04 - val_loss: 0.0039\n",
            "Epoch 62/100\n",
            "13/13 [==============================] - 2s 180ms/step - loss: 2.5082e-04 - val_loss: 0.0104\n",
            "Epoch 63/100\n",
            "13/13 [==============================] - 2s 182ms/step - loss: 5.3733e-04 - val_loss: 0.0012\n",
            "Epoch 64/100\n",
            "13/13 [==============================] - 2s 180ms/step - loss: 3.2349e-04 - val_loss: 0.0015\n",
            "Epoch 65/100\n",
            "13/13 [==============================] - 2s 181ms/step - loss: 3.2505e-04 - val_loss: 0.0017\n",
            "Epoch 66/100\n",
            "13/13 [==============================] - 2s 181ms/step - loss: 2.7851e-04 - val_loss: 8.8803e-04\n",
            "Epoch 67/100\n",
            "13/13 [==============================] - 2s 181ms/step - loss: 2.7223e-04 - val_loss: 0.0030\n",
            "Epoch 68/100\n",
            "13/13 [==============================] - 2s 183ms/step - loss: 2.3936e-04 - val_loss: 0.0024\n",
            "Epoch 69/100\n",
            "13/13 [==============================] - 2s 180ms/step - loss: 2.3842e-04 - val_loss: 0.0017\n",
            "Epoch 70/100\n",
            "13/13 [==============================] - 2s 179ms/step - loss: 2.3513e-04 - val_loss: 0.0012\n",
            "Epoch 71/100\n",
            "13/13 [==============================] - 2s 180ms/step - loss: 2.3894e-04 - val_loss: 0.0030\n",
            "Epoch 72/100\n",
            "13/13 [==============================] - 2s 182ms/step - loss: 2.3524e-04 - val_loss: 0.0056\n",
            "Epoch 73/100\n",
            "13/13 [==============================] - 2s 178ms/step - loss: 4.2560e-04 - val_loss: 0.0025\n",
            "Epoch 74/100\n",
            "13/13 [==============================] - 2s 181ms/step - loss: 3.1088e-04 - val_loss: 0.0016\n",
            "Epoch 75/100\n",
            "13/13 [==============================] - 2s 180ms/step - loss: 3.1982e-04 - val_loss: 0.0025\n",
            "Epoch 76/100\n",
            "13/13 [==============================] - 2s 180ms/step - loss: 2.9819e-04 - val_loss: 0.0038\n",
            "Epoch 77/100\n",
            "13/13 [==============================] - 2s 179ms/step - loss: 2.5668e-04 - val_loss: 0.0019\n",
            "Epoch 78/100\n",
            "13/13 [==============================] - 2s 179ms/step - loss: 2.7730e-04 - val_loss: 9.9515e-04\n",
            "Epoch 79/100\n",
            "13/13 [==============================] - 2s 181ms/step - loss: 2.6816e-04 - val_loss: 0.0042\n",
            "Epoch 80/100\n",
            "13/13 [==============================] - 2s 182ms/step - loss: 2.7108e-04 - val_loss: 0.0019\n",
            "Epoch 81/100\n",
            "13/13 [==============================] - 2s 183ms/step - loss: 2.2263e-04 - val_loss: 0.0029\n",
            "Epoch 82/100\n",
            "13/13 [==============================] - 2s 179ms/step - loss: 2.2222e-04 - val_loss: 0.0019\n",
            "Epoch 83/100\n",
            "13/13 [==============================] - 2s 180ms/step - loss: 2.1286e-04 - val_loss: 0.0017\n",
            "Epoch 84/100\n",
            "13/13 [==============================] - 2s 188ms/step - loss: 2.1744e-04 - val_loss: 0.0024\n",
            "Epoch 85/100\n",
            "13/13 [==============================] - 2s 185ms/step - loss: 2.0425e-04 - val_loss: 0.0056\n",
            "Epoch 86/100\n",
            "13/13 [==============================] - 2s 180ms/step - loss: 2.2714e-04 - val_loss: 0.0018\n",
            "Epoch 87/100\n",
            "13/13 [==============================] - 2s 181ms/step - loss: 2.1144e-04 - val_loss: 0.0023\n",
            "Epoch 88/100\n",
            "13/13 [==============================] - 2s 185ms/step - loss: 1.9830e-04 - val_loss: 0.0031\n",
            "Epoch 89/100\n",
            "13/13 [==============================] - 2s 180ms/step - loss: 1.9480e-04 - val_loss: 0.0019\n",
            "Epoch 90/100\n",
            "13/13 [==============================] - 2s 183ms/step - loss: 1.9542e-04 - val_loss: 0.0051\n",
            "Epoch 91/100\n",
            "13/13 [==============================] - 2s 185ms/step - loss: 2.0301e-04 - val_loss: 0.0036\n",
            "Epoch 92/100\n",
            "13/13 [==============================] - 2s 182ms/step - loss: 2.1712e-04 - val_loss: 0.0011\n",
            "Epoch 93/100\n",
            "13/13 [==============================] - 2s 183ms/step - loss: 2.2540e-04 - val_loss: 0.0038\n",
            "Epoch 94/100\n",
            "13/13 [==============================] - 2s 186ms/step - loss: 2.0450e-04 - val_loss: 0.0031\n",
            "Epoch 95/100\n",
            "13/13 [==============================] - 2s 181ms/step - loss: 2.5841e-04 - val_loss: 0.0012\n",
            "Epoch 96/100\n",
            "13/13 [==============================] - 2s 181ms/step - loss: 2.3946e-04 - val_loss: 0.0030\n",
            "Epoch 97/100\n",
            "13/13 [==============================] - 2s 182ms/step - loss: 2.1002e-04 - val_loss: 0.0019\n",
            "Epoch 98/100\n",
            "13/13 [==============================] - 2s 181ms/step - loss: 2.3687e-04 - val_loss: 0.0021\n",
            "Epoch 99/100\n",
            "13/13 [==============================] - 2s 181ms/step - loss: 2.4782e-04 - val_loss: 0.0049\n",
            "Epoch 100/100\n",
            "13/13 [==============================] - 2s 182ms/step - loss: 2.0123e-04 - val_loss: 0.0027\n"
          ]
        },
        {
          "output_type": "execute_result",
          "data": {
            "text/plain": [
              "<keras.callbacks.History at 0x7f41648eb6d0>"
            ]
          },
          "metadata": {},
          "execution_count": 29
        }
      ],
      "source": [
        "#Training model with adam optimizer and mean squared error loss function\n",
        "model.compile(loss='mean_squared_error',optimizer='adam')\n",
        "model.fit(X_train,y_train,validation_data=(X_test,y_test),epochs=100,batch_size=64)"
      ]
    },
    {
      "cell_type": "code",
      "execution_count": 30,
      "id": "18b1ba6a",
      "metadata": {
        "id": "18b1ba6a",
        "outputId": "c80da389-a993-4e8d-bcd1-aaea60fb78f5",
        "colab": {
          "base_uri": "https://localhost:8080/",
          "height": 282
        }
      },
      "outputs": [
        {
          "output_type": "execute_result",
          "data": {
            "text/plain": [
              "[<matplotlib.lines.Line2D at 0x7f4164696ed0>]"
            ]
          },
          "metadata": {},
          "execution_count": 30
        },
        {
          "output_type": "display_data",
          "data": {
            "text/plain": [
              "<Figure size 432x288 with 1 Axes>"
            ],
            "image/png": "[encoded data removed]"
          },
          "metadata": {
            "needs_background": "light"
          }
        }
      ],
      "source": [
        "#PLotting loss, it shows that loss has decreased significantly and model trained well\n",
        "loss = model.history.history['loss']\n",
        "plt.plot(loss)"
      ]
    },
    {
      "cell_type": "code",
      "execution_count": 31,
      "id": "3e7f2fc8",
      "metadata": {
        "id": "3e7f2fc8"
      },
      "outputs": [],
      "source": [
        "#Predicitng on train and test data\n",
        "train_predict = model.predict(X_train)\n",
        "test_predict = model.predict(X_test)"
      ]
    },
    {
      "cell_type": "code",
      "execution_count": 32,
      "id": "c2d6c2d5",
      "metadata": {
        "id": "c2d6c2d5"
      },
      "outputs": [],
      "source": [
        "#Inverse transform to get actual value\n",
        "train_predict = normalizer.inverse_transform(train_predict)\n",
        "test_predict = normalizer.inverse_transform(test_predict)"
      ]
    },
    {
      "cell_type": "code",
      "execution_count": 33,
      "id": "9d0543ad",
      "metadata": {
        "id": "9d0543ad",
        "outputId": "746f7f86-7410-4015-defb-cae88f7e6022",
        "colab": {
          "base_uri": "https://localhost:8080/",
          "height": 282
        }
      },
      "outputs": [
        {
          "output_type": "execute_result",
          "data": {
            "text/plain": [
              "[<matplotlib.lines.Line2D at 0x7f41644b7a10>]"
            ]
          },
          "metadata": {},
          "execution_count": 33
        },
        {
          "output_type": "display_data",
          "data": {
            "text/plain": [
              "<Figure size 432x288 with 1 Axes>"
            ],
            "image/png": "[encoded data removed]"
          },
          "metadata": {
            "needs_background": "light"
          }
        }
      ],
      "source": [
        "#Comparing using visuals\n",
        "plt.plot(normalizer.inverse_transform(ds_scaled))\n",
        "plt.plot(train_predict)\n",
        "plt.plot(test_predict)"
      ]
    },
    {
      "cell_type": "code",
      "execution_count": 34,
      "id": "55300bae",
      "metadata": {
        "id": "55300bae",
        "outputId": "9d1bbf04-7f59-4301-9870-0927dd1a480a",
        "colab": {
          "base_uri": "https://localhost:8080/"
        }
      },
      "outputs": [
        {
          "output_type": "execute_result",
          "data": {
            "text/plain": [
              "numpy.ndarray"
            ]
          },
          "metadata": {},
          "execution_count": 34
        }
      ],
      "source": [
        "type(train_predict)"
      ]
    },
    {
      "cell_type": "code",
      "execution_count": 35,
      "id": "bf6d5613",
      "metadata": {
        "id": "bf6d5613"
      },
      "outputs": [],
      "source": [
        "test = np.vstack((train_predict,test_predict))"
      ]
    },
    {
      "cell_type": "code",
      "execution_count": 36,
      "id": "41b272ff",
      "metadata": {
        "id": "41b272ff",
        "outputId": "efec4e17-93a7-4c06-f181-9870d9af8ef0",
        "colab": {
          "base_uri": "https://localhost:8080/",
          "height": 282
        }
      },
      "outputs": [
        {
          "output_type": "execute_result",
          "data": {
            "text/plain": [
              "[<matplotlib.lines.Line2D at 0x7f416447bf90>]"
            ]
          },
          "metadata": {},
          "execution_count": 36
        },
        {
          "output_type": "display_data",
          "data": {
            "text/plain": [
              "<Figure size 432x288 with 1 Axes>"
            ],
            "image/png": "[encoded data removed]"
          },
          "metadata": {
            "needs_background": "light"
          }
        }
      ],
      "source": [
        "#Combining the predited data to create uniform data visualization\n",
        "plt.plot(normalizer.inverse_transform(ds_scaled))\n",
        "plt.plot(test)"
      ]
    },
    {
      "cell_type": "code",
      "execution_count": 37,
      "id": "16af9283",
      "metadata": {
        "id": "16af9283",
        "outputId": "10cada3a-338b-44be-eb62-4f2aece47afa",
        "colab": {
          "base_uri": "https://localhost:8080/"
        }
      },
      "outputs": [
        {
          "output_type": "execute_result",
          "data": {
            "text/plain": [
              "378"
            ]
          },
          "metadata": {},
          "execution_count": 37
        }
      ],
      "source": [
        "len(ds_test)"
      ]
    },
    {
      "cell_type": "code",
      "execution_count": 38,
      "id": "c13df7b8",
      "metadata": {
        "id": "c13df7b8"
      },
      "outputs": [],
      "source": [
        "#Getting the last 100 days records\n",
        "last_100 = len(ds_test)-100\n",
        "fut_inp = ds_test[last_100:]"
      ]
    },
    {
      "cell_type": "code",
      "execution_count": 39,
      "id": "52b30579",
      "metadata": {
        "id": "52b30579"
      },
      "outputs": [],
      "source": [
        "fut_inp = fut_inp.reshape(1,-1)"
      ]
    },
    {
      "cell_type": "code",
      "execution_count": 40,
      "id": "ac2686a6",
      "metadata": {
        "id": "ac2686a6"
      },
      "outputs": [],
      "source": [
        "tmp_inp = list(fut_inp)"
      ]
    },
    {
      "cell_type": "code",
      "execution_count": 41,
      "id": "dad5024f",
      "metadata": {
        "id": "dad5024f",
        "outputId": "75583534-ca73-42e2-f116-60592baa1299",
        "colab": {
          "base_uri": "https://localhost:8080/"
        }
      },
      "outputs": [
        {
          "output_type": "execute_result",
          "data": {
            "text/plain": [
              "(1, 100)"
            ]
          },
          "metadata": {},
          "execution_count": 41
        }
      ],
      "source": [
        "fut_inp.shape"
      ]
    },
    {
      "cell_type": "code",
      "execution_count": 42,
      "id": "98042a30",
      "metadata": {
        "id": "98042a30"
      },
      "outputs": [],
      "source": [
        "#Creating list of the last 100 data\n",
        "tmp_inp = tmp_inp[0].tolist()"
      ]
    },
    {
      "cell_type": "code",
      "execution_count": 43,
      "id": "44799d02",
      "metadata": {
        "id": "44799d02",
        "outputId": "c38e8f12-1d23-44b9-8146-94bb370a445f",
        "colab": {
          "base_uri": "https://localhost:8080/"
        }
      },
      "outputs": [
        {
          "output_type": "stream",
          "name": "stdout",
          "text": [
            "[[0.8319033980369568], [0.7991958856582642], [0.7562515735626221], [0.7143570780754089], [0.6783904433250427], [0.6500413417816162], [0.6295497417449951], [0.6164284944534302], [0.6098190546035767], [0.6087045669555664], [0.6120427846908569], [0.6188366413116455], [0.6281672120094299], [0.6392039060592651], [0.6512055993080139], [0.6635186076164246], [0.6755761504173279], [0.6868992447853088], [0.6970992684364319], [0.7058807015419006], [0.7130426168441772], [0.7184768319129944], [0.7221621870994568], [0.7241548299789429], [0.7245755791664124], [0.7235935926437378], [0.7214099764823914], [0.7182415723800659], [0.7143058776855469], [0.7098103165626526]]\n"
          ]
        }
      ],
      "source": [
        "#Predicting next 30 days price suing the current data\n",
        "#It will predict in sliding window manner (algorithm) with stride 1\n",
        "lst_output=[]\n",
        "n_steps=100\n",
        "i=0\n",
        "while(i<30):\n",
        "    \n",
        "    if(len(tmp_inp)>100):\n",
        "        fut_inp = np.array(tmp_inp[1:])\n",
        "        fut_inp=fut_inp.reshape(1,-1)\n",
        "        fut_inp = fut_inp.reshape((1, n_steps, 1))\n",
        "        yhat = model.predict(fut_inp, verbose=0)\n",
        "        tmp_inp.extend(yhat[0].tolist())\n",
        "        tmp_inp = tmp_inp[1:]\n",
        "        lst_output.extend(yhat.tolist())\n",
        "        i=i+1\n",
        "    else:\n",
        "        fut_inp = fut_inp.reshape((1, n_steps,1))\n",
        "        yhat = model.predict(fut_inp, verbose=0)\n",
        "        tmp_inp.extend(yhat[0].tolist())\n",
        "        lst_output.extend(yhat.tolist())\n",
        "        i=i+1\n",
        "    \n",
        "\n",
        "print(lst_output)"
      ]
    },
    {
      "cell_type": "code",
      "execution_count": 44,
      "id": "d49a83e5",
      "metadata": {
        "id": "d49a83e5",
        "outputId": "8fe98428-77ce-46da-e843-bca75345fc06",
        "colab": {
          "base_uri": "https://localhost:8080/"
        }
      },
      "outputs": [
        {
          "output_type": "execute_result",
          "data": {
            "text/plain": [
              "1260"
            ]
          },
          "metadata": {},
          "execution_count": 44
        }
      ],
      "source": [
        "len(ds_scaled)"
      ]
    },
    {
      "cell_type": "code",
      "execution_count": 45,
      "id": "49450ea7",
      "metadata": {
        "id": "49450ea7"
      },
      "outputs": [],
      "source": [
        "#Creating a dummy plane to plot graph one after another\n",
        "plot_new=np.arange(1,101)\n",
        "plot_pred=np.arange(101,131)"
      ]
    },
    {
      "cell_type": "code",
      "execution_count": 46,
      "id": "29f84e31",
      "metadata": {
        "id": "29f84e31",
        "outputId": "4ce2c5ec-5cc0-4b2a-edf8-7285d9c0f244",
        "colab": {
          "base_uri": "https://localhost:8080/",
          "height": 282
        }
      },
      "outputs": [
        {
          "output_type": "execute_result",
          "data": {
            "text/plain": [
              "[<matplotlib.lines.Line2D at 0x7f416438f610>]"
            ]
          },
          "metadata": {},
          "execution_count": 46
        },
        {
          "output_type": "display_data",
          "data": {
            "text/plain": [
              "<Figure size 432x288 with 1 Axes>"
            ],
            "image/png": "[encoded data removed]"
          },
          "metadata": {
            "needs_background": "light"
          }
        }
      ],
      "source": [
        "ds_scaled_minus_100 = len(ds_scaled) - 100\n",
        "plt.plot(plot_new, normalizer.inverse_transform(ds_scaled[ds_scaled_minus_100:]))\n",
        "plt.plot(plot_pred, normalizer.inverse_transform(lst_output))"
      ]
    },
    {
      "cell_type": "code",
      "execution_count": 47,
      "id": "e41c9362",
      "metadata": {
        "id": "e41c9362"
      },
      "outputs": [],
      "source": [
        "ds_new = ds_scaled.tolist()"
      ]
    },
    {
      "cell_type": "code",
      "execution_count": 48,
      "id": "d6c8d3c1",
      "metadata": {
        "id": "d6c8d3c1",
        "outputId": "b52788f3-5d9c-4297-d095-57b9b365af84",
        "colab": {
          "base_uri": "https://localhost:8080/"
        }
      },
      "outputs": [
        {
          "output_type": "execute_result",
          "data": {
            "text/plain": [
              "1260"
            ]
          },
          "metadata": {},
          "execution_count": 48
        }
      ],
      "source": [
        "len(ds_new)"
      ]
    },
    {
      "cell_type": "code",
      "execution_count": 49,
      "id": "24e99607",
      "metadata": {
        "id": "24e99607",
        "outputId": "585ba77d-77b7-436a-c2f7-dbc3abda9600",
        "colab": {
          "base_uri": "https://localhost:8080/",
          "height": 282
        }
      },
      "outputs": [
        {
          "output_type": "execute_result",
          "data": {
            "text/plain": [
              "[<matplotlib.lines.Line2D at 0x7f41642a0750>]"
            ]
          },
          "metadata": {},
          "execution_count": 49
        },
        {
          "output_type": "display_data",
          "data": {
            "text/plain": [
              "<Figure size 432x288 with 1 Axes>"
            ],
            "image/png": "[encoded data removed]"
          },
          "metadata": {
            "needs_background": "light"
          }
        }
      ],
      "source": [
        "#Entends helps us to fill the missing value with approx value\n",
        "ds_new.extend(lst_output)\n",
        "plt.plot(ds_new[1200:])"
      ]
    },
    {
      "cell_type": "code",
      "execution_count": 50,
      "id": "7f04f058",
      "metadata": {
        "id": "7f04f058"
      },
      "outputs": [],
      "source": [
        "#Creating final data for plotting\n",
        "final_graph = normalizer.inverse_transform(ds_new).tolist()"
      ]
    },
    {
      "cell_type": "code",
      "execution_count": 51,
      "id": "2dfdef30",
      "metadata": {
        "id": "2dfdef30",
        "outputId": "cd74b533-01c7-440a-b234-82bcaef0a613",
        "colab": {
          "base_uri": "https://localhost:8080/",
          "height": 312
        }
      },
      "outputs": [
        {
          "output_type": "execute_result",
          "data": {
            "text/plain": [
              "<matplotlib.legend.Legend at 0x7f41643c8a90>"
            ]
          },
          "metadata": {},
          "execution_count": 51
        },
        {
          "output_type": "display_data",
          "data": {
            "text/plain": [
              "<Figure size 432x288 with 1 Axes>"
            ],
            "image/png": "[encoded data removed]"
          },
          "metadata": {
            "needs_background": "light"
          }
        }
      ],
      "source": [
        "#Plotting final results with predicted value after 30 Days\n",
        "plt.plot(final_graph,)\n",
        "plt.ylabel(\"Price\")\n",
        "plt.xlabel(\"Time\")\n",
        "plt.title(\"{0} prediction of next month open\".format(stock_symbol))\n",
        "plt.axhline(y=final_graph[len(final_graph)-1], color = 'red', linestyle = ':', label = 'NEXT 30D: {0}'.format(round(float(*final_graph[len(final_graph)-1]),2)))\n",
        "plt.legend()\n",
        "\n"
      ]
    }
  ],
  "metadata": {
    "kernelspec": {
      "display_name": "Python 3",
      "language": "python",
      "name": "python3"
    },
    "language_info": {
      "codemirror_mode": {
        "name": "ipython",
        "version": 3
      },
      "file_extension": ".py",
      "mimetype": "text/x-python",
      "name": "python",
      "nbconvert_exporter": "python",
      "pygments_lexer": "ipython3",
      "version": "3.7.10"
    },
    "colab": {
      "name": "StockPricePredictorVer4.ipynb",
      "provenance": [],
      "collapsed_sections": []
    }
  },
  "nbformat": 4,
  "nbformat_minor": 5
}