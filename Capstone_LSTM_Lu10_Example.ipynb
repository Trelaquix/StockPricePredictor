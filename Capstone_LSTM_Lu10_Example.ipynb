{
  "nbformat": 4,
  "nbformat_minor": 0,
  "metadata": {
    "colab": {
      "name": "Capstone_LSTM_Lu10_Example.ipynb",
      "provenance": [],
      "collapsed_sections": []
    },
    "kernelspec": {
      "name": "python3",
      "display_name": "Python 3"
    },
    "language_info": {
      "name": "python"
    }
  },
  "cells": [
    {
      "cell_type": "code",
      "execution_count": 1,
      "metadata": {
        "colab": {
          "base_uri": "https://localhost:8080/"
        },
        "id": "r_7MedYGFqwC",
        "outputId": "e6c1d2e6-16c8-484c-ea77-fb38c3a61c70"
      },
      "outputs": [
        {
          "output_type": "stream",
          "name": "stdout",
          "text": [
            "Python:  3.7.13 (default, Apr 24 2022, 01:04:09) \n",
            "[GCC 7.5.0]\n",
            "pandas:  1.3.5\n",
            "numpy:  1.21.6\n",
            "seaborn:  0.11.2\n",
            "matplotlib:  3.2.2\n",
            "sklearn:  1.0.2\n",
            "Keras:  2.8.0\n",
            "Tensorflow:  2.8.0\n"
          ]
        }
      ],
      "source": [
        "import keras\n",
        "from keras import optimizers\n",
        "from keras import losses\n",
        "from keras.models import Sequential, Model\n",
        "from keras.layers import Dense, Input, Dropout, Embedding, LSTM\n",
        "# from keras.optimizers.layers import RMSprop, Adam, Nadam\n",
        "from keras.preprocessing import sequence\n",
        "from keras.callbacks import TensorBoard\n",
        "\n",
        "import tensorflow\n",
        "from tensorflow.keras.models import Model\n",
        "from tensorflow.keras.layers import Input, Embedding, Dot, Dense, Flatten\n",
        "from tensorflow.keras.optimizers import SGD, Adam, RMSprop, Adam, Nadam\n",
        "\n",
        "import sklearn\n",
        "from sklearn.preprocessing import StandardScaler\n",
        "from sklearn.model_selection import train_test_split\n",
        "from sklearn.metrics import confusion_matrix, roc_auc_score\n",
        "from sklearn.preprocessing import MinMaxScaler\n",
        "\n",
        "import seaborn as sns\n",
        "import pandas as pd\n",
        "import numpy as np\n",
        "import matplotlib\n",
        "\n",
        "import matplotlib.pyplot as plt\n",
        "import matplotlib.gridspec as gridspec\n",
        "%matplotlib inline\n",
        "\n",
        "import tensorflow \n",
        "import sys\n",
        "print(\"Python: \", sys.version)\n",
        "\n",
        "print(\"pandas: \", pd.__version__)\n",
        "print(\"numpy: \", np.__version__)\n",
        "print(\"seaborn: \", sns.__version__)\n",
        "print(\"matplotlib: \", matplotlib.__version__)\n",
        "print(\"sklearn: \", sklearn.__version__)\n",
        "print(\"Keras: \", keras.__version__)\n",
        "print(\"Tensorflow: \", tensorflow.__version__)"
      ]
    },
    {
      "cell_type": "code",
      "source": [
        "# Mount to google drive if using colab \n",
        "using_colab = 'yes'\n",
        "\n",
        "if using_colab == 'yes':\n",
        "  # mount google drive\n",
        "  from google.colab import drive\n",
        "  drive.mount('/content/drive')\n",
        "\n",
        "  # change working director\n",
        "  %cd \"/content/drive/MyDrive/capstone\"\n",
        "\n",
        "# Load dataset\n",
        "df_appl_until_march = pd.read_csv('appl_until_march.csv')\n",
        "df_appl_april = pd.read_csv(\"appl_april.csv\")\n",
        "merged_df = pd.DataFrame()\n",
        "\n",
        "print('Shape:' , df_appl_until_march.shape[0])\n",
        "print('Head:')\n",
        "print(df_appl_until_march.head(5))"
      ],
      "metadata": {
        "colab": {
          "base_uri": "https://localhost:8080/"
        },
        "id": "KGeatxQRGSz2",
        "outputId": "89beb2fb-1093-4c8a-882c-8d9753075dae"
      },
      "execution_count": 2,
      "outputs": [
        {
          "output_type": "stream",
          "name": "stdout",
          "text": [
            "Drive already mounted at /content/drive; to attempt to forcibly remount, call drive.mount(\"/content/drive\", force_remount=True).\n",
            "/content/drive/MyDrive/capstone\n",
            "Shape: 10400\n",
            "Head:\n",
            "         Date      Open      High       Low     Close  Adj Close    Volume\n",
            "0  1981-01-02  0.154018  0.155134  0.154018  0.154018   0.120391  21660800\n",
            "1  1981-01-05  0.151228  0.151228  0.150670  0.150670   0.117774  35728000\n",
            "2  1981-01-06  0.144531  0.144531  0.143973  0.143973   0.112539  45158400\n",
            "3  1981-01-07  0.138393  0.138393  0.137835  0.137835   0.107741  55686400\n",
            "4  1981-01-08  0.135603  0.135603  0.135045  0.135045   0.105560  39827200\n"
          ]
        }
      ]
    },
    {
      "cell_type": "code",
      "source": [
        "df_appl_until_march = df_appl_until_march.drop('Open', axis=1).drop('High',\n",
        " axis=1).drop('Low', axis=1).drop('Adj Close',axis=1).drop('Volume',axis=1)\n",
        "\n",
        "df_appl_until_march.head()"
      ],
      "metadata": {
        "colab": {
          "base_uri": "https://localhost:8080/",
          "height": 206
        },
        "id": "0y9jE53uJKDh",
        "outputId": "37f69548-a830-488a-cfc6-ba9caa482195"
      },
      "execution_count": 3,
      "outputs": [
        {
          "output_type": "execute_result",
          "data": {
            "text/plain": [
              "         Date     Close\n",
              "0  1981-01-02  0.154018\n",
              "1  1981-01-05  0.150670\n",
              "2  1981-01-06  0.143973\n",
              "3  1981-01-07  0.137835\n",
              "4  1981-01-08  0.135045"
            ],
            "text/html": [
              "\n",
              "  <div id=\"df-968329d8-78b2-4fe3-8670-f0ffacf880b8\">\n",
              "    <div class=\"colab-df-container\">\n",
              "      <div>\n",
              "<style scoped>\n",
              "    .dataframe tbody tr th:only-of-type {\n",
              "        vertical-align: middle;\n",
              "    }\n",
              "\n",
              "    .dataframe tbody tr th {\n",
              "        vertical-align: top;\n",
              "    }\n",
              "\n",
              "    .dataframe thead th {\n",
              "        text-align: right;\n",
              "    }\n",
              "</style>\n",
              "<table border=\"1\" class=\"dataframe\">\n",
              "  <thead>\n",
              "    <tr style=\"text-align: right;\">\n",
              "      <th></th>\n",
              "      <th>Date</th>\n",
              "      <th>Close</th>\n",
              "    </tr>\n",
              "  </thead>\n",
              "  <tbody>\n",
              "    <tr>\n",
              "      <th>0</th>\n",
              "      <td>1981-01-02</td>\n",
              "      <td>0.154018</td>\n",
              "    </tr>\n",
              "    <tr>\n",
              "      <th>1</th>\n",
              "      <td>1981-01-05</td>\n",
              "      <td>0.150670</td>\n",
              "    </tr>\n",
              "    <tr>\n",
              "      <th>2</th>\n",
              "      <td>1981-01-06</td>\n",
              "      <td>0.143973</td>\n",
              "    </tr>\n",
              "    <tr>\n",
              "      <th>3</th>\n",
              "      <td>1981-01-07</td>\n",
              "      <td>0.137835</td>\n",
              "    </tr>\n",
              "    <tr>\n",
              "      <th>4</th>\n",
              "      <td>1981-01-08</td>\n",
              "      <td>0.135045</td>\n",
              "    </tr>\n",
              "  </tbody>\n",
              "</table>\n",
              "</div>\n",
              "      <button class=\"colab-df-convert\" onclick=\"convertToInteractive('df-968329d8-78b2-4fe3-8670-f0ffacf880b8')\"\n",
              "              title=\"Convert this dataframe to an interactive table.\"\n",
              "              style=\"display:none;\">\n",
              "        \n",
              "  <svg xmlns=\"http://www.w3.org/2000/svg\" height=\"24px\"viewBox=\"0 0 24 24\"\n",
              "       width=\"24px\">\n",
              "    <path d=\"M0 0h24v24H0V0z\" fill=\"none\"/>\n",
              "    <path d=\"M18.56 5.44l.94 2.06.94-2.06 2.06-.94-2.06-.94-.94-2.06-.94 2.06-2.06.94zm-11 1L8.5 8.5l.94-2.06 2.06-.94-2.06-.94L8.5 2.5l-.94 2.06-2.06.94zm10 10l.94 2.06.94-2.06 2.06-.94-2.06-.94-.94-2.06-.94 2.06-2.06.94z\"/><path d=\"M17.41 7.96l-1.37-1.37c-.4-.4-.92-.59-1.43-.59-.52 0-1.04.2-1.43.59L10.3 9.45l-7.72 7.72c-.78.78-.78 2.05 0 2.83L4 21.41c.39.39.9.59 1.41.59.51 0 1.02-.2 1.41-.59l7.78-7.78 2.81-2.81c.8-.78.8-2.07 0-2.86zM5.41 20L4 18.59l7.72-7.72 1.47 1.35L5.41 20z\"/>\n",
              "  </svg>\n",
              "      </button>\n",
              "      \n",
              "  <style>\n",
              "    .colab-df-container {\n",
              "      display:flex;\n",
              "      flex-wrap:wrap;\n",
              "      gap: 12px;\n",
              "    }\n",
              "\n",
              "    .colab-df-convert {\n",
              "      background-color: #E8F0FE;\n",
              "      border: none;\n",
              "      border-radius: 50%;\n",
              "      cursor: pointer;\n",
              "      display: none;\n",
              "      fill: #1967D2;\n",
              "      height: 32px;\n",
              "      padding: 0 0 0 0;\n",
              "      width: 32px;\n",
              "    }\n",
              "\n",
              "    .colab-df-convert:hover {\n",
              "      background-color: #E2EBFA;\n",
              "      box-shadow: 0px 1px 2px rgba(60, 64, 67, 0.3), 0px 1px 3px 1px rgba(60, 64, 67, 0.15);\n",
              "      fill: #174EA6;\n",
              "    }\n",
              "\n",
              "    [theme=dark] .colab-df-convert {\n",
              "      background-color: #3B4455;\n",
              "      fill: #D2E3FC;\n",
              "    }\n",
              "\n",
              "    [theme=dark] .colab-df-convert:hover {\n",
              "      background-color: #434B5C;\n",
              "      box-shadow: 0px 1px 3px 1px rgba(0, 0, 0, 0.15);\n",
              "      filter: drop-shadow(0px 1px 2px rgba(0, 0, 0, 0.3));\n",
              "      fill: #FFFFFF;\n",
              "    }\n",
              "  </style>\n",
              "\n",
              "      <script>\n",
              "        const buttonEl =\n",
              "          document.querySelector('#df-968329d8-78b2-4fe3-8670-f0ffacf880b8 button.colab-df-convert');\n",
              "        buttonEl.style.display =\n",
              "          google.colab.kernel.accessAllowed ? 'block' : 'none';\n",
              "\n",
              "        async function convertToInteractive(key) {\n",
              "          const element = document.querySelector('#df-968329d8-78b2-4fe3-8670-f0ffacf880b8');\n",
              "          const dataTable =\n",
              "            await google.colab.kernel.invokeFunction('convertToInteractive',\n",
              "                                                     [key], {});\n",
              "          if (!dataTable) return;\n",
              "\n",
              "          const docLinkHtml = 'Like what you see? Visit the ' +\n",
              "            '<a target=\"_blank\" href=https://colab.research.google.com/notebooks/data_table.ipynb>data table notebook</a>'\n",
              "            + ' to learn more about interactive tables.';\n",
              "          element.innerHTML = '';\n",
              "          dataTable['output_type'] = 'display_data';\n",
              "          await google.colab.output.renderOutput(dataTable, element);\n",
              "          const docLink = document.createElement('div');\n",
              "          docLink.innerHTML = docLinkHtml;\n",
              "          element.appendChild(docLink);\n",
              "        }\n",
              "      </script>\n",
              "    </div>\n",
              "  </div>\n",
              "  "
            ]
          },
          "metadata": {},
          "execution_count": 3
        }
      ]
    },
    {
      "cell_type": "code",
      "source": [
        "print(df_appl_until_march.head(3))\n",
        "df_appl_until_march.shape\n",
        "df_appl_until_march.plot(x='Date', y='Close', figsize=(12,6))\n",
        "plt.xlabel('Date')\n",
        "plt.ylabel('Close')\n",
        "plt.title('Time Series of Close price by date')"
      ],
      "metadata": {
        "colab": {
          "base_uri": "https://localhost:8080/",
          "height": 490
        },
        "id": "Xso_XFu_H82b",
        "outputId": "1e755ac8-db78-4bfd-834b-1bd283d53947"
      },
      "execution_count": 4,
      "outputs": [
        {
          "output_type": "stream",
          "name": "stdout",
          "text": [
            "         Date     Close\n",
            "0  1981-01-02  0.154018\n",
            "1  1981-01-05  0.150670\n",
            "2  1981-01-06  0.143973\n"
          ]
        },
        {
          "output_type": "execute_result",
          "data": {
            "text/plain": [
              "Text(0.5, 1.0, 'Time Series of Close price by date')"
            ]
          },
          "metadata": {},
          "execution_count": 4
        },
        {
          "output_type": "display_data",
          "data": {
            "text/plain": [
              "<Figure size 864x432 with 1 Axes>"
            ],
            "image/png": "[encoded data removed]"
          },
          "metadata": {
            "needs_background": "light"
          }
        }
      ]
    },
    {
      "cell_type": "code",
      "source": [
        "df_appl_until_march.Close.describe()"
      ],
      "metadata": {
        "colab": {
          "base_uri": "https://localhost:8080/"
        },
        "id": "Z3TPxvU_HHCH",
        "outputId": "625a7a12-e8b7-45e7-a4fa-9f074e7ccbc1"
      },
      "execution_count": 5,
      "outputs": [
        {
          "output_type": "execute_result",
          "data": {
            "text/plain": [
              "count    10400.000000\n",
              "mean        14.046659\n",
              "std         30.369018\n",
              "min          0.049107\n",
              "25%          0.283342\n",
              "50%          0.471540\n",
              "75%         14.263482\n",
              "max        182.009995\n",
              "Name: Close, dtype: float64"
            ]
          },
          "metadata": {},
          "execution_count": 5
        }
      ]
    },
    {
      "cell_type": "code",
      "source": [
        "fig, (ax1) = plt.subplots(ncols=1, figsize=(8, 5))\n",
        "ax1.set_title('Before Scaling')\n",
        "sns.kdeplot(df_appl_until_march['Close'], ax=ax1)"
      ],
      "metadata": {
        "colab": {
          "base_uri": "https://localhost:8080/",
          "height": 367
        },
        "id": "P5XDHkqpJit9",
        "outputId": "8923cf27-5c08-4e7e-bfd3-001453488a1d"
      },
      "execution_count": 6,
      "outputs": [
        {
          "output_type": "execute_result",
          "data": {
            "text/plain": [
              "<matplotlib.axes._subplots.AxesSubplot at 0x7fbceca1cd50>"
            ]
          },
          "metadata": {},
          "execution_count": 6
        },
        {
          "output_type": "display_data",
          "data": {
            "text/plain": [
              "<Figure size 576x360 with 1 Axes>"
            ],
            "image/png": "[encoded data removed]"
          },
          "metadata": {
            "needs_background": "light"
          }
        }
      ]
    },
    {
      "cell_type": "code",
      "source": [
        "from sklearn.preprocessing import MinMaxScaler\n",
        "scaler = MinMaxScaler(feature_range = (0, 1))\n",
        "df_appl_until_march['scaled_Close'] = pd.DataFrame(scaler.fit_transform(pd.DataFrame(df_appl_until_march['Close'])),columns=['Close'])\n",
        "print('Shape:' , df_appl_until_march.shape[0])\n",
        "df_appl_until_march.head(5)"
      ],
      "metadata": {
        "colab": {
          "base_uri": "https://localhost:8080/",
          "height": 223
        },
        "id": "8RHVOwbMJx96",
        "outputId": "32dd4660-6d7f-4488-b323-3db31dd60be3"
      },
      "execution_count": 7,
      "outputs": [
        {
          "output_type": "stream",
          "name": "stdout",
          "text": [
            "Shape: 10400\n"
          ]
        },
        {
          "output_type": "execute_result",
          "data": {
            "text/plain": [
              "         Date     Close  scaled_Close\n",
              "0  1981-01-02  0.154018      0.000577\n",
              "1  1981-01-05  0.150670      0.000558\n",
              "2  1981-01-06  0.143973      0.000521\n",
              "3  1981-01-07  0.137835      0.000488\n",
              "4  1981-01-08  0.135045      0.000472"
            ],
            "text/html": [
              "\n",
              "  <div id=\"df-8a9e1b5d-c269-456c-9209-ed6ed72a9eaf\">\n",
              "    <div class=\"colab-df-container\">\n",
              "      <div>\n",
              "<style scoped>\n",
              "    .dataframe tbody tr th:only-of-type {\n",
              "        vertical-align: middle;\n",
              "    }\n",
              "\n",
              "    .dataframe tbody tr th {\n",
              "        vertical-align: top;\n",
              "    }\n",
              "\n",
              "    .dataframe thead th {\n",
              "        text-align: right;\n",
              "    }\n",
              "</style>\n",
              "<table border=\"1\" class=\"dataframe\">\n",
              "  <thead>\n",
              "    <tr style=\"text-align: right;\">\n",
              "      <th></th>\n",
              "      <th>Date</th>\n",
              "      <th>Close</th>\n",
              "      <th>scaled_Close</th>\n",
              "    </tr>\n",
              "  </thead>\n",
              "  <tbody>\n",
              "    <tr>\n",
              "      <th>0</th>\n",
              "      <td>1981-01-02</td>\n",
              "      <td>0.154018</td>\n",
              "      <td>0.000577</td>\n",
              "    </tr>\n",
              "    <tr>\n",
              "      <th>1</th>\n",
              "      <td>1981-01-05</td>\n",
              "      <td>0.150670</td>\n",
              "      <td>0.000558</td>\n",
              "    </tr>\n",
              "    <tr>\n",
              "      <th>2</th>\n",
              "      <td>1981-01-06</td>\n",
              "      <td>0.143973</td>\n",
              "      <td>0.000521</td>\n",
              "    </tr>\n",
              "    <tr>\n",
              "      <th>3</th>\n",
              "      <td>1981-01-07</td>\n",
              "      <td>0.137835</td>\n",
              "      <td>0.000488</td>\n",
              "    </tr>\n",
              "    <tr>\n",
              "      <th>4</th>\n",
              "      <td>1981-01-08</td>\n",
              "      <td>0.135045</td>\n",
              "      <td>0.000472</td>\n",
              "    </tr>\n",
              "  </tbody>\n",
              "</table>\n",
              "</div>\n",
              "      <button class=\"colab-df-convert\" onclick=\"convertToInteractive('df-8a9e1b5d-c269-456c-9209-ed6ed72a9eaf')\"\n",
              "              title=\"Convert this dataframe to an interactive table.\"\n",
              "              style=\"display:none;\">\n",
              "        \n",
              "  <svg xmlns=\"http://www.w3.org/2000/svg\" height=\"24px\"viewBox=\"0 0 24 24\"\n",
              "       width=\"24px\">\n",
              "    <path d=\"M0 0h24v24H0V0z\" fill=\"none\"/>\n",
              "    <path d=\"M18.56 5.44l.94 2.06.94-2.06 2.06-.94-2.06-.94-.94-2.06-.94 2.06-2.06.94zm-11 1L8.5 8.5l.94-2.06 2.06-.94-2.06-.94L8.5 2.5l-.94 2.06-2.06.94zm10 10l.94 2.06.94-2.06 2.06-.94-2.06-.94-.94-2.06-.94 2.06-2.06.94z\"/><path d=\"M17.41 7.96l-1.37-1.37c-.4-.4-.92-.59-1.43-.59-.52 0-1.04.2-1.43.59L10.3 9.45l-7.72 7.72c-.78.78-.78 2.05 0 2.83L4 21.41c.39.39.9.59 1.41.59.51 0 1.02-.2 1.41-.59l7.78-7.78 2.81-2.81c.8-.78.8-2.07 0-2.86zM5.41 20L4 18.59l7.72-7.72 1.47 1.35L5.41 20z\"/>\n",
              "  </svg>\n",
              "      </button>\n",
              "      \n",
              "  <style>\n",
              "    .colab-df-container {\n",
              "      display:flex;\n",
              "      flex-wrap:wrap;\n",
              "      gap: 12px;\n",
              "    }\n",
              "\n",
              "    .colab-df-convert {\n",
              "      background-color: #E8F0FE;\n",
              "      border: none;\n",
              "      border-radius: 50%;\n",
              "      cursor: pointer;\n",
              "      display: none;\n",
              "      fill: #1967D2;\n",
              "      height: 32px;\n",
              "      padding: 0 0 0 0;\n",
              "      width: 32px;\n",
              "    }\n",
              "\n",
              "    .colab-df-convert:hover {\n",
              "      background-color: #E2EBFA;\n",
              "      box-shadow: 0px 1px 2px rgba(60, 64, 67, 0.3), 0px 1px 3px 1px rgba(60, 64, 67, 0.15);\n",
              "      fill: #174EA6;\n",
              "    }\n",
              "\n",
              "    [theme=dark] .colab-df-convert {\n",
              "      background-color: #3B4455;\n",
              "      fill: #D2E3FC;\n",
              "    }\n",
              "\n",
              "    [theme=dark] .colab-df-convert:hover {\n",
              "      background-color: #434B5C;\n",
              "      box-shadow: 0px 1px 3px 1px rgba(0, 0, 0, 0.15);\n",
              "      filter: drop-shadow(0px 1px 2px rgba(0, 0, 0, 0.3));\n",
              "      fill: #FFFFFF;\n",
              "    }\n",
              "  </style>\n",
              "\n",
              "      <script>\n",
              "        const buttonEl =\n",
              "          document.querySelector('#df-8a9e1b5d-c269-456c-9209-ed6ed72a9eaf button.colab-df-convert');\n",
              "        buttonEl.style.display =\n",
              "          google.colab.kernel.accessAllowed ? 'block' : 'none';\n",
              "\n",
              "        async function convertToInteractive(key) {\n",
              "          const element = document.querySelector('#df-8a9e1b5d-c269-456c-9209-ed6ed72a9eaf');\n",
              "          const dataTable =\n",
              "            await google.colab.kernel.invokeFunction('convertToInteractive',\n",
              "                                                     [key], {});\n",
              "          if (!dataTable) return;\n",
              "\n",
              "          const docLinkHtml = 'Like what you see? Visit the ' +\n",
              "            '<a target=\"_blank\" href=https://colab.research.google.com/notebooks/data_table.ipynb>data table notebook</a>'\n",
              "            + ' to learn more about interactive tables.';\n",
              "          element.innerHTML = '';\n",
              "          dataTable['output_type'] = 'display_data';\n",
              "          await google.colab.output.renderOutput(dataTable, element);\n",
              "          const docLink = document.createElement('div');\n",
              "          docLink.innerHTML = docLinkHtml;\n",
              "          element.appendChild(docLink);\n",
              "        }\n",
              "      </script>\n",
              "    </div>\n",
              "  </div>\n",
              "  "
            ]
          },
          "metadata": {},
          "execution_count": 7
        }
      ]
    },
    {
      "cell_type": "code",
      "source": [
        "fig, (ax1) = plt.subplots(ncols=1, figsize=(8, 5))\n",
        "ax1.set_title('After Scaling')\n",
        "sns.kdeplot(df_appl_until_march['scaled_Close'], ax=ax1)"
      ],
      "metadata": {
        "colab": {
          "base_uri": "https://localhost:8080/",
          "height": 368
        },
        "id": "WdA0zuC-KCgy",
        "outputId": "42575638-cf84-4b8c-8f75-df4744c7c3e2"
      },
      "execution_count": 8,
      "outputs": [
        {
          "output_type": "execute_result",
          "data": {
            "text/plain": [
              "<matplotlib.axes._subplots.AxesSubplot at 0x7fbce734c110>"
            ]
          },
          "metadata": {},
          "execution_count": 8
        },
        {
          "output_type": "display_data",
          "data": {
            "text/plain": [
              "<Figure size 576x360 with 1 Axes>"
            ],
            "image/png": "[encoded data removed]"
          },
          "metadata": {
            "needs_background": "light"
          }
        }
      ]
    },
    {
      "cell_type": "code",
      "source": [
        "time_steps = 40\n",
        "metric = 'mean_absolute_error'\n",
        "\n",
        "model = Sequential()\n",
        "model.add(LSTM(units=32, activation='tanh', input_shape=(time_steps, 1), return_sequences=True))\n",
        "\n",
        "model.add(Dense(1, activation='sigmoid'))\n",
        "\n",
        "model.compile(optimizer='adam', loss='mean_absolute_error', metrics=[metric])\n",
        "print(model.summary())"
      ],
      "metadata": {
        "colab": {
          "base_uri": "https://localhost:8080/"
        },
        "id": "RWg7aVtaKM8v",
        "outputId": "86a7c509-9971-418d-a8e6-3e023854c277"
      },
      "execution_count": 9,
      "outputs": [
        {
          "output_type": "stream",
          "name": "stdout",
          "text": [
            "Model: \"sequential\"\n",
            "_________________________________________________________________\n",
            " Layer (type)                Output Shape              Param #   \n",
            "=================================================================\n",
            " lstm (LSTM)                 (None, 40, 32)            4352      \n",
            "                                                                 \n",
            " dense (Dense)               (None, 40, 1)             33        \n",
            "                                                                 \n",
            "=================================================================\n",
            "Total params: 4,385\n",
            "Trainable params: 4,385\n",
            "Non-trainable params: 0\n",
            "_________________________________________________________________\n",
            "None\n"
          ]
        }
      ]
    },
    {
      "cell_type": "code",
      "source": [
        "# Split the sequence into a tumbling window of sub-seuences of length 48\n",
        "\n",
        "sequence = np.array(df_appl_until_march['scaled_Close'])\n",
        "print(sequence)\n",
        "time_steps = 40\n",
        "samples = len(sequence)\n",
        "trim = samples % time_steps\n",
        "subsequences = int(samples/time_steps)\n",
        "sequence_trimmed = sequence[:samples - trim]\n",
        "\n",
        "print(samples, subsequences)\n",
        "sequence_trimmed.shape = (subsequences, time_steps, 1)\n",
        "print(sequence_trimmed.shape)"
      ],
      "metadata": {
        "colab": {
          "base_uri": "https://localhost:8080/"
        },
        "id": "R2ChfHEkKP0t",
        "outputId": "2d017867-710e-4cc1-9e64-dd0615380e3a"
      },
      "execution_count": 10,
      "outputs": [
        {
          "output_type": "stream",
          "name": "stdout",
          "text": [
            "[5.76557969e-04 5.58158410e-04 5.21353798e-04 ... 9.64772710e-01\n",
            " 9.83238222e-01 9.76698339e-01]\n",
            "10400 260\n",
            "(260, 40, 1)\n"
          ]
        }
      ]
    },
    {
      "cell_type": "code",
      "source": [
        "training_dataset = sequence_trimmed\n",
        "training_dataset.shape"
      ],
      "metadata": {
        "colab": {
          "base_uri": "https://localhost:8080/"
        },
        "id": "kuBqQwmhhqOh",
        "outputId": "115a04e4-3c6c-4d7a-f310-089da1fcedf5"
      },
      "execution_count": 11,
      "outputs": [
        {
          "output_type": "execute_result",
          "data": {
            "text/plain": [
              "(260, 40, 1)"
            ]
          },
          "metadata": {},
          "execution_count": 11
        }
      ]
    },
    {
      "cell_type": "code",
      "source": [
        "# Train model for 20 epochs\n",
        "\n",
        "training_dataset = sequence_trimmed\n",
        "print(\"training_dataset: \", training_dataset.shape)\n",
        "\n",
        "batch_size=32\n",
        "epochs=20\n",
        "\n",
        "model.fit(x=training_dataset, y=training_dataset,\n",
        "                       batch_size=batch_size, epochs=epochs,\n",
        "                       verbose=1, validation_data=(training_dataset, training_dataset))"
      ],
      "metadata": {
        "colab": {
          "base_uri": "https://localhost:8080/"
        },
        "id": "JVa3CBphc3rh",
        "outputId": "8b720372-761a-4e82-9997-96bb989ea31d"
      },
      "execution_count": 12,
      "outputs": [
        {
          "output_type": "stream",
          "name": "stdout",
          "text": [
            "training_dataset:  (260, 40, 1)\n",
            "Epoch 1/20\n",
            "9/9 [==============================] - 6s 174ms/step - loss: 0.4394 - mean_absolute_error: 0.4394 - val_loss: 0.4301 - val_mean_absolute_error: 0.4301\n",
            "Epoch 2/20\n",
            "9/9 [==============================] - 0s 56ms/step - loss: 0.4225 - mean_absolute_error: 0.4225 - val_loss: 0.4071 - val_mean_absolute_error: 0.4071\n",
            "Epoch 3/20\n",
            "9/9 [==============================] - 0s 39ms/step - loss: 0.3900 - mean_absolute_error: 0.3900 - val_loss: 0.3519 - val_mean_absolute_error: 0.3519\n",
            "Epoch 4/20\n",
            "9/9 [==============================] - 0s 42ms/step - loss: 0.2926 - mean_absolute_error: 0.2926 - val_loss: 0.1861 - val_mean_absolute_error: 0.1861\n",
            "Epoch 5/20\n",
            "9/9 [==============================] - 0s 39ms/step - loss: 0.1534 - mean_absolute_error: 0.1534 - val_loss: 0.1299 - val_mean_absolute_error: 0.1299\n",
            "Epoch 6/20\n",
            "9/9 [==============================] - 0s 37ms/step - loss: 0.1236 - mean_absolute_error: 0.1236 - val_loss: 0.1166 - val_mean_absolute_error: 0.1166\n",
            "Epoch 7/20\n",
            "9/9 [==============================] - 0s 37ms/step - loss: 0.1141 - mean_absolute_error: 0.1141 - val_loss: 0.1110 - val_mean_absolute_error: 0.1110\n",
            "Epoch 8/20\n",
            "9/9 [==============================] - 0s 46ms/step - loss: 0.1097 - mean_absolute_error: 0.1097 - val_loss: 0.1080 - val_mean_absolute_error: 0.1080\n",
            "Epoch 9/20\n",
            "9/9 [==============================] - 0s 45ms/step - loss: 0.1071 - mean_absolute_error: 0.1071 - val_loss: 0.1060 - val_mean_absolute_error: 0.1060\n",
            "Epoch 10/20\n",
            "9/9 [==============================] - 0s 43ms/step - loss: 0.1053 - mean_absolute_error: 0.1053 - val_loss: 0.1044 - val_mean_absolute_error: 0.1044\n",
            "Epoch 11/20\n",
            "9/9 [==============================] - 0s 38ms/step - loss: 0.1038 - mean_absolute_error: 0.1038 - val_loss: 0.1030 - val_mean_absolute_error: 0.1030\n",
            "Epoch 12/20\n",
            "9/9 [==============================] - 0s 39ms/step - loss: 0.1025 - mean_absolute_error: 0.1025 - val_loss: 0.1018 - val_mean_absolute_error: 0.1018\n",
            "Epoch 13/20\n",
            "9/9 [==============================] - 1s 60ms/step - loss: 0.1013 - mean_absolute_error: 0.1013 - val_loss: 0.1007 - val_mean_absolute_error: 0.1007\n",
            "Epoch 14/20\n",
            "9/9 [==============================] - 0s 41ms/step - loss: 0.1003 - mean_absolute_error: 0.1003 - val_loss: 0.0997 - val_mean_absolute_error: 0.0997\n",
            "Epoch 15/20\n",
            "9/9 [==============================] - 0s 40ms/step - loss: 0.0993 - mean_absolute_error: 0.0993 - val_loss: 0.0988 - val_mean_absolute_error: 0.0988\n",
            "Epoch 16/20\n",
            "9/9 [==============================] - 0s 43ms/step - loss: 0.0984 - mean_absolute_error: 0.0984 - val_loss: 0.0979 - val_mean_absolute_error: 0.0979\n",
            "Epoch 17/20\n",
            "9/9 [==============================] - 0s 43ms/step - loss: 0.0976 - mean_absolute_error: 0.0976 - val_loss: 0.0971 - val_mean_absolute_error: 0.0971\n",
            "Epoch 18/20\n",
            "9/9 [==============================] - 1s 70ms/step - loss: 0.0968 - mean_absolute_error: 0.0968 - val_loss: 0.0963 - val_mean_absolute_error: 0.0963\n",
            "Epoch 19/20\n",
            "9/9 [==============================] - 0s 51ms/step - loss: 0.0960 - mean_absolute_error: 0.0960 - val_loss: 0.0956 - val_mean_absolute_error: 0.0956\n",
            "Epoch 20/20\n",
            "9/9 [==============================] - 1s 118ms/step - loss: 0.0953 - mean_absolute_error: 0.0953 - val_loss: 0.0949 - val_mean_absolute_error: 0.0949\n"
          ]
        },
        {
          "output_type": "execute_result",
          "data": {
            "text/plain": [
              "<keras.callbacks.History at 0x7fbce2ffafd0>"
            ]
          },
          "metadata": {},
          "execution_count": 12
        }
      ]
    },
    {
      "cell_type": "code",
      "source": [
        "# Predict test dataset that was split into subseqeunecs\n",
        "# of the same length (time_steps) as the training datasets.\n",
        "\n",
        "import math\n",
        "from sklearn.metrics import mean_squared_error\n",
        "\n",
        "sequence = np.array(df_appl_until_march['scaled_Close'])\n",
        "print(sequence)\n",
        "time_steps = 40\n",
        "samples = len(sequence)\n",
        "trim = samples % time_steps\n",
        "subsequences = int(samples/time_steps)\n",
        "sequence_trimmed = sequence[:samples - trim]\n",
        "\n",
        "print(samples, subsequences)\n",
        "sequence_trimmed.shape = (subsequences, time_steps, 1)\n",
        "print(sequence_trimmed.shape)\n",
        "\n",
        "testing_dataset = sequence_trimmed\n",
        "print(\"testing_dataset: \", testing_dataset.shape)\n",
        "\n",
        "testing_pred = model.predict(x=testing_dataset)\n",
        "print(\"testing_pred: \", testing_pred.shape)\n",
        "\n",
        "testing_dataset = testing_dataset.reshape((testing_dataset.shape[0]*testing_dataset.shape[1]), testing_dataset.shape[2])\n",
        "print(\"testing_dataset: \", testing_dataset.shape)\n",
        "\n",
        "testing_pred = testing_pred.reshape((testing_pred.shape[0]*testing_pred.shape[1]), testing_pred.shape[2])\n",
        "print(\"testing_pred: \", testing_pred.shape)\n",
        "errorsDF = testing_dataset - testing_pred\n",
        "print(errorsDF.shape)\n",
        "\n",
        "# Compute rmse\n",
        "rmse = math.sqrt(mean_squared_error(testing_dataset, testing_pred))\n",
        "print('Test RMSE: %.3f' % rmse)"
      ],
      "metadata": {
        "colab": {
          "base_uri": "https://localhost:8080/"
        },
        "id": "OO9RNhFudTxH",
        "outputId": "9bf40b91-ec5f-48d2-9743-721dd7f7325d"
      },
      "execution_count": 13,
      "outputs": [
        {
          "output_type": "stream",
          "name": "stdout",
          "text": [
            "[5.76557969e-04 5.58158410e-04 5.21353798e-04 ... 9.64772710e-01\n",
            " 9.83238222e-01 9.76698339e-01]\n",
            "10400 260\n",
            "(260, 40, 1)\n",
            "testing_dataset:  (260, 40, 1)\n",
            "testing_pred:  (260, 40, 1)\n",
            "testing_dataset:  (10400, 1)\n",
            "testing_pred:  (10400, 1)\n",
            "(10400, 1)\n",
            "Test RMSE: 0.194\n"
          ]
        }
      ]
    },
    {
      "cell_type": "code",
      "source": [
        "print(testing_dataset.shape)"
      ],
      "metadata": {
        "colab": {
          "base_uri": "https://localhost:8080/"
        },
        "id": "s7DHDrq7r5XN",
        "outputId": "5fcdf293-6453-463f-da8a-5e97d3ac7344"
      },
      "execution_count": 14,
      "outputs": [
        {
          "output_type": "stream",
          "name": "stdout",
          "text": [
            "(10400, 1)\n"
          ]
        }
      ]
    },
    {
      "cell_type": "code",
      "source": [
        "# RMSE is 0.107 which is quite low, and this is also evident \n",
        "# from the low loss from the training phase after 20 epochs.\n",
        "\n",
        "# Now we can use the predicted dataset and the test dataset to compute \n",
        "# the difference as diff, which is then passed through vector norms. \n",
        "# Calculating the length or magnitude of vectors is often required directly \n",
        "# as a regularization method in machine learning. We can then sort \n",
        "# the scores/diffs and use a curoff value to pick the threshold. \n",
        "# This obviously can change as per the paramters you choose, particularly \n",
        "# the cutoff value (which is 0.99).\n",
        "\n",
        "# based on cutoff after sorting errors\n",
        "dist = np.linalg.norm(testing_dataset - testing_pred, axis=-1)\n",
        "\n",
        "scores =dist.copy()\n",
        "print(scores.shape)\n",
        "scores.sort()\n",
        "cutoff = int(0.999 * len(scores))\n",
        "print(cutoff)\n",
        "#print(scores[cutoff:])\n",
        "threshold= scores[cutoff]\n",
        "print(threshold)"
      ],
      "metadata": {
        "colab": {
          "base_uri": "https://localhost:8080/"
        },
        "id": "MZZ8bQh_r7Tx",
        "outputId": "edcec824-a124-4de2-c551-434823447266"
      },
      "execution_count": 15,
      "outputs": [
        {
          "output_type": "stream",
          "name": "stdout",
          "text": [
            "(10400,)\n",
            "10389\n",
            "0.9644763853449119\n"
          ]
        }
      ]
    },
    {
      "cell_type": "code",
      "source": [
        "# I got 0.965 as the threshold. Anything above will be considered an anomaly. \n",
        "# We plot the testing dataset (Green) and the correspindong predicted data set (red)\n",
        "\n",
        "plt.figure(figsize=(24,16))\n",
        "plt.plot(testing_dataset, color='green')\n",
        "plt.plot(testing_pred, color='red')"
      ],
      "metadata": {
        "colab": {
          "base_uri": "https://localhost:8080/",
          "height": 708
        },
        "id": "fZZjsLapsChZ",
        "outputId": "c9d8fa00-ab57-4c21-9a93-b76f0f586653"
      },
      "execution_count": 16,
      "outputs": [
        {
          "output_type": "execute_result",
          "data": {
            "text/plain": [
              "[<matplotlib.lines.Line2D at 0x7fbcee51ca90>]"
            ]
          },
          "metadata": {},
          "execution_count": 16
        },
        {
          "output_type": "display_data",
          "data": {
            "text/plain": [
              "<Figure size 1728x1152 with 1 Axes>"
            ],
            "image/png": "[encoded data removed]"
          },
          "metadata": {
            "needs_background": "light"
          }
        }
      ]
    },
    {
      "cell_type": "code",
      "source": [
        "#label the records anomalies or not based on threshold\n",
        "z = zip(dist >= threshold, dist)\n",
        "\n",
        "y_label=[]\n",
        "error = []\n",
        "for idx, (is_anomaly, dist) in enumerate(z):\n",
        "    if is_anomaly:\n",
        "        y_label.append(1)\n",
        "    else:\n",
        "        y_label.append(0)\n",
        "    error.append(dist)\n",
        "    "
      ],
      "metadata": {
        "id": "xcOGUBTcs7zq"
      },
      "execution_count": 17,
      "outputs": []
    },
    {
      "cell_type": "code",
      "source": [
        "print(len(df_appl_until_march['Date']))\n",
        "print(len(df_appl_until_march['Close']))\n",
        "print(len(error))\n",
        "print(len(y_label))"
      ],
      "metadata": {
        "colab": {
          "base_uri": "https://localhost:8080/"
        },
        "id": "TzrBu8-8u72T",
        "outputId": "4f8c8ec0-691f-4c61-8747-d9ab708c75f2"
      },
      "execution_count": 18,
      "outputs": [
        {
          "output_type": "stream",
          "name": "stdout",
          "text": [
            "10400\n",
            "10400\n",
            "10400\n",
            "10400\n"
          ]
        }
      ]
    },
    {
      "cell_type": "code",
      "source": [
        "groupsDF = pd.DataFrame({'error': error, 'true': y_label}).groupby('true')\n",
        "\n",
        "figure, axes = plt.subplots(figsize=(12, 8))\n",
        "\n",
        "for name, group in groupsDF:\n",
        "    axes.plot(group.index, group.error, marker='x' if name == 1 else 'o', linestyle='',\n",
        "        color='r' if name == 1 else 'g', label=\"Anomaly\" if name == 1 else \"Normal\")\n",
        "\n",
        "axes.hlines(threshold, axes.get_xlim()[0], axes.get_xlim()[1], colors=\"b\", zorder=100, label='Threshold')\n",
        "axes.legend()\n",
        "        \n",
        "plt.title(\"Anomalies\")\n",
        "plt.ylabel(\"Error\")\n",
        "plt.xlabel(\"Data\")\n",
        "plt.show()"
      ],
      "metadata": {
        "colab": {
          "base_uri": "https://localhost:8080/",
          "height": 512
        },
        "id": "_Mxdb7cVs8TH",
        "outputId": "1f82a23f-f2f9-4df9-cbdb-4ef25de7452c"
      },
      "execution_count": 19,
      "outputs": [
        {
          "output_type": "display_data",
          "data": {
            "text/plain": [
              "<Figure size 864x576 with 1 Axes>"
            ],
            "image/png": "[encoded data removed]"
          },
          "metadata": {
            "needs_background": "light"
          }
        }
      ]
    },
    {
      "cell_type": "code",
      "source": [
        "adf = pd.DataFrame({'Date': df_appl_until_march['Date'], 'observation': df_appl_until_march['Close'],\n",
        "                    'error': error, 'anomaly': y_label})\n",
        "adf.head(5)"
      ],
      "metadata": {
        "colab": {
          "base_uri": "https://localhost:8080/",
          "height": 206
        },
        "id": "iOgsRqZws_Xz",
        "outputId": "ebdc002c-8bc5-48c2-cb12-4010122379e0"
      },
      "execution_count": 20,
      "outputs": [
        {
          "output_type": "execute_result",
          "data": {
            "text/plain": [
              "         Date  observation     error  anomaly\n",
              "0  1981-01-02     0.154018  0.424746        0\n",
              "1  1981-01-05     0.150670  0.349203        0\n",
              "2  1981-01-06     0.143973  0.253206        0\n",
              "3  1981-01-07     0.137835  0.146685        0\n",
              "4  1981-01-08     0.135045  0.059250        0"
            ],
            "text/html": [
              "\n",
              "  <div id=\"df-f4518ebb-3297-4021-9219-cbf3d8892f30\">\n",
              "    <div class=\"colab-df-container\">\n",
              "      <div>\n",
              "<style scoped>\n",
              "    .dataframe tbody tr th:only-of-type {\n",
              "        vertical-align: middle;\n",
              "    }\n",
              "\n",
              "    .dataframe tbody tr th {\n",
              "        vertical-align: top;\n",
              "    }\n",
              "\n",
              "    .dataframe thead th {\n",
              "        text-align: right;\n",
              "    }\n",
              "</style>\n",
              "<table border=\"1\" class=\"dataframe\">\n",
              "  <thead>\n",
              "    <tr style=\"text-align: right;\">\n",
              "      <th></th>\n",
              "      <th>Date</th>\n",
              "      <th>observation</th>\n",
              "      <th>error</th>\n",
              "      <th>anomaly</th>\n",
              "    </tr>\n",
              "  </thead>\n",
              "  <tbody>\n",
              "    <tr>\n",
              "      <th>0</th>\n",
              "      <td>1981-01-02</td>\n",
              "      <td>0.154018</td>\n",
              "      <td>0.424746</td>\n",
              "      <td>0</td>\n",
              "    </tr>\n",
              "    <tr>\n",
              "      <th>1</th>\n",
              "      <td>1981-01-05</td>\n",
              "      <td>0.150670</td>\n",
              "      <td>0.349203</td>\n",
              "      <td>0</td>\n",
              "    </tr>\n",
              "    <tr>\n",
              "      <th>2</th>\n",
              "      <td>1981-01-06</td>\n",
              "      <td>0.143973</td>\n",
              "      <td>0.253206</td>\n",
              "      <td>0</td>\n",
              "    </tr>\n",
              "    <tr>\n",
              "      <th>3</th>\n",
              "      <td>1981-01-07</td>\n",
              "      <td>0.137835</td>\n",
              "      <td>0.146685</td>\n",
              "      <td>0</td>\n",
              "    </tr>\n",
              "    <tr>\n",
              "      <th>4</th>\n",
              "      <td>1981-01-08</td>\n",
              "      <td>0.135045</td>\n",
              "      <td>0.059250</td>\n",
              "      <td>0</td>\n",
              "    </tr>\n",
              "  </tbody>\n",
              "</table>\n",
              "</div>\n",
              "      <button class=\"colab-df-convert\" onclick=\"convertToInteractive('df-f4518ebb-3297-4021-9219-cbf3d8892f30')\"\n",
              "              title=\"Convert this dataframe to an interactive table.\"\n",
              "              style=\"display:none;\">\n",
              "        \n",
              "  <svg xmlns=\"http://www.w3.org/2000/svg\" height=\"24px\"viewBox=\"0 0 24 24\"\n",
              "       width=\"24px\">\n",
              "    <path d=\"M0 0h24v24H0V0z\" fill=\"none\"/>\n",
              "    <path d=\"M18.56 5.44l.94 2.06.94-2.06 2.06-.94-2.06-.94-.94-2.06-.94 2.06-2.06.94zm-11 1L8.5 8.5l.94-2.06 2.06-.94-2.06-.94L8.5 2.5l-.94 2.06-2.06.94zm10 10l.94 2.06.94-2.06 2.06-.94-2.06-.94-.94-2.06-.94 2.06-2.06.94z\"/><path d=\"M17.41 7.96l-1.37-1.37c-.4-.4-.92-.59-1.43-.59-.52 0-1.04.2-1.43.59L10.3 9.45l-7.72 7.72c-.78.78-.78 2.05 0 2.83L4 21.41c.39.39.9.59 1.41.59.51 0 1.02-.2 1.41-.59l7.78-7.78 2.81-2.81c.8-.78.8-2.07 0-2.86zM5.41 20L4 18.59l7.72-7.72 1.47 1.35L5.41 20z\"/>\n",
              "  </svg>\n",
              "      </button>\n",
              "      \n",
              "  <style>\n",
              "    .colab-df-container {\n",
              "      display:flex;\n",
              "      flex-wrap:wrap;\n",
              "      gap: 12px;\n",
              "    }\n",
              "\n",
              "    .colab-df-convert {\n",
              "      background-color: #E8F0FE;\n",
              "      border: none;\n",
              "      border-radius: 50%;\n",
              "      cursor: pointer;\n",
              "      display: none;\n",
              "      fill: #1967D2;\n",
              "      height: 32px;\n",
              "      padding: 0 0 0 0;\n",
              "      width: 32px;\n",
              "    }\n",
              "\n",
              "    .colab-df-convert:hover {\n",
              "      background-color: #E2EBFA;\n",
              "      box-shadow: 0px 1px 2px rgba(60, 64, 67, 0.3), 0px 1px 3px 1px rgba(60, 64, 67, 0.15);\n",
              "      fill: #174EA6;\n",
              "    }\n",
              "\n",
              "    [theme=dark] .colab-df-convert {\n",
              "      background-color: #3B4455;\n",
              "      fill: #D2E3FC;\n",
              "    }\n",
              "\n",
              "    [theme=dark] .colab-df-convert:hover {\n",
              "      background-color: #434B5C;\n",
              "      box-shadow: 0px 1px 3px 1px rgba(0, 0, 0, 0.15);\n",
              "      filter: drop-shadow(0px 1px 2px rgba(0, 0, 0, 0.3));\n",
              "      fill: #FFFFFF;\n",
              "    }\n",
              "  </style>\n",
              "\n",
              "      <script>\n",
              "        const buttonEl =\n",
              "          document.querySelector('#df-f4518ebb-3297-4021-9219-cbf3d8892f30 button.colab-df-convert');\n",
              "        buttonEl.style.display =\n",
              "          google.colab.kernel.accessAllowed ? 'block' : 'none';\n",
              "\n",
              "        async function convertToInteractive(key) {\n",
              "          const element = document.querySelector('#df-f4518ebb-3297-4021-9219-cbf3d8892f30');\n",
              "          const dataTable =\n",
              "            await google.colab.kernel.invokeFunction('convertToInteractive',\n",
              "                                                     [key], {});\n",
              "          if (!dataTable) return;\n",
              "\n",
              "          const docLinkHtml = 'Like what you see? Visit the ' +\n",
              "            '<a target=\"_blank\" href=https://colab.research.google.com/notebooks/data_table.ipynb>data table notebook</a>'\n",
              "            + ' to learn more about interactive tables.';\n",
              "          element.innerHTML = '';\n",
              "          dataTable['output_type'] = 'display_data';\n",
              "          await google.colab.output.renderOutput(dataTable, element);\n",
              "          const docLink = document.createElement('div');\n",
              "          docLink.innerHTML = docLinkHtml;\n",
              "          element.appendChild(docLink);\n",
              "        }\n",
              "      </script>\n",
              "    </div>\n",
              "  </div>\n",
              "  "
            ]
          },
          "metadata": {},
          "execution_count": 20
        }
      ]
    },
    {
      "cell_type": "code",
      "source": [
        "print(len(df_appl_until_march['Date']))\n",
        "print(len(df_appl_until_march['Close']))\n",
        "print(len(error))\n",
        "print(len(y_label))"
      ],
      "metadata": {
        "colab": {
          "base_uri": "https://localhost:8080/"
        },
        "id": "-gKT7ioztzW4",
        "outputId": "12ae8861-60b3-4ec7-c280-c0b31b9d136c"
      },
      "execution_count": 21,
      "outputs": [
        {
          "output_type": "stream",
          "name": "stdout",
          "text": [
            "10400\n",
            "10400\n",
            "10400\n",
            "10400\n"
          ]
        }
      ]
    },
    {
      "cell_type": "code",
      "source": [
        "figure, axes = plt.subplots(figsize=(12, 6))\n",
        "axes.plot(adf['Date'], adf['observation'], color='g')\n",
        "anomaliesDF = adf.query('anomaly == 1')\n",
        "axes.scatter(anomaliesDF['Date'].values, anomaliesDF['observation'], color='r')\n",
        "plt.xlabel('Date time')\n",
        "plt.ylabel('observation')\n",
        "plt.title('Time Series of value by date time')"
      ],
      "metadata": {
        "colab": {
          "base_uri": "https://localhost:8080/",
          "height": 421
        },
        "id": "WCbaf2zCtS-x",
        "outputId": "c25e7389-4b06-4fc8-8a21-5f5ef7d68229"
      },
      "execution_count": 24,
      "outputs": [
        {
          "output_type": "execute_result",
          "data": {
            "text/plain": [
              "Text(0.5, 1.0, 'Time Series of value by date time')"
            ]
          },
          "metadata": {},
          "execution_count": 24
        },
        {
          "output_type": "display_data",
          "data": {
            "text/plain": [
              "<Figure size 864x432 with 1 Axes>"
            ],
            "image/png": "[encoded data removed]"
          },
          "metadata": {
            "needs_background": "light"
          }
        }
      ]
    }
  ]
}