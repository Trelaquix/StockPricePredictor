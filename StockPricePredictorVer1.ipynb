{
  "nbformat": 4,
  "nbformat_minor": 0,
  "metadata": {
    "colab": {
      "name": "StockPricePredictor.ipynb",
      "provenance": [],
      "collapsed_sections": []
    },
    "kernelspec": {
      "name": "python3",
      "display_name": "Python 3"
    },
    "language_info": {
      "name": "python"
    }
  },
  "cells": [
    {
      "cell_type": "code",
      "execution_count": 51,
      "metadata": {
        "colab": {
          "base_uri": "https://localhost:8080/",
          "height": 472
        },
        "id": "Sd-JlrKinQZy",
        "outputId": "caf34978-0442-414a-bf84-31bc29403270"
      },
      "outputs": [
        {
          "output_type": "stream",
          "name": "stdout",
          "text": [
            "\r[*********************100%***********************]  1 of 1 completed\n"
          ]
        },
        {
          "output_type": "execute_result",
          "data": {
            "text/plain": [
              "                   Open         High          Low        Close    Adj Close  \\\n",
              "Date                                                                          \n",
              "2017-04-06    59.375999    60.388000    58.820000    59.740002    59.740002   \n",
              "2017-04-07    59.500000    60.537998    59.430000    60.507999    60.507999   \n",
              "2017-04-10    61.830002    62.745998    61.742001    62.478001    62.478001   \n",
              "2017-04-11    62.675999    62.694000    61.099998    61.742001    61.742001   \n",
              "2017-04-12    61.268002    61.689999    59.264000    59.368000    59.368000   \n",
              "...                 ...          ...          ...          ...          ...   \n",
              "2022-03-30  1091.170044  1113.949951  1084.000000  1093.989990  1093.989990   \n",
              "2022-03-31  1094.569946  1103.140015  1076.640015  1077.599976  1077.599976   \n",
              "2022-04-01  1081.150024  1094.750000  1066.640015  1084.589966  1084.589966   \n",
              "2022-04-04  1089.380005  1149.910034  1072.530029  1145.449951  1145.449951   \n",
              "2022-04-05  1136.300049  1152.869995  1087.300049  1091.260010  1091.260010   \n",
              "\n",
              "              Volume Symbol  \n",
              "Date                         \n",
              "2017-04-06  27603000   TSLA  \n",
              "2017-04-07  22898000   TSLA  \n",
              "2017-04-10  38322500   TSLA  \n",
              "2017-04-11  28623000   TSLA  \n",
              "2017-04-12  30253500   TSLA  \n",
              "...              ...    ...  \n",
              "2022-03-30  19955000   TSLA  \n",
              "2022-03-31  16330900   TSLA  \n",
              "2022-04-01  18012900   TSLA  \n",
              "2022-04-04  27345300   TSLA  \n",
              "2022-04-05  26607000   TSLA  \n",
              "\n",
              "[1259 rows x 7 columns]"
            ],
            "text/html": [
              "\n",
              "  <div id=\"df-1c24e405-52d7-4cd2-b28d-b9beff50946c\">\n",
              "    <div class=\"colab-df-container\">\n",
              "      <div>\n",
              "<style scoped>\n",
              "    .dataframe tbody tr th:only-of-type {\n",
              "        vertical-align: middle;\n",
              "    }\n",
              "\n",
              "    .dataframe tbody tr th {\n",
              "        vertical-align: top;\n",
              "    }\n",
              "\n",
              "    .dataframe thead th {\n",
              "        text-align: right;\n",
              "    }\n",
              "</style>\n",
              "<table border=\"1\" class=\"dataframe\">\n",
              "  <thead>\n",
              "    <tr style=\"text-align: right;\">\n",
              "      <th></th>\n",
              "      <th>Open</th>\n",
              "      <th>High</th>\n",
              "      <th>Low</th>\n",
              "      <th>Close</th>\n",
              "      <th>Adj Close</th>\n",
              "      <th>Volume</th>\n",
              "      <th>Symbol</th>\n",
              "    </tr>\n",
              "    <tr>\n",
              "      <th>Date</th>\n",
              "      <th></th>\n",
              "      <th></th>\n",
              "      <th></th>\n",
              "      <th></th>\n",
              "      <th></th>\n",
              "      <th></th>\n",
              "      <th></th>\n",
              "    </tr>\n",
              "  </thead>\n",
              "  <tbody>\n",
              "    <tr>\n",
              "      <th>2017-04-06</th>\n",
              "      <td>59.375999</td>\n",
              "      <td>60.388000</td>\n",
              "      <td>58.820000</td>\n",
              "      <td>59.740002</td>\n",
              "      <td>59.740002</td>\n",
              "      <td>27603000</td>\n",
              "      <td>TSLA</td>\n",
              "    </tr>\n",
              "    <tr>\n",
              "      <th>2017-04-07</th>\n",
              "      <td>59.500000</td>\n",
              "      <td>60.537998</td>\n",
              "      <td>59.430000</td>\n",
              "      <td>60.507999</td>\n",
              "      <td>60.507999</td>\n",
              "      <td>22898000</td>\n",
              "      <td>TSLA</td>\n",
              "    </tr>\n",
              "    <tr>\n",
              "      <th>2017-04-10</th>\n",
              "      <td>61.830002</td>\n",
              "      <td>62.745998</td>\n",
              "      <td>61.742001</td>\n",
              "      <td>62.478001</td>\n",
              "      <td>62.478001</td>\n",
              "      <td>38322500</td>\n",
              "      <td>TSLA</td>\n",
              "    </tr>\n",
              "    <tr>\n",
              "      <th>2017-04-11</th>\n",
              "      <td>62.675999</td>\n",
              "      <td>62.694000</td>\n",
              "      <td>61.099998</td>\n",
              "      <td>61.742001</td>\n",
              "      <td>61.742001</td>\n",
              "      <td>28623000</td>\n",
              "      <td>TSLA</td>\n",
              "    </tr>\n",
              "    <tr>\n",
              "      <th>2017-04-12</th>\n",
              "      <td>61.268002</td>\n",
              "      <td>61.689999</td>\n",
              "      <td>59.264000</td>\n",
              "      <td>59.368000</td>\n",
              "      <td>59.368000</td>\n",
              "      <td>30253500</td>\n",
              "      <td>TSLA</td>\n",
              "    </tr>\n",
              "    <tr>\n",
              "      <th>...</th>\n",
              "      <td>...</td>\n",
              "      <td>...</td>\n",
              "      <td>...</td>\n",
              "      <td>...</td>\n",
              "      <td>...</td>\n",
              "      <td>...</td>\n",
              "      <td>...</td>\n",
              "    </tr>\n",
              "    <tr>\n",
              "      <th>2022-03-30</th>\n",
              "      <td>1091.170044</td>\n",
              "      <td>1113.949951</td>\n",
              "      <td>1084.000000</td>\n",
              "      <td>1093.989990</td>\n",
              "      <td>1093.989990</td>\n",
              "      <td>19955000</td>\n",
              "      <td>TSLA</td>\n",
              "    </tr>\n",
              "    <tr>\n",
              "      <th>2022-03-31</th>\n",
              "      <td>1094.569946</td>\n",
              "      <td>1103.140015</td>\n",
              "      <td>1076.640015</td>\n",
              "      <td>1077.599976</td>\n",
              "      <td>1077.599976</td>\n",
              "      <td>16330900</td>\n",
              "      <td>TSLA</td>\n",
              "    </tr>\n",
              "    <tr>\n",
              "      <th>2022-04-01</th>\n",
              "      <td>1081.150024</td>\n",
              "      <td>1094.750000</td>\n",
              "      <td>1066.640015</td>\n",
              "      <td>1084.589966</td>\n",
              "      <td>1084.589966</td>\n",
              "      <td>18012900</td>\n",
              "      <td>TSLA</td>\n",
              "    </tr>\n",
              "    <tr>\n",
              "      <th>2022-04-04</th>\n",
              "      <td>1089.380005</td>\n",
              "      <td>1149.910034</td>\n",
              "      <td>1072.530029</td>\n",
              "      <td>1145.449951</td>\n",
              "      <td>1145.449951</td>\n",
              "      <td>27345300</td>\n",
              "      <td>TSLA</td>\n",
              "    </tr>\n",
              "    <tr>\n",
              "      <th>2022-04-05</th>\n",
              "      <td>1136.300049</td>\n",
              "      <td>1152.869995</td>\n",
              "      <td>1087.300049</td>\n",
              "      <td>1091.260010</td>\n",
              "      <td>1091.260010</td>\n",
              "      <td>26607000</td>\n",
              "      <td>TSLA</td>\n",
              "    </tr>\n",
              "  </tbody>\n",
              "</table>\n",
              "<p>1259 rows × 7 columns</p>\n",
              "</div>\n",
              "      <button class=\"colab-df-convert\" onclick=\"convertToInteractive('df-1c24e405-52d7-4cd2-b28d-b9beff50946c')\"\n",
              "              title=\"Convert this dataframe to an interactive table.\"\n",
              "              style=\"display:none;\">\n",
              "        \n",
              "  <svg xmlns=\"http://www.w3.org/2000/svg\" height=\"24px\"viewBox=\"0 0 24 24\"\n",
              "       width=\"24px\">\n",
              "    <path d=\"M0 0h24v24H0V0z\" fill=\"none\"/>\n",
              "    <path d=\"M18.56 5.44l.94 2.06.94-2.06 2.06-.94-2.06-.94-.94-2.06-.94 2.06-2.06.94zm-11 1L8.5 8.5l.94-2.06 2.06-.94-2.06-.94L8.5 2.5l-.94 2.06-2.06.94zm10 10l.94 2.06.94-2.06 2.06-.94-2.06-.94-.94-2.06-.94 2.06-2.06.94z\"/><path d=\"M17.41 7.96l-1.37-1.37c-.4-.4-.92-.59-1.43-.59-.52 0-1.04.2-1.43.59L10.3 9.45l-7.72 7.72c-.78.78-.78 2.05 0 2.83L4 21.41c.39.39.9.59 1.41.59.51 0 1.02-.2 1.41-.59l7.78-7.78 2.81-2.81c.8-.78.8-2.07 0-2.86zM5.41 20L4 18.59l7.72-7.72 1.47 1.35L5.41 20z\"/>\n",
              "  </svg>\n",
              "      </button>\n",
              "      \n",
              "  <style>\n",
              "    .colab-df-container {\n",
              "      display:flex;\n",
              "      flex-wrap:wrap;\n",
              "      gap: 12px;\n",
              "    }\n",
              "\n",
              "    .colab-df-convert {\n",
              "      background-color: #E8F0FE;\n",
              "      border: none;\n",
              "      border-radius: 50%;\n",
              "      cursor: pointer;\n",
              "      display: none;\n",
              "      fill: #1967D2;\n",
              "      height: 32px;\n",
              "      padding: 0 0 0 0;\n",
              "      width: 32px;\n",
              "    }\n",
              "\n",
              "    .colab-df-convert:hover {\n",
              "      background-color: #E2EBFA;\n",
              "      box-shadow: 0px 1px 2px rgba(60, 64, 67, 0.3), 0px 1px 3px 1px rgba(60, 64, 67, 0.15);\n",
              "      fill: #174EA6;\n",
              "    }\n",
              "\n",
              "    [theme=dark] .colab-df-convert {\n",
              "      background-color: #3B4455;\n",
              "      fill: #D2E3FC;\n",
              "    }\n",
              "\n",
              "    [theme=dark] .colab-df-convert:hover {\n",
              "      background-color: #434B5C;\n",
              "      box-shadow: 0px 1px 3px 1px rgba(0, 0, 0, 0.15);\n",
              "      filter: drop-shadow(0px 1px 2px rgba(0, 0, 0, 0.3));\n",
              "      fill: #FFFFFF;\n",
              "    }\n",
              "  </style>\n",
              "\n",
              "      <script>\n",
              "        const buttonEl =\n",
              "          document.querySelector('#df-1c24e405-52d7-4cd2-b28d-b9beff50946c button.colab-df-convert');\n",
              "        buttonEl.style.display =\n",
              "          google.colab.kernel.accessAllowed ? 'block' : 'none';\n",
              "\n",
              "        async function convertToInteractive(key) {\n",
              "          const element = document.querySelector('#df-1c24e405-52d7-4cd2-b28d-b9beff50946c');\n",
              "          const dataTable =\n",
              "            await google.colab.kernel.invokeFunction('convertToInteractive',\n",
              "                                                     [key], {});\n",
              "          if (!dataTable) return;\n",
              "\n",
              "          const docLinkHtml = 'Like what you see? Visit the ' +\n",
              "            '<a target=\"_blank\" href=https://colab.research.google.com/notebooks/data_table.ipynb>data table notebook</a>'\n",
              "            + ' to learn more about interactive tables.';\n",
              "          element.innerHTML = '';\n",
              "          dataTable['output_type'] = 'display_data';\n",
              "          await google.colab.output.renderOutput(dataTable, element);\n",
              "          const docLink = document.createElement('div');\n",
              "          docLink.innerHTML = docLinkHtml;\n",
              "          element.appendChild(docLink);\n",
              "        }\n",
              "      </script>\n",
              "    </div>\n",
              "  </div>\n",
              "  "
            ]
          },
          "metadata": {},
          "execution_count": 51
        }
      ],
      "source": [
        "from matplotlib import ticker\n",
        "import pandas as pd\n",
        "import numpy as np\n",
        "# !pip install yfinance\n",
        "import yfinance as yf\n",
        "import datetime\n",
        "from datetime import date\n",
        "from datetime import datetime\n",
        "from dateutil.relativedelta import relativedelta\n",
        "import time\n",
        "import requests\n",
        "import io\n",
        "import matplotlib.pyplot as plt\n",
        "import seaborn as sns\n",
        "import tensorflow\n",
        "pd.core.common.is_list_like = pd.api.types.is_list_like\n",
        "import pandas_datareader\n",
        "\n",
        "# For reading stock data from yahoo\n",
        "# from pandas_datareader.data import Datareader # pip install pandas_datareader\n",
        "\n",
        "# Insert Stock data\n",
        "# ticker = \"AAPL\"\n",
        "start_date = datetime.now() - relativedelta(years=5) # Get date 5 years ago from today\n",
        "end_date = date.today()\n",
        "\n",
        "# Create empty dataframe\n",
        "stock_df = pd.DataFrame()\n",
        "\n",
        "# Download Stock Price Data\n",
        "stock = []\n",
        "# stock = yf.download(tickers = \"AAPL MSFT AMZN TSLA NVDA GOOG GOOGL FB ASML AVGO\", start=start_date, end=end_date)\n",
        "ticker = \"TSLA\"\n",
        "stock = yf.download(ticker, start=start_date, end=end_date)\n",
        "stock_df = stock_df.append(stock, sort=False)\n",
        "# Add stock symbol column\n",
        "stock_df['Symbol'] = ticker\n",
        "\n",
        "stock_df"
      ]
    },
    {
      "cell_type": "code",
      "source": [
        "plt.figure(figsize=(13,4))\n",
        "plt.plot(stock_df[\"Close\"], label = 'TSLA Closing Price History')\n",
        "plt.title('Closing Price History')\n",
        "plt.xlabel('Date', fontsize=16)\n",
        "plt.ylabel('Close Price USD ($)', fontsize=16)"
      ],
      "metadata": {
        "colab": {
          "base_uri": "https://localhost:8080/",
          "height": 338
        },
        "id": "xDzCmQrjqa3T",
        "outputId": "e3a21640-0fc6-43fc-be71-4286676a2628"
      },
      "execution_count": 52,
      "outputs": [
        {
          "output_type": "execute_result",
          "data": {
            "text/plain": [
              "Text(0, 0.5, 'Close Price USD ($)')"
            ]
          },
          "metadata": {},
          "execution_count": 52
        },
        {
          "output_type": "display_data",
          "data": {
            "text/plain": [
              "<Figure size 936x288 with 1 Axes>"
            ],
            "image/png": "[encoded data removed]"
          },
          "metadata": {}
        }
      ]
    },
    {
      "cell_type": "code",
      "source": [
        "# Set style for plotting\n",
        "plt.style.use('fivethirtyeight')\n",
        "\n",
        "from datetime import datetime"
      ],
      "metadata": {
        "id": "LZcLcQI8rmFN"
      },
      "execution_count": 53,
      "outputs": []
    },
    {
      "cell_type": "code",
      "source": [
        "# Place moving averages for 10, 30 and 60 days in new columns in the dataframe\n",
        "ma_day = [10, 30, 60]\n",
        "\n",
        "for ma in ma_day:\n",
        "  column_name = f\"MA for {ma} days\"\n",
        "  stock_df2 = stock_df\n",
        "  stock_df2[column_name] = stock_df2['Adj Close'].rolling(ma).mean()\n",
        "\n",
        "stock_df2"
      ],
      "metadata": {
        "colab": {
          "base_uri": "https://localhost:8080/",
          "height": 455
        },
        "id": "8BtCkaz5sJpD",
        "outputId": "3565a838-aede-4b32-c898-b7ecd9c1cd2b"
      },
      "execution_count": 54,
      "outputs": [
        {
          "output_type": "execute_result",
          "data": {
            "text/plain": [
              "                   Open         High          Low        Close    Adj Close  \\\n",
              "Date                                                                          \n",
              "2017-04-06    59.375999    60.388000    58.820000    59.740002    59.740002   \n",
              "2017-04-07    59.500000    60.537998    59.430000    60.507999    60.507999   \n",
              "2017-04-10    61.830002    62.745998    61.742001    62.478001    62.478001   \n",
              "2017-04-11    62.675999    62.694000    61.099998    61.742001    61.742001   \n",
              "2017-04-12    61.268002    61.689999    59.264000    59.368000    59.368000   \n",
              "...                 ...          ...          ...          ...          ...   \n",
              "2022-03-30  1091.170044  1113.949951  1084.000000  1093.989990  1093.989990   \n",
              "2022-03-31  1094.569946  1103.140015  1076.640015  1077.599976  1077.599976   \n",
              "2022-04-01  1081.150024  1094.750000  1066.640015  1084.589966  1084.589966   \n",
              "2022-04-04  1089.380005  1149.910034  1072.530029  1145.449951  1145.449951   \n",
              "2022-04-05  1136.300049  1152.869995  1087.300049  1091.260010  1091.260010   \n",
              "\n",
              "              Volume Symbol  MA for 10 days  MA for 30 days  MA for 60 days  \n",
              "Date                                                                         \n",
              "2017-04-06  27603000   TSLA             NaN             NaN             NaN  \n",
              "2017-04-07  22898000   TSLA             NaN             NaN             NaN  \n",
              "2017-04-10  38322500   TSLA             NaN             NaN             NaN  \n",
              "2017-04-11  28623000   TSLA             NaN             NaN             NaN  \n",
              "2017-04-12  30253500   TSLA             NaN             NaN             NaN  \n",
              "...              ...    ...             ...             ...             ...  \n",
              "2022-03-30  19955000   TSLA     1000.119983      889.216325      927.592161  \n",
              "2022-03-31  16330900   TSLA     1020.719983      894.356657      926.392328  \n",
              "2022-04-01  18012900   TSLA     1038.639978      901.297990      926.333494  \n",
              "2022-04-04  27345300   TSLA     1061.068976      910.913656      927.679327  \n",
              "2022-04-05  26607000   TSLA     1070.796979      919.904655      928.750995  \n",
              "\n",
              "[1259 rows x 10 columns]"
            ],
            "text/html": [
              "\n",
              "  <div id=\"df-a4e8e3bf-4849-419a-91ae-1d0b4bbf016b\">\n",
              "    <div class=\"colab-df-container\">\n",
              "      <div>\n",
              "<style scoped>\n",
              "    .dataframe tbody tr th:only-of-type {\n",
              "        vertical-align: middle;\n",
              "    }\n",
              "\n",
              "    .dataframe tbody tr th {\n",
              "        vertical-align: top;\n",
              "    }\n",
              "\n",
              "    .dataframe thead th {\n",
              "        text-align: right;\n",
              "    }\n",
              "</style>\n",
              "<table border=\"1\" class=\"dataframe\">\n",
              "  <thead>\n",
              "    <tr style=\"text-align: right;\">\n",
              "      <th></th>\n",
              "      <th>Open</th>\n",
              "      <th>High</th>\n",
              "      <th>Low</th>\n",
              "      <th>Close</th>\n",
              "      <th>Adj Close</th>\n",
              "      <th>Volume</th>\n",
              "      <th>Symbol</th>\n",
              "      <th>MA for 10 days</th>\n",
              "      <th>MA for 30 days</th>\n",
              "      <th>MA for 60 days</th>\n",
              "    </tr>\n",
              "    <tr>\n",
              "      <th>Date</th>\n",
              "      <th></th>\n",
              "      <th></th>\n",
              "      <th></th>\n",
              "      <th></th>\n",
              "      <th></th>\n",
              "      <th></th>\n",
              "      <th></th>\n",
              "      <th></th>\n",
              "      <th></th>\n",
              "      <th></th>\n",
              "    </tr>\n",
              "  </thead>\n",
              "  <tbody>\n",
              "    <tr>\n",
              "      <th>2017-04-06</th>\n",
              "      <td>59.375999</td>\n",
              "      <td>60.388000</td>\n",
              "      <td>58.820000</td>\n",
              "      <td>59.740002</td>\n",
              "      <td>59.740002</td>\n",
              "      <td>27603000</td>\n",
              "      <td>TSLA</td>\n",
              "      <td>NaN</td>\n",
              "      <td>NaN</td>\n",
              "      <td>NaN</td>\n",
              "    </tr>\n",
              "    <tr>\n",
              "      <th>2017-04-07</th>\n",
              "      <td>59.500000</td>\n",
              "      <td>60.537998</td>\n",
              "      <td>59.430000</td>\n",
              "      <td>60.507999</td>\n",
              "      <td>60.507999</td>\n",
              "      <td>22898000</td>\n",
              "      <td>TSLA</td>\n",
              "      <td>NaN</td>\n",
              "      <td>NaN</td>\n",
              "      <td>NaN</td>\n",
              "    </tr>\n",
              "    <tr>\n",
              "      <th>2017-04-10</th>\n",
              "      <td>61.830002</td>\n",
              "      <td>62.745998</td>\n",
              "      <td>61.742001</td>\n",
              "      <td>62.478001</td>\n",
              "      <td>62.478001</td>\n",
              "      <td>38322500</td>\n",
              "      <td>TSLA</td>\n",
              "      <td>NaN</td>\n",
              "      <td>NaN</td>\n",
              "      <td>NaN</td>\n",
              "    </tr>\n",
              "    <tr>\n",
              "      <th>2017-04-11</th>\n",
              "      <td>62.675999</td>\n",
              "      <td>62.694000</td>\n",
              "      <td>61.099998</td>\n",
              "      <td>61.742001</td>\n",
              "      <td>61.742001</td>\n",
              "      <td>28623000</td>\n",
              "      <td>TSLA</td>\n",
              "      <td>NaN</td>\n",
              "      <td>NaN</td>\n",
              "      <td>NaN</td>\n",
              "    </tr>\n",
              "    <tr>\n",
              "      <th>2017-04-12</th>\n",
              "      <td>61.268002</td>\n",
              "      <td>61.689999</td>\n",
              "      <td>59.264000</td>\n",
              "      <td>59.368000</td>\n",
              "      <td>59.368000</td>\n",
              "      <td>30253500</td>\n",
              "      <td>TSLA</td>\n",
              "      <td>NaN</td>\n",
              "      <td>NaN</td>\n",
              "      <td>NaN</td>\n",
              "    </tr>\n",
              "    <tr>\n",
              "      <th>...</th>\n",
              "      <td>...</td>\n",
              "      <td>...</td>\n",
              "      <td>...</td>\n",
              "      <td>...</td>\n",
              "      <td>...</td>\n",
              "      <td>...</td>\n",
              "      <td>...</td>\n",
              "      <td>...</td>\n",
              "      <td>...</td>\n",
              "      <td>...</td>\n",
              "    </tr>\n",
              "    <tr>\n",
              "      <th>2022-03-30</th>\n",
              "      <td>1091.170044</td>\n",
              "      <td>1113.949951</td>\n",
              "      <td>1084.000000</td>\n",
              "      <td>1093.989990</td>\n",
              "      <td>1093.989990</td>\n",
              "      <td>19955000</td>\n",
              "      <td>TSLA</td>\n",
              "      <td>1000.119983</td>\n",
              "      <td>889.216325</td>\n",
              "      <td>927.592161</td>\n",
              "    </tr>\n",
              "    <tr>\n",
              "      <th>2022-03-31</th>\n",
              "      <td>1094.569946</td>\n",
              "      <td>1103.140015</td>\n",
              "      <td>1076.640015</td>\n",
              "      <td>1077.599976</td>\n",
              "      <td>1077.599976</td>\n",
              "      <td>16330900</td>\n",
              "      <td>TSLA</td>\n",
              "      <td>1020.719983</td>\n",
              "      <td>894.356657</td>\n",
              "      <td>926.392328</td>\n",
              "    </tr>\n",
              "    <tr>\n",
              "      <th>2022-04-01</th>\n",
              "      <td>1081.150024</td>\n",
              "      <td>1094.750000</td>\n",
              "      <td>1066.640015</td>\n",
              "      <td>1084.589966</td>\n",
              "      <td>1084.589966</td>\n",
              "      <td>18012900</td>\n",
              "      <td>TSLA</td>\n",
              "      <td>1038.639978</td>\n",
              "      <td>901.297990</td>\n",
              "      <td>926.333494</td>\n",
              "    </tr>\n",
              "    <tr>\n",
              "      <th>2022-04-04</th>\n",
              "      <td>1089.380005</td>\n",
              "      <td>1149.910034</td>\n",
              "      <td>1072.530029</td>\n",
              "      <td>1145.449951</td>\n",
              "      <td>1145.449951</td>\n",
              "      <td>27345300</td>\n",
              "      <td>TSLA</td>\n",
              "      <td>1061.068976</td>\n",
              "      <td>910.913656</td>\n",
              "      <td>927.679327</td>\n",
              "    </tr>\n",
              "    <tr>\n",
              "      <th>2022-04-05</th>\n",
              "      <td>1136.300049</td>\n",
              "      <td>1152.869995</td>\n",
              "      <td>1087.300049</td>\n",
              "      <td>1091.260010</td>\n",
              "      <td>1091.260010</td>\n",
              "      <td>26607000</td>\n",
              "      <td>TSLA</td>\n",
              "      <td>1070.796979</td>\n",
              "      <td>919.904655</td>\n",
              "      <td>928.750995</td>\n",
              "    </tr>\n",
              "  </tbody>\n",
              "</table>\n",
              "<p>1259 rows × 10 columns</p>\n",
              "</div>\n",
              "      <button class=\"colab-df-convert\" onclick=\"convertToInteractive('df-a4e8e3bf-4849-419a-91ae-1d0b4bbf016b')\"\n",
              "              title=\"Convert this dataframe to an interactive table.\"\n",
              "              style=\"display:none;\">\n",
              "        \n",
              "  <svg xmlns=\"http://www.w3.org/2000/svg\" height=\"24px\"viewBox=\"0 0 24 24\"\n",
              "       width=\"24px\">\n",
              "    <path d=\"M0 0h24v24H0V0z\" fill=\"none\"/>\n",
              "    <path d=\"M18.56 5.44l.94 2.06.94-2.06 2.06-.94-2.06-.94-.94-2.06-.94 2.06-2.06.94zm-11 1L8.5 8.5l.94-2.06 2.06-.94-2.06-.94L8.5 2.5l-.94 2.06-2.06.94zm10 10l.94 2.06.94-2.06 2.06-.94-2.06-.94-.94-2.06-.94 2.06-2.06.94z\"/><path d=\"M17.41 7.96l-1.37-1.37c-.4-.4-.92-.59-1.43-.59-.52 0-1.04.2-1.43.59L10.3 9.45l-7.72 7.72c-.78.78-.78 2.05 0 2.83L4 21.41c.39.39.9.59 1.41.59.51 0 1.02-.2 1.41-.59l7.78-7.78 2.81-2.81c.8-.78.8-2.07 0-2.86zM5.41 20L4 18.59l7.72-7.72 1.47 1.35L5.41 20z\"/>\n",
              "  </svg>\n",
              "      </button>\n",
              "      \n",
              "  <style>\n",
              "    .colab-df-container {\n",
              "      display:flex;\n",
              "      flex-wrap:wrap;\n",
              "      gap: 12px;\n",
              "    }\n",
              "\n",
              "    .colab-df-convert {\n",
              "      background-color: #E8F0FE;\n",
              "      border: none;\n",
              "      border-radius: 50%;\n",
              "      cursor: pointer;\n",
              "      display: none;\n",
              "      fill: #1967D2;\n",
              "      height: 32px;\n",
              "      padding: 0 0 0 0;\n",
              "      width: 32px;\n",
              "    }\n",
              "\n",
              "    .colab-df-convert:hover {\n",
              "      background-color: #E2EBFA;\n",
              "      box-shadow: 0px 1px 2px rgba(60, 64, 67, 0.3), 0px 1px 3px 1px rgba(60, 64, 67, 0.15);\n",
              "      fill: #174EA6;\n",
              "    }\n",
              "\n",
              "    [theme=dark] .colab-df-convert {\n",
              "      background-color: #3B4455;\n",
              "      fill: #D2E3FC;\n",
              "    }\n",
              "\n",
              "    [theme=dark] .colab-df-convert:hover {\n",
              "      background-color: #434B5C;\n",
              "      box-shadow: 0px 1px 3px 1px rgba(0, 0, 0, 0.15);\n",
              "      filter: drop-shadow(0px 1px 2px rgba(0, 0, 0, 0.3));\n",
              "      fill: #FFFFFF;\n",
              "    }\n",
              "  </style>\n",
              "\n",
              "      <script>\n",
              "        const buttonEl =\n",
              "          document.querySelector('#df-a4e8e3bf-4849-419a-91ae-1d0b4bbf016b button.colab-df-convert');\n",
              "        buttonEl.style.display =\n",
              "          google.colab.kernel.accessAllowed ? 'block' : 'none';\n",
              "\n",
              "        async function convertToInteractive(key) {\n",
              "          const element = document.querySelector('#df-a4e8e3bf-4849-419a-91ae-1d0b4bbf016b');\n",
              "          const dataTable =\n",
              "            await google.colab.kernel.invokeFunction('convertToInteractive',\n",
              "                                                     [key], {});\n",
              "          if (!dataTable) return;\n",
              "\n",
              "          const docLinkHtml = 'Like what you see? Visit the ' +\n",
              "            '<a target=\"_blank\" href=https://colab.research.google.com/notebooks/data_table.ipynb>data table notebook</a>'\n",
              "            + ' to learn more about interactive tables.';\n",
              "          element.innerHTML = '';\n",
              "          dataTable['output_type'] = 'display_data';\n",
              "          await google.colab.output.renderOutput(dataTable, element);\n",
              "          const docLink = document.createElement('div');\n",
              "          docLink.innerHTML = docLinkHtml;\n",
              "          element.appendChild(docLink);\n",
              "        }\n",
              "      </script>\n",
              "    </div>\n",
              "  </div>\n",
              "  "
            ]
          },
          "metadata": {},
          "execution_count": 54
        }
      ]
    },
    {
      "cell_type": "code",
      "source": [
        "plt.figure(figsize=(13,4))\n",
        "plt.plot(stock_df[\"Close\"], label='Closing Price')\n",
        "plt.plot(stock_df[\"MA for 10 days\"], label='10 Day Moving Average')\n",
        "plt.plot(stock_df[\"MA for 30 days\"], label='30 Day Moving Average')\n",
        "plt.plot(stock_df[\"MA for 60 days\"], label='60 Day Moving Average')\n",
        "plt.title(\"Stock Closing Price and Moving Average\")\n",
        "plt.xlabel('Time')\n",
        "plt.ylabel('Price')\n",
        "plt.legend()\n",
        "plt.show()"
      ],
      "metadata": {
        "colab": {
          "base_uri": "https://localhost:8080/",
          "height": 321
        },
        "id": "aZ_6MvoeshYK",
        "outputId": "454b4abc-2780-4a94-8639-da15ae2c0993"
      },
      "execution_count": 55,
      "outputs": [
        {
          "output_type": "display_data",
          "data": {
            "text/plain": [
              "<Figure size 936x288 with 1 Axes>"
            ],
            "image/png": "[encoded data removed]"
          },
          "metadata": {}
        }
      ]
    },
    {
      "cell_type": "code",
      "source": [
        "# Daily Return - gives us an idea if this will be normally ditributed or skewed and as to the accuracy\n",
        "sns.displot(stock_df[\"Daily Return\"].dropna(), bins=100, color='mediumblue', height =3, aspect = 23/6)\n",
        "stock_df['Daily Return'] = stock_df['Adj Close'].pct_change()\n",
        "plt.title(\"Daily Return\")\n",
        "plt.show()"
      ],
      "metadata": {
        "colab": {
          "base_uri": "https://localhost:8080/",
          "height": 238
        },
        "id": "lsloHYZ6u0-J",
        "outputId": "04a47a82-8b4d-4e0a-b9b0-b42e63dd6e70"
      },
      "execution_count": 68,
      "outputs": [
        {
          "output_type": "display_data",
          "data": {
            "text/plain": [
              "<Figure size 828x216 with 1 Axes>"
            ],
            "image/png": "[encoded data removed]"
          },
          "metadata": {}
        }
      ]
    },
    {
      "cell_type": "code",
      "source": [
        "# Create training and test dataset\n",
        "# Create new dataframe with only Close column\n",
        "data = stock_df.filter(['Close'])\n",
        "\n",
        "# Convert the dataframe to a numpy array\n",
        "dataset = data.values\n",
        "\n",
        "# Get number of rows to train the model on\n",
        "training_data_len = int(np.ceil(len(dataset)*.95))\n",
        "training_data_len"
      ],
      "metadata": {
        "colab": {
          "base_uri": "https://localhost:8080/"
        },
        "id": "_3KupqciwQ_5",
        "outputId": "b787b92f-676d-4462-94be-1b239844c63f"
      },
      "execution_count": 69,
      "outputs": [
        {
          "output_type": "execute_result",
          "data": {
            "text/plain": [
              "1197"
            ]
          },
          "metadata": {},
          "execution_count": 69
        }
      ]
    },
    {
      "cell_type": "code",
      "source": [
        "# Scale the data\n",
        "# !pip install sklearn\n",
        "from sklearn.preprocessing import MinMaxScaler\n",
        "\n",
        "scaler = MinMaxScaler(feature_range=(0,1))\n",
        "scaled_data = scaler.fit_transform(dataset)\n",
        "\n",
        "scaled_data"
      ],
      "metadata": {
        "colab": {
          "base_uri": "https://localhost:8080/"
        },
        "id": "vfy_U6lRxhgJ",
        "outputId": "90824d66-c88e-4334-895f-972163b629b9"
      },
      "execution_count": 73,
      "outputs": [
        {
          "output_type": "execute_result",
          "data": {
            "text/plain": [
              "array([[0.02005333],\n",
              "       [0.02069648],\n",
              "       [0.02234624],\n",
              "       ...,\n",
              "       [0.87830323],\n",
              "       [0.92926979],\n",
              "       [0.88388899]])"
            ]
          },
          "metadata": {},
          "execution_count": 73
        }
      ]
    },
    {
      "cell_type": "code",
      "source": [
        "# Create the training dataset\n",
        "# Create the scaled training into data set\n",
        "train_data = scaled_data[0:int(training_data_len), :]\n",
        "# Split the data into x_train and y_train datasets\n",
        "x_train = []\n",
        "y_train = []\n",
        "\n",
        "for i in range(60, len(train_data)):\n",
        "  x_train.append(train_data[i-60:i,0])\n",
        "  y_train.append(train_data[i,0])\n",
        "  if i<=61:\n",
        "    print(x_train)\n",
        "    print(y_train)\n",
        "    print()\n",
        "    # Convert the x_train and y_train to numpy arrays\n",
        "x_train, y_train = np.array(x_train), np.array(y_train)\n",
        "\n",
        "# Reshape the data\n",
        "x_train = np.reshape(x_train, (x_train.shape[0], x_train.shape[1], 1))\n",
        "# x_train.shape"
      ],
      "metadata": {
        "colab": {
          "base_uri": "https://localhost:8080/"
        },
        "id": "0FyVVVW5yAui",
        "outputId": "e3ce304d-948f-4176-d8e3-6d48c14cc05d"
      },
      "execution_count": 75,
      "outputs": [
        {
          "output_type": "stream",
          "name": "stdout",
          "text": [
            "[array([0.02005333, 0.02069648, 0.02234624, 0.02172988, 0.0197418 ,\n",
            "       0.02094101, 0.02051224, 0.02031293, 0.0211956 , 0.02069146,\n",
            "       0.02120899, 0.02161599, 0.02258072, 0.02197442, 0.02171649,\n",
            "       0.02262762, 0.02409481, 0.02343491, 0.02211678, 0.01951067,\n",
            "       0.02166959, 0.0214753 , 0.02383185, 0.02449511, 0.02414004,\n",
            "       0.02442644, 0.02293077, 0.02312003, 0.02129441, 0.02245845,\n",
            "       0.02208496, 0.02200456, 0.02091757, 0.02198279, 0.02308989,\n",
            "       0.02448171, 0.02614989, 0.02713975, 0.02703255, 0.02694546,\n",
            "       0.02819659, 0.0291228 , 0.03026172, 0.03199522, 0.02987147,\n",
            "       0.03015453, 0.03299177, 0.03378064, 0.0328896 , 0.0322297 ,\n",
            "       0.03196172, 0.03237039, 0.03306714, 0.03410724, 0.03424793,\n",
            "       0.0332497 , 0.03071728, 0.0322029 , 0.03044595, 0.03058999])]\n",
            "[0.029084278516964525]\n",
            "\n",
            "[array([0.02005333, 0.02069648, 0.02234624, 0.02172988, 0.0197418 ,\n",
            "       0.02094101, 0.02051224, 0.02031293, 0.0211956 , 0.02069146,\n",
            "       0.02120899, 0.02161599, 0.02258072, 0.02197442, 0.02171649,\n",
            "       0.02262762, 0.02409481, 0.02343491, 0.02211678, 0.01951067,\n",
            "       0.02166959, 0.0214753 , 0.02383185, 0.02449511, 0.02414004,\n",
            "       0.02442644, 0.02293077, 0.02312003, 0.02129441, 0.02245845,\n",
            "       0.02208496, 0.02200456, 0.02091757, 0.02198279, 0.02308989,\n",
            "       0.02448171, 0.02614989, 0.02713975, 0.02703255, 0.02694546,\n",
            "       0.02819659, 0.0291228 , 0.03026172, 0.03199522, 0.02987147,\n",
            "       0.03015453, 0.03299177, 0.03378064, 0.0328896 , 0.0322297 ,\n",
            "       0.03196172, 0.03237039, 0.03306714, 0.03410724, 0.03424793,\n",
            "       0.0332497 , 0.03071728, 0.0322029 , 0.03044595, 0.03058999]), array([0.02069648, 0.02234624, 0.02172988, 0.0197418 , 0.02094101,\n",
            "       0.02051224, 0.02031293, 0.0211956 , 0.02069146, 0.02120899,\n",
            "       0.02161599, 0.02258072, 0.02197442, 0.02171649, 0.02262762,\n",
            "       0.02409481, 0.02343491, 0.02211678, 0.01951067, 0.02166959,\n",
            "       0.0214753 , 0.02383185, 0.02449511, 0.02414004, 0.02442644,\n",
            "       0.02293077, 0.02312003, 0.02129441, 0.02245845, 0.02208496,\n",
            "       0.02200456, 0.02091757, 0.02198279, 0.02308989, 0.02448171,\n",
            "       0.02614989, 0.02713975, 0.02703255, 0.02694546, 0.02819659,\n",
            "       0.0291228 , 0.03026172, 0.03199522, 0.02987147, 0.03015453,\n",
            "       0.03299177, 0.03378064, 0.0328896 , 0.0322297 , 0.03196172,\n",
            "       0.03237039, 0.03306714, 0.03410724, 0.03424793, 0.0332497 ,\n",
            "       0.03071728, 0.0322029 , 0.03044595, 0.03058999, 0.02908428])]\n",
            "[0.029084278516964525, 0.024808309803719543]\n",
            "\n"
          ]
        }
      ]
    },
    {
      "cell_type": "code",
      "source": [
        "from keras.models import Sequential\n",
        "from keras.layers import Dense, LSTM\n",
        "\n",
        "# Build the LSTM model - (Long short-term memory (LSTM) is an artificial recurrent neural network (RNN))\n",
        "model = Sequential()\n",
        "model.add(LSTM(128, return_sequences=True, input_shape=(x_train.shape[1],1)))\n",
        "model.add(LSTM(64, return_sequences=False))\n",
        "model.add(Dense(25))\n",
        "model.add(Dense(1))\n",
        "\n",
        "# Compile the model\n",
        "model.compile(optimizer='adam', loss='mean_squared_error')\n",
        "\n",
        "# Train the model\n",
        "model.fit(x_train, y_train, batch_size=1, epochs=1)\n",
        "\n",
        "# Wait 45 seconds or so for model fit to run, it will spool up at about 20 seconds"
      ],
      "metadata": {
        "colab": {
          "base_uri": "https://localhost:8080/"
        },
        "id": "7MuuwjXhzBm3",
        "outputId": "24cd5e6d-50d0-4142-e8f8-1ef0e790aa01"
      },
      "execution_count": 76,
      "outputs": [
        {
          "output_type": "stream",
          "name": "stdout",
          "text": [
            "1137/1137 [==============================] - 49s 41ms/step - loss: 0.0026\n"
          ]
        },
        {
          "output_type": "execute_result",
          "data": {
            "text/plain": [
              "<keras.callbacks.History at 0x7fc21d297250>"
            ]
          },
          "metadata": {},
          "execution_count": 76
        }
      ]
    },
    {
      "cell_type": "code",
      "source": [
        "# Create the testing dataset\n",
        "# Create a new array containing scaled values from index 1543 to 2002\n",
        "test_data = scaled_data[training_data_len - 60: , :]\n",
        "\n",
        "# Create the data sets x_test and y_test\n",
        "x_test = []\n",
        "y_test = dataset[training_data_len:, :]\n",
        "for i in range(60, len(test_data)):\n",
        "  x_test.append(test_data[i-60:i, 0])\n",
        "\n",
        "# Convert the data to a numpy array\n",
        "x_test = np.array(x_test)\n",
        "\n",
        "# Reshape the data\n",
        "x_test = np.reshape(x_test, (x_test.shape[0], x_test.shape[1], 1))\n",
        "\n",
        "# Get the models predicted price values\n",
        "predictions = model.predict(x_test)\n",
        "predictions = scaler.inverse_transform(predictions)"
      ],
      "metadata": {
        "id": "h6rg5YxDEkkT"
      },
      "execution_count": 77,
      "outputs": []
    },
    {
      "cell_type": "code",
      "source": [
        "# Get the root mean squared error (RMSE)\n",
        "rmse = np.sqrt(np.mean(((predictions - y_test) ** 2)))\n",
        "rmse"
      ],
      "metadata": {
        "colab": {
          "base_uri": "https://localhost:8080/"
        },
        "id": "gsmXqMmdFzFf",
        "outputId": "66dbc0ec-7b16-473d-e2c1-d3c31c2fb34a"
      },
      "execution_count": 78,
      "outputs": [
        {
          "output_type": "execute_result",
          "data": {
            "text/plain": [
              "66.62246704626929"
            ]
          },
          "metadata": {},
          "execution_count": 78
        }
      ]
    },
    {
      "cell_type": "code",
      "source": [
        "mape = np.mean(np.abs((y_test - predictions) / y_test)) * 100\n",
        "mape"
      ],
      "metadata": {
        "colab": {
          "base_uri": "https://localhost:8080/"
        },
        "id": "mUOxQeN3GBtC",
        "outputId": "7d9843d9-403a-427b-920d-bc2efbc3fe9e"
      },
      "execution_count": 79,
      "outputs": [
        {
          "output_type": "execute_result",
          "data": {
            "text/plain": [
              "6.053116619031624"
            ]
          },
          "metadata": {},
          "execution_count": 79
        }
      ]
    },
    {
      "cell_type": "code",
      "source": [
        "# Remove pandas warning on copy of a slice which is immaterial in this case\n",
        "pd.options.mode.chained_assignment = None # default='warn'\n",
        "# Plot the data\n",
        "train = data[:training_data_len]\n",
        "valid = data[training_data_len:]\n",
        "valid['Predictions'] = predictions\n",
        "\n",
        "# Visualize the data\n",
        "plt.figure(figsize=(13,5))\n",
        "plt.title('Stock Price Forecast LSTM Model')\n",
        "plt.xlabel('Date', fontsize=13)\n",
        "plt.ylabel('Close Price USD ($)', fontsize=13)\n",
        "plt.plot(train['Close'])\n",
        "plt.plot(valid[['Close', 'Predictions']])\n",
        "plt.legend(['Train', 'Val', 'Predictions'], loc='upper left')\n",
        "plt.show()"
      ],
      "metadata": {
        "colab": {
          "base_uri": "https://localhost:8080/",
          "height": 377
        },
        "id": "qZj2Qvi4GKce",
        "outputId": "ed91751f-7143-46cf-b59a-857aa74c67f1"
      },
      "execution_count": 81,
      "outputs": [
        {
          "output_type": "display_data",
          "data": {
            "text/plain": [
              "<Figure size 936x360 with 1 Axes>"
            ],
            "image/png": "[encoded data removed]"
          },
          "metadata": {}
        }
      ]
    }
  ]
}