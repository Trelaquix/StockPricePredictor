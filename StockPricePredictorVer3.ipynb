{
  "nbformat": 4,
  "nbformat_minor": 0,
  "metadata": {
    "colab": {
      "name": "StockPricePredictorVer3.ipynb",
      "provenance": [],
      "collapsed_sections": []
    },
    "kernelspec": {
      "name": "python3",
      "display_name": "Python 3"
    },
    "language_info": {
      "name": "python"
    }
  },
  "cells": [
    {
      "cell_type": "code",
      "execution_count": 36,
      "metadata": {
        "id": "AtNv3kZuncAn"
      },
      "outputs": [],
      "source": [
        "# This program predicts closing stock prices using Recurrent Neural Network (RNN), Long Short Term Memory (LSTM)"
      ]
    },
    {
      "cell_type": "code",
      "source": [
        "# Import necessary libraries\n",
        "!pip install --upgrade pandas # Upgrade of pandas is necessary to use web.DataReader\n",
        "!pip install --upgrade pandas-datareader # Upgrade of pandas-datareader is necessary to use web.DataReader\n",
        "import math\n",
        "import pandas_datareader as web\n",
        "import numpy as np\n",
        "import pandas as pd\n",
        "from sklearn.preprocessing import MinMaxScaler\n",
        "from keras.models import Sequential\n",
        "import matplotlib.pyplot as plt\n",
        "plt.style.use('fivethirtyeight')"
      ],
      "metadata": {
        "colab": {
          "base_uri": "https://localhost:8080/"
        },
        "id": "RmyeCqxXUp43",
        "outputId": "117bc63b-9e4c-4e53-cf17-f5bd694143db"
      },
      "execution_count": 37,
      "outputs": [
        {
          "output_type": "stream",
          "name": "stdout",
          "text": [
            "Requirement already satisfied: pandas in /usr/local/lib/python3.7/dist-packages (1.3.5)\n",
            "Requirement already satisfied: numpy>=1.17.3 in /usr/local/lib/python3.7/dist-packages (from pandas) (1.21.5)\n",
            "Requirement already satisfied: python-dateutil>=2.7.3 in /usr/local/lib/python3.7/dist-packages (from pandas) (2.8.2)\n",
            "Requirement already satisfied: pytz>=2017.3 in /usr/local/lib/python3.7/dist-packages (from pandas) (2018.9)\n",
            "Requirement already satisfied: six>=1.5 in /usr/local/lib/python3.7/dist-packages (from python-dateutil>=2.7.3->pandas) (1.15.0)\n",
            "Requirement already satisfied: pandas-datareader in /usr/local/lib/python3.7/dist-packages (0.10.0)\n",
            "Requirement already satisfied: lxml in /usr/local/lib/python3.7/dist-packages (from pandas-datareader) (4.2.6)\n",
            "Requirement already satisfied: requests>=2.19.0 in /usr/local/lib/python3.7/dist-packages (from pandas-datareader) (2.23.0)\n",
            "Requirement already satisfied: pandas>=0.23 in /usr/local/lib/python3.7/dist-packages (from pandas-datareader) (1.3.5)\n",
            "Requirement already satisfied: python-dateutil>=2.7.3 in /usr/local/lib/python3.7/dist-packages (from pandas>=0.23->pandas-datareader) (2.8.2)\n",
            "Requirement already satisfied: numpy>=1.17.3 in /usr/local/lib/python3.7/dist-packages (from pandas>=0.23->pandas-datareader) (1.21.5)\n",
            "Requirement already satisfied: pytz>=2017.3 in /usr/local/lib/python3.7/dist-packages (from pandas>=0.23->pandas-datareader) (2018.9)\n",
            "Requirement already satisfied: six>=1.5 in /usr/local/lib/python3.7/dist-packages (from python-dateutil>=2.7.3->pandas>=0.23->pandas-datareader) (1.15.0)\n",
            "Requirement already satisfied: chardet<4,>=3.0.2 in /usr/local/lib/python3.7/dist-packages (from requests>=2.19.0->pandas-datareader) (3.0.4)\n",
            "Requirement already satisfied: idna<3,>=2.5 in /usr/local/lib/python3.7/dist-packages (from requests>=2.19.0->pandas-datareader) (2.10)\n",
            "Requirement already satisfied: urllib3!=1.25.0,!=1.25.1,<1.26,>=1.21.1 in /usr/local/lib/python3.7/dist-packages (from requests>=2.19.0->pandas-datareader) (1.24.3)\n",
            "Requirement already satisfied: certifi>=2017.4.17 in /usr/local/lib/python3.7/dist-packages (from requests>=2.19.0->pandas-datareader) (2021.10.8)\n"
          ]
        }
      ]
    },
    {
      "cell_type": "code",
      "source": [
        "# Get the stock quote\n",
        "df = web.DataReader('AAPL', data_source='yahoo', start='2012-01-01', end='2022-04-07')\n",
        "df"
      ],
      "metadata": {
        "colab": {
          "base_uri": "https://localhost:8080/",
          "height": 455
        },
        "id": "Q6dBpujGXBVr",
        "outputId": "b4c92d3c-5888-437e-c576-ff265fd1a700"
      },
      "execution_count": 38,
      "outputs": [
        {
          "output_type": "execute_result",
          "data": {
            "text/plain": [
              "                  High         Low        Open       Close       Volume  \\\n",
              "Date                                                                      \n",
              "2012-01-03   14.732143   14.607143   14.621429   14.686786  302220800.0   \n",
              "2012-01-04   14.810000   14.617143   14.642857   14.765714  260022000.0   \n",
              "2012-01-05   14.948214   14.738214   14.819643   14.929643  271269600.0   \n",
              "2012-01-06   15.098214   14.972143   14.991786   15.085714  318292800.0   \n",
              "2012-01-09   15.276786   15.048214   15.196429   15.061786  394024400.0   \n",
              "...                ...         ...         ...         ...          ...   \n",
              "2022-04-01  174.880005  171.940002  174.029999  174.309998   78699800.0   \n",
              "2022-04-04  178.490005  174.440002  174.570007  178.440002   76468400.0   \n",
              "2022-04-05  178.300003  174.419998  177.500000  175.059998   73401800.0   \n",
              "2022-04-06  173.630005  170.130005  172.360001  171.830002   89058800.0   \n",
              "2022-04-07  173.360001  169.850006  171.160004  172.139999   77594700.0   \n",
              "\n",
              "             Adj Close  \n",
              "Date                    \n",
              "2012-01-03   12.575919  \n",
              "2012-01-04   12.643502  \n",
              "2012-01-05   12.783873  \n",
              "2012-01-06   12.917511  \n",
              "2012-01-09   12.897020  \n",
              "...                ...  \n",
              "2022-04-01  174.309998  \n",
              "2022-04-04  178.440002  \n",
              "2022-04-05  175.059998  \n",
              "2022-04-06  171.830002  \n",
              "2022-04-07  172.139999  \n",
              "\n",
              "[2584 rows x 6 columns]"
            ],
            "text/html": [
              "\n",
              "  <div id=\"df-7dcdd228-cecb-4668-9c4c-51ba1b92807f\">\n",
              "    <div class=\"colab-df-container\">\n",
              "      <div>\n",
              "<style scoped>\n",
              "    .dataframe tbody tr th:only-of-type {\n",
              "        vertical-align: middle;\n",
              "    }\n",
              "\n",
              "    .dataframe tbody tr th {\n",
              "        vertical-align: top;\n",
              "    }\n",
              "\n",
              "    .dataframe thead th {\n",
              "        text-align: right;\n",
              "    }\n",
              "</style>\n",
              "<table border=\"1\" class=\"dataframe\">\n",
              "  <thead>\n",
              "    <tr style=\"text-align: right;\">\n",
              "      <th></th>\n",
              "      <th>High</th>\n",
              "      <th>Low</th>\n",
              "      <th>Open</th>\n",
              "      <th>Close</th>\n",
              "      <th>Volume</th>\n",
              "      <th>Adj Close</th>\n",
              "    </tr>\n",
              "    <tr>\n",
              "      <th>Date</th>\n",
              "      <th></th>\n",
              "      <th></th>\n",
              "      <th></th>\n",
              "      <th></th>\n",
              "      <th></th>\n",
              "      <th></th>\n",
              "    </tr>\n",
              "  </thead>\n",
              "  <tbody>\n",
              "    <tr>\n",
              "      <th>2012-01-03</th>\n",
              "      <td>14.732143</td>\n",
              "      <td>14.607143</td>\n",
              "      <td>14.621429</td>\n",
              "      <td>14.686786</td>\n",
              "      <td>302220800.0</td>\n",
              "      <td>12.575919</td>\n",
              "    </tr>\n",
              "    <tr>\n",
              "      <th>2012-01-04</th>\n",
              "      <td>14.810000</td>\n",
              "      <td>14.617143</td>\n",
              "      <td>14.642857</td>\n",
              "      <td>14.765714</td>\n",
              "      <td>260022000.0</td>\n",
              "      <td>12.643502</td>\n",
              "    </tr>\n",
              "    <tr>\n",
              "      <th>2012-01-05</th>\n",
              "      <td>14.948214</td>\n",
              "      <td>14.738214</td>\n",
              "      <td>14.819643</td>\n",
              "      <td>14.929643</td>\n",
              "      <td>271269600.0</td>\n",
              "      <td>12.783873</td>\n",
              "    </tr>\n",
              "    <tr>\n",
              "      <th>2012-01-06</th>\n",
              "      <td>15.098214</td>\n",
              "      <td>14.972143</td>\n",
              "      <td>14.991786</td>\n",
              "      <td>15.085714</td>\n",
              "      <td>318292800.0</td>\n",
              "      <td>12.917511</td>\n",
              "    </tr>\n",
              "    <tr>\n",
              "      <th>2012-01-09</th>\n",
              "      <td>15.276786</td>\n",
              "      <td>15.048214</td>\n",
              "      <td>15.196429</td>\n",
              "      <td>15.061786</td>\n",
              "      <td>394024400.0</td>\n",
              "      <td>12.897020</td>\n",
              "    </tr>\n",
              "    <tr>\n",
              "      <th>...</th>\n",
              "      <td>...</td>\n",
              "      <td>...</td>\n",
              "      <td>...</td>\n",
              "      <td>...</td>\n",
              "      <td>...</td>\n",
              "      <td>...</td>\n",
              "    </tr>\n",
              "    <tr>\n",
              "      <th>2022-04-01</th>\n",
              "      <td>174.880005</td>\n",
              "      <td>171.940002</td>\n",
              "      <td>174.029999</td>\n",
              "      <td>174.309998</td>\n",
              "      <td>78699800.0</td>\n",
              "      <td>174.309998</td>\n",
              "    </tr>\n",
              "    <tr>\n",
              "      <th>2022-04-04</th>\n",
              "      <td>178.490005</td>\n",
              "      <td>174.440002</td>\n",
              "      <td>174.570007</td>\n",
              "      <td>178.440002</td>\n",
              "      <td>76468400.0</td>\n",
              "      <td>178.440002</td>\n",
              "    </tr>\n",
              "    <tr>\n",
              "      <th>2022-04-05</th>\n",
              "      <td>178.300003</td>\n",
              "      <td>174.419998</td>\n",
              "      <td>177.500000</td>\n",
              "      <td>175.059998</td>\n",
              "      <td>73401800.0</td>\n",
              "      <td>175.059998</td>\n",
              "    </tr>\n",
              "    <tr>\n",
              "      <th>2022-04-06</th>\n",
              "      <td>173.630005</td>\n",
              "      <td>170.130005</td>\n",
              "      <td>172.360001</td>\n",
              "      <td>171.830002</td>\n",
              "      <td>89058800.0</td>\n",
              "      <td>171.830002</td>\n",
              "    </tr>\n",
              "    <tr>\n",
              "      <th>2022-04-07</th>\n",
              "      <td>173.360001</td>\n",
              "      <td>169.850006</td>\n",
              "      <td>171.160004</td>\n",
              "      <td>172.139999</td>\n",
              "      <td>77594700.0</td>\n",
              "      <td>172.139999</td>\n",
              "    </tr>\n",
              "  </tbody>\n",
              "</table>\n",
              "<p>2584 rows × 6 columns</p>\n",
              "</div>\n",
              "      <button class=\"colab-df-convert\" onclick=\"convertToInteractive('df-7dcdd228-cecb-4668-9c4c-51ba1b92807f')\"\n",
              "              title=\"Convert this dataframe to an interactive table.\"\n",
              "              style=\"display:none;\">\n",
              "        \n",
              "  <svg xmlns=\"http://www.w3.org/2000/svg\" height=\"24px\"viewBox=\"0 0 24 24\"\n",
              "       width=\"24px\">\n",
              "    <path d=\"M0 0h24v24H0V0z\" fill=\"none\"/>\n",
              "    <path d=\"M18.56 5.44l.94 2.06.94-2.06 2.06-.94-2.06-.94-.94-2.06-.94 2.06-2.06.94zm-11 1L8.5 8.5l.94-2.06 2.06-.94-2.06-.94L8.5 2.5l-.94 2.06-2.06.94zm10 10l.94 2.06.94-2.06 2.06-.94-2.06-.94-.94-2.06-.94 2.06-2.06.94z\"/><path d=\"M17.41 7.96l-1.37-1.37c-.4-.4-.92-.59-1.43-.59-.52 0-1.04.2-1.43.59L10.3 9.45l-7.72 7.72c-.78.78-.78 2.05 0 2.83L4 21.41c.39.39.9.59 1.41.59.51 0 1.02-.2 1.41-.59l7.78-7.78 2.81-2.81c.8-.78.8-2.07 0-2.86zM5.41 20L4 18.59l7.72-7.72 1.47 1.35L5.41 20z\"/>\n",
              "  </svg>\n",
              "      </button>\n",
              "      \n",
              "  <style>\n",
              "    .colab-df-container {\n",
              "      display:flex;\n",
              "      flex-wrap:wrap;\n",
              "      gap: 12px;\n",
              "    }\n",
              "\n",
              "    .colab-df-convert {\n",
              "      background-color: #E8F0FE;\n",
              "      border: none;\n",
              "      border-radius: 50%;\n",
              "      cursor: pointer;\n",
              "      display: none;\n",
              "      fill: #1967D2;\n",
              "      height: 32px;\n",
              "      padding: 0 0 0 0;\n",
              "      width: 32px;\n",
              "    }\n",
              "\n",
              "    .colab-df-convert:hover {\n",
              "      background-color: #E2EBFA;\n",
              "      box-shadow: 0px 1px 2px rgba(60, 64, 67, 0.3), 0px 1px 3px 1px rgba(60, 64, 67, 0.15);\n",
              "      fill: #174EA6;\n",
              "    }\n",
              "\n",
              "    [theme=dark] .colab-df-convert {\n",
              "      background-color: #3B4455;\n",
              "      fill: #D2E3FC;\n",
              "    }\n",
              "\n",
              "    [theme=dark] .colab-df-convert:hover {\n",
              "      background-color: #434B5C;\n",
              "      box-shadow: 0px 1px 3px 1px rgba(0, 0, 0, 0.15);\n",
              "      filter: drop-shadow(0px 1px 2px rgba(0, 0, 0, 0.3));\n",
              "      fill: #FFFFFF;\n",
              "    }\n",
              "  </style>\n",
              "\n",
              "      <script>\n",
              "        const buttonEl =\n",
              "          document.querySelector('#df-7dcdd228-cecb-4668-9c4c-51ba1b92807f button.colab-df-convert');\n",
              "        buttonEl.style.display =\n",
              "          google.colab.kernel.accessAllowed ? 'block' : 'none';\n",
              "\n",
              "        async function convertToInteractive(key) {\n",
              "          const element = document.querySelector('#df-7dcdd228-cecb-4668-9c4c-51ba1b92807f');\n",
              "          const dataTable =\n",
              "            await google.colab.kernel.invokeFunction('convertToInteractive',\n",
              "                                                     [key], {});\n",
              "          if (!dataTable) return;\n",
              "\n",
              "          const docLinkHtml = 'Like what you see? Visit the ' +\n",
              "            '<a target=\"_blank\" href=https://colab.research.google.com/notebooks/data_table.ipynb>data table notebook</a>'\n",
              "            + ' to learn more about interactive tables.';\n",
              "          element.innerHTML = '';\n",
              "          dataTable['output_type'] = 'display_data';\n",
              "          await google.colab.output.renderOutput(dataTable, element);\n",
              "          const docLink = document.createElement('div');\n",
              "          docLink.innerHTML = docLinkHtml;\n",
              "          element.appendChild(docLink);\n",
              "        }\n",
              "      </script>\n",
              "    </div>\n",
              "  </div>\n",
              "  "
            ]
          },
          "metadata": {},
          "execution_count": 38
        }
      ]
    },
    {
      "cell_type": "code",
      "source": [
        "# Get the number of rows and columns in the data set\n",
        "df.shape"
      ],
      "metadata": {
        "colab": {
          "base_uri": "https://localhost:8080/"
        },
        "id": "sXPeXQXaH4LM",
        "outputId": "116dfcb1-45ee-4f5f-8e88-bbb46e0fa303"
      },
      "execution_count": 39,
      "outputs": [
        {
          "output_type": "execute_result",
          "data": {
            "text/plain": [
              "(2584, 6)"
            ]
          },
          "metadata": {},
          "execution_count": 39
        }
      ]
    },
    {
      "cell_type": "code",
      "source": [
        "# Visualize the closing price history\n",
        "plt.figure(figsize=(16,8))\n",
        "plt.title('Closing Price History')\n",
        "plt.plot(df['Close'])\n",
        "plt.xlabel('Date', fontsize=18)\n",
        "plt.ylabel('Close Price USD ($)', fontsize=18)\n",
        "plt.show()"
      ],
      "metadata": {
        "colab": {
          "base_uri": "https://localhost:8080/",
          "height": 558
        },
        "id": "rDwhkUY6H-iZ",
        "outputId": "56239f50-d96e-48bd-bb67-5867a6097010"
      },
      "execution_count": 40,
      "outputs": [
        {
          "output_type": "display_data",
          "data": {
            "text/plain": [
              "<Figure size 1152x576 with 1 Axes>"
            ],
            "image/png": "[encoded data removed]"
          },
          "metadata": {}
        }
      ]
    },
    {
      "cell_type": "code",
      "source": [
        "# Create a new dataframe with only the close column\n",
        "data = df.filter(['Close'])\n",
        "# Convert the dataframe to a numpy array\n",
        "dataset = data.values\n",
        "# Get the number of rows to train the model on\n",
        "training_data_len = math.ceil(len(dataset) * .8)\n",
        "\n",
        "training_data_len"
      ],
      "metadata": {
        "colab": {
          "base_uri": "https://localhost:8080/"
        },
        "id": "T6tJpY1yJY21",
        "outputId": "44b87efd-6008-49fc-e7cc-d864cda4fbe2"
      },
      "execution_count": 41,
      "outputs": [
        {
          "output_type": "execute_result",
          "data": {
            "text/plain": [
              "2068"
            ]
          },
          "metadata": {},
          "execution_count": 41
        }
      ]
    },
    {
      "cell_type": "code",
      "source": [
        "# Scale the data\n",
        "scaler = MinMaxScaler(feature_range=(0,1))\n",
        "scaled_data = scaler.fit_transform(dataset)\n",
        "\n",
        "scaled_data"
      ],
      "metadata": {
        "colab": {
          "base_uri": "https://localhost:8080/"
        },
        "id": "E-wYWybxJ4kV",
        "outputId": "d4567e78-5b38-4c68-9ae1-5e89ca3ef1c5"
      },
      "execution_count": 42,
      "outputs": [
        {
          "output_type": "execute_result",
          "data": {
            "text/plain": [
              "array([[0.00439887],\n",
              "       [0.00486851],\n",
              "       [0.00584391],\n",
              "       ...,\n",
              "       [0.95864635],\n",
              "       [0.93942734],\n",
              "       [0.94127188]])"
            ]
          },
          "metadata": {},
          "execution_count": 42
        }
      ]
    },
    {
      "cell_type": "code",
      "source": [
        "# Create the training data set\n",
        "# Create the scaled training data set\n",
        "train_data = scaled_data[0:training_data_len, :]\n",
        "# Split the data into x_train and y_train data sets\n",
        "x_train = []\n",
        "y_train = []\n",
        "\n",
        "for i in range(60, len(train_data)):\n",
        "  x_train.append(train_data[i-60:i,0])\n",
        "  y_train.append(train_data[i,0])\n",
        "  if i<=61:\n",
        "    print(x_train)\n",
        "    print(y_train)\n",
        "    print()"
      ],
      "metadata": {
        "colab": {
          "base_uri": "https://localhost:8080/"
        },
        "id": "YMZXNhWBKlOo",
        "outputId": "84323271-a56b-4122-a0ee-cb681df05c2b"
      },
      "execution_count": 43,
      "outputs": [
        {
          "output_type": "stream",
          "name": "stdout",
          "text": [
            "[array([0.00439887, 0.00486851, 0.00584391, 0.00677256, 0.00663019,\n",
            "       0.00695107, 0.00680444, 0.00655793, 0.00622217, 0.00726133,\n",
            "       0.00819848, 0.00790947, 0.0063263 , 0.00783722, 0.00634968,\n",
            "       0.01192796, 0.01149658, 0.01205972, 0.01327737, 0.01401476,\n",
            "       0.01395314, 0.01372576, 0.01469479, 0.01560643, 0.01663922,\n",
            "       0.01830739, 0.02181161, 0.02186474, 0.02381555, 0.02527333,\n",
            "       0.0227679 , 0.02373267, 0.02371354, 0.02641875, 0.02603411,\n",
            "       0.026746  , 0.02802528, 0.02873719, 0.03078787, 0.03228178,\n",
            "       0.03271317, 0.03286405, 0.03030973, 0.02969346, 0.02978484,\n",
            "       0.03218616, 0.03286193, 0.03431335, 0.03773469, 0.04229932,\n",
            "       0.04144504, 0.04144716, 0.04474738, 0.04578017, 0.04504489,\n",
            "       0.04437338, 0.04367423, 0.04599691, 0.04759072, 0.04825798])]\n",
            "[0.04660893460974819]\n",
            "\n",
            "[array([0.00439887, 0.00486851, 0.00584391, 0.00677256, 0.00663019,\n",
            "       0.00695107, 0.00680444, 0.00655793, 0.00622217, 0.00726133,\n",
            "       0.00819848, 0.00790947, 0.0063263 , 0.00783722, 0.00634968,\n",
            "       0.01192796, 0.01149658, 0.01205972, 0.01327737, 0.01401476,\n",
            "       0.01395314, 0.01372576, 0.01469479, 0.01560643, 0.01663922,\n",
            "       0.01830739, 0.02181161, 0.02186474, 0.02381555, 0.02527333,\n",
            "       0.0227679 , 0.02373267, 0.02371354, 0.02641875, 0.02603411,\n",
            "       0.026746  , 0.02802528, 0.02873719, 0.03078787, 0.03228178,\n",
            "       0.03271317, 0.03286405, 0.03030973, 0.02969346, 0.02978484,\n",
            "       0.03218616, 0.03286193, 0.03431335, 0.03773469, 0.04229932,\n",
            "       0.04144504, 0.04144716, 0.04474738, 0.04578017, 0.04504489,\n",
            "       0.04437338, 0.04367423, 0.04599691, 0.04759072, 0.04825798]), array([0.00486851, 0.00584391, 0.00677256, 0.00663019, 0.00695107,\n",
            "       0.00680444, 0.00655793, 0.00622217, 0.00726133, 0.00819848,\n",
            "       0.00790947, 0.0063263 , 0.00783722, 0.00634968, 0.01192796,\n",
            "       0.01149658, 0.01205972, 0.01327737, 0.01401476, 0.01395314,\n",
            "       0.01372576, 0.01469479, 0.01560643, 0.01663922, 0.01830739,\n",
            "       0.02181161, 0.02186474, 0.02381555, 0.02527333, 0.0227679 ,\n",
            "       0.02373267, 0.02371354, 0.02641875, 0.02603411, 0.026746  ,\n",
            "       0.02802528, 0.02873719, 0.03078787, 0.03228178, 0.03271317,\n",
            "       0.03286405, 0.03030973, 0.02969346, 0.02978484, 0.03218616,\n",
            "       0.03286193, 0.03431335, 0.03773469, 0.04229932, 0.04144504,\n",
            "       0.04144716, 0.04474738, 0.04578017, 0.04504489, 0.04437338,\n",
            "       0.04367423, 0.04599691, 0.04759072, 0.04825798, 0.04660893])]\n",
            "[0.04660893460974819, 0.04441800167645807]\n",
            "\n"
          ]
        }
      ]
    },
    {
      "cell_type": "code",
      "source": [
        "# Convert the x_train and y_train to numpy arrays\n",
        "x_train, y_train = np.array(x_train), np.array(y_train)"
      ],
      "metadata": {
        "id": "SjUYr6qeLn7l"
      },
      "execution_count": 44,
      "outputs": []
    },
    {
      "cell_type": "code",
      "source": [
        "x_train.shape"
      ],
      "metadata": {
        "colab": {
          "base_uri": "https://localhost:8080/"
        },
        "id": "j-LLP0TIMsLd",
        "outputId": "2a71e698-bb91-4305-dede-c3cb447d8f97"
      },
      "execution_count": 45,
      "outputs": [
        {
          "output_type": "execute_result",
          "data": {
            "text/plain": [
              "(2008, 60)"
            ]
          },
          "metadata": {},
          "execution_count": 45
        }
      ]
    },
    {
      "cell_type": "code",
      "source": [
        "# Reshape the data\n",
        "# x_train = np.reshape(x_train, (2008, 60, 1))\n",
        "# x_train.shape[0] = 2008\n",
        "# x_train.shape[1] = 60\n",
        "x_train = np.reshape(x_train, (x_train.shape[0], x_train.shape[1], 1))\n",
        "x_train.shape"
      ],
      "metadata": {
        "colab": {
          "base_uri": "https://localhost:8080/"
        },
        "id": "XaiT3qdIMnIC",
        "outputId": "4ca45148-f6ad-434d-ca49-118b76c90163"
      },
      "execution_count": 46,
      "outputs": [
        {
          "output_type": "execute_result",
          "data": {
            "text/plain": [
              "(2008, 60, 1)"
            ]
          },
          "metadata": {},
          "execution_count": 46
        }
      ]
    },
    {
      "cell_type": "code",
      "source": [
        "# Build the LSTM model\n",
        "from keras.layers import Dense, LSTM\n",
        "\n",
        "model = Sequential()\n",
        "model.add(LSTM(50, return_sequences=True, input_shape=(x_train.shape[1],1)))\n",
        "model.add(LSTM(50, return_sequences=False))\n",
        "model.add(Dense(25))\n",
        "model.add(Dense(1))"
      ],
      "metadata": {
        "id": "_Jy_CNzHNcgZ"
      },
      "execution_count": 47,
      "outputs": []
    },
    {
      "cell_type": "code",
      "source": [
        "# Compile the model\n",
        "model.compile(optimizer='adam', loss='mean_squared_error')"
      ],
      "metadata": {
        "id": "r3Tjw8TLOcgQ"
      },
      "execution_count": 48,
      "outputs": []
    },
    {
      "cell_type": "code",
      "source": [
        "# Train the model\n",
        "model.fit(x_train, y_train, batch_size=1, epochs=1)"
      ],
      "metadata": {
        "colab": {
          "base_uri": "https://localhost:8080/"
        },
        "id": "2fAhyz_8On49",
        "outputId": "ee327ce2-a3a5-486d-afdb-f083b9d8c5e8"
      },
      "execution_count": 49,
      "outputs": [
        {
          "output_type": "stream",
          "name": "stdout",
          "text": [
            "2008/2008 [==============================] - 74s 35ms/step - loss: 2.2544e-04\n"
          ]
        },
        {
          "output_type": "execute_result",
          "data": {
            "text/plain": [
              "<keras.callbacks.History at 0x7f2686fe6b50>"
            ]
          },
          "metadata": {},
          "execution_count": 49
        }
      ]
    },
    {
      "cell_type": "code",
      "source": [
        "# Create the testing dataset\n",
        "# Create a new array containing scaled values from index 2008 to 2585\n",
        "test_data = scaled_data[training_data_len - 60: , :]\n",
        "\n",
        "# Create the data sets x_test and y_test\n",
        "x_test = []\n",
        "y_test = dataset[training_data_len:, :]\n",
        "for i in range(60, len(test_data)):\n",
        "  x_test.append(test_data[i-60:i, 0])"
      ],
      "metadata": {
        "id": "hRvjicrrO4J4"
      },
      "execution_count": 50,
      "outputs": []
    },
    {
      "cell_type": "code",
      "source": [
        "# Convert the data to a numpy array\n",
        "x_test = np.array(x_test)"
      ],
      "metadata": {
        "id": "KlU1NZY3PoYf"
      },
      "execution_count": 51,
      "outputs": []
    },
    {
      "cell_type": "code",
      "source": [
        "# Reshape the data\n",
        "x_test = np.reshape(x_test, (x_test.shape[0], x_test.shape[1], 1))"
      ],
      "metadata": {
        "id": "0dsuyuGUQK6P"
      },
      "execution_count": 52,
      "outputs": []
    },
    {
      "cell_type": "code",
      "source": [
        "# Get the models predicted price values\n",
        "predictions = model.predict(x_test)\n",
        "predictions = scaler.inverse_transform(predictions)"
      ],
      "metadata": {
        "id": "xbVsabyEQH6j"
      },
      "execution_count": 53,
      "outputs": []
    },
    {
      "cell_type": "code",
      "source": [
        "# Get the root mean squared error (RMSE)\n",
        "rmse = np.sqrt(np.mean(((predictions - y_test) ** 2)))\n",
        "rmse"
      ],
      "metadata": {
        "colab": {
          "base_uri": "https://localhost:8080/"
        },
        "id": "bZNZdoRrQP2s",
        "outputId": "ae40b9c1-226c-4d82-96b9-66c5e26de1ea"
      },
      "execution_count": 54,
      "outputs": [
        {
          "output_type": "execute_result",
          "data": {
            "text/plain": [
              "8.704588146781198"
            ]
          },
          "metadata": {},
          "execution_count": 54
        }
      ]
    },
    {
      "cell_type": "code",
      "source": [
        "# Plot the data\n",
        "train = data[:training_data_len]\n",
        "valid = data[training_data_len:]\n",
        "valid['Predictions'] = predictions\n",
        "\n",
        "# Visualize the data\n",
        "plt.figure(figsize=(16,8))\n",
        "plt.title('Stock Price Forecast LSTM Model')\n",
        "plt.xlabel('Date', fontsize=18)\n",
        "plt.ylabel('Close Price USD ($)', fontsize=18)\n",
        "plt.plot(train['Close'])\n",
        "plt.plot(valid[['Close', 'Predictions']])\n",
        "plt.legend(['Train', 'Val', 'Predictions'], loc='lower right') # loc = location\n",
        "plt.show()"
      ],
      "metadata": {
        "colab": {
          "base_uri": "https://localhost:8080/",
          "height": 662
        },
        "id": "rq6McrlPQf7Z",
        "outputId": "cff5e12a-c18f-422e-edc5-6120a8d92674"
      },
      "execution_count": 55,
      "outputs": [
        {
          "output_type": "stream",
          "name": "stderr",
          "text": [
            "/usr/local/lib/python3.7/dist-packages/ipykernel_launcher.py:4: SettingWithCopyWarning: \n",
            "A value is trying to be set on a copy of a slice from a DataFrame.\n",
            "Try using .loc[row_indexer,col_indexer] = value instead\n",
            "\n",
            "See the caveats in the documentation: https://pandas.pydata.org/pandas-docs/stable/user_guide/indexing.html#returning-a-view-versus-a-copy\n",
            "  after removing the cwd from sys.path.\n"
          ]
        },
        {
          "output_type": "display_data",
          "data": {
            "text/plain": [
              "<Figure size 1152x576 with 1 Axes>"
            ],
            "image/png": "[encoded data removed]"
          },
          "metadata": {}
        }
      ]
    },
    {
      "cell_type": "code",
      "source": [
        "# Show the valid and predictions prices\n",
        "valid"
      ],
      "metadata": {
        "colab": {
          "base_uri": "https://localhost:8080/",
          "height": 455
        },
        "id": "n16xqDlYRxDA",
        "outputId": "fda6bfd2-81b8-427a-dc5f-25e82e4b2b67"
      },
      "execution_count": 56,
      "outputs": [
        {
          "output_type": "execute_result",
          "data": {
            "text/plain": [
              "                 Close  Predictions\n",
              "Date                               \n",
              "2020-03-24   61.720001    59.713562\n",
              "2020-03-25   61.380001    59.132069\n",
              "2020-03-26   64.610001    58.971607\n",
              "2020-03-27   61.935001    59.451546\n",
              "2020-03-30   63.702499    59.822411\n",
              "...                ...          ...\n",
              "2022-04-01  174.309998   163.295807\n",
              "2022-04-04  178.440002   163.416534\n",
              "2022-04-05  175.059998   163.852203\n",
              "2022-04-06  171.830002   163.846176\n",
              "2022-04-07  172.139999   163.240585\n",
              "\n",
              "[516 rows x 2 columns]"
            ],
            "text/html": [
              "\n",
              "  <div id=\"df-0222d607-4826-4e0d-b650-e196f3847430\">\n",
              "    <div class=\"colab-df-container\">\n",
              "      <div>\n",
              "<style scoped>\n",
              "    .dataframe tbody tr th:only-of-type {\n",
              "        vertical-align: middle;\n",
              "    }\n",
              "\n",
              "    .dataframe tbody tr th {\n",
              "        vertical-align: top;\n",
              "    }\n",
              "\n",
              "    .dataframe thead th {\n",
              "        text-align: right;\n",
              "    }\n",
              "</style>\n",
              "<table border=\"1\" class=\"dataframe\">\n",
              "  <thead>\n",
              "    <tr style=\"text-align: right;\">\n",
              "      <th></th>\n",
              "      <th>Close</th>\n",
              "      <th>Predictions</th>\n",
              "    </tr>\n",
              "    <tr>\n",
              "      <th>Date</th>\n",
              "      <th></th>\n",
              "      <th></th>\n",
              "    </tr>\n",
              "  </thead>\n",
              "  <tbody>\n",
              "    <tr>\n",
              "      <th>2020-03-24</th>\n",
              "      <td>61.720001</td>\n",
              "      <td>59.713562</td>\n",
              "    </tr>\n",
              "    <tr>\n",
              "      <th>2020-03-25</th>\n",
              "      <td>61.380001</td>\n",
              "      <td>59.132069</td>\n",
              "    </tr>\n",
              "    <tr>\n",
              "      <th>2020-03-26</th>\n",
              "      <td>64.610001</td>\n",
              "      <td>58.971607</td>\n",
              "    </tr>\n",
              "    <tr>\n",
              "      <th>2020-03-27</th>\n",
              "      <td>61.935001</td>\n",
              "      <td>59.451546</td>\n",
              "    </tr>\n",
              "    <tr>\n",
              "      <th>2020-03-30</th>\n",
              "      <td>63.702499</td>\n",
              "      <td>59.822411</td>\n",
              "    </tr>\n",
              "    <tr>\n",
              "      <th>...</th>\n",
              "      <td>...</td>\n",
              "      <td>...</td>\n",
              "    </tr>\n",
              "    <tr>\n",
              "      <th>2022-04-01</th>\n",
              "      <td>174.309998</td>\n",
              "      <td>163.295807</td>\n",
              "    </tr>\n",
              "    <tr>\n",
              "      <th>2022-04-04</th>\n",
              "      <td>178.440002</td>\n",
              "      <td>163.416534</td>\n",
              "    </tr>\n",
              "    <tr>\n",
              "      <th>2022-04-05</th>\n",
              "      <td>175.059998</td>\n",
              "      <td>163.852203</td>\n",
              "    </tr>\n",
              "    <tr>\n",
              "      <th>2022-04-06</th>\n",
              "      <td>171.830002</td>\n",
              "      <td>163.846176</td>\n",
              "    </tr>\n",
              "    <tr>\n",
              "      <th>2022-04-07</th>\n",
              "      <td>172.139999</td>\n",
              "      <td>163.240585</td>\n",
              "    </tr>\n",
              "  </tbody>\n",
              "</table>\n",
              "<p>516 rows × 2 columns</p>\n",
              "</div>\n",
              "      <button class=\"colab-df-convert\" onclick=\"convertToInteractive('df-0222d607-4826-4e0d-b650-e196f3847430')\"\n",
              "              title=\"Convert this dataframe to an interactive table.\"\n",
              "              style=\"display:none;\">\n",
              "        \n",
              "  <svg xmlns=\"http://www.w3.org/2000/svg\" height=\"24px\"viewBox=\"0 0 24 24\"\n",
              "       width=\"24px\">\n",
              "    <path d=\"M0 0h24v24H0V0z\" fill=\"none\"/>\n",
              "    <path d=\"M18.56 5.44l.94 2.06.94-2.06 2.06-.94-2.06-.94-.94-2.06-.94 2.06-2.06.94zm-11 1L8.5 8.5l.94-2.06 2.06-.94-2.06-.94L8.5 2.5l-.94 2.06-2.06.94zm10 10l.94 2.06.94-2.06 2.06-.94-2.06-.94-.94-2.06-.94 2.06-2.06.94z\"/><path d=\"M17.41 7.96l-1.37-1.37c-.4-.4-.92-.59-1.43-.59-.52 0-1.04.2-1.43.59L10.3 9.45l-7.72 7.72c-.78.78-.78 2.05 0 2.83L4 21.41c.39.39.9.59 1.41.59.51 0 1.02-.2 1.41-.59l7.78-7.78 2.81-2.81c.8-.78.8-2.07 0-2.86zM5.41 20L4 18.59l7.72-7.72 1.47 1.35L5.41 20z\"/>\n",
              "  </svg>\n",
              "      </button>\n",
              "      \n",
              "  <style>\n",
              "    .colab-df-container {\n",
              "      display:flex;\n",
              "      flex-wrap:wrap;\n",
              "      gap: 12px;\n",
              "    }\n",
              "\n",
              "    .colab-df-convert {\n",
              "      background-color: #E8F0FE;\n",
              "      border: none;\n",
              "      border-radius: 50%;\n",
              "      cursor: pointer;\n",
              "      display: none;\n",
              "      fill: #1967D2;\n",
              "      height: 32px;\n",
              "      padding: 0 0 0 0;\n",
              "      width: 32px;\n",
              "    }\n",
              "\n",
              "    .colab-df-convert:hover {\n",
              "      background-color: #E2EBFA;\n",
              "      box-shadow: 0px 1px 2px rgba(60, 64, 67, 0.3), 0px 1px 3px 1px rgba(60, 64, 67, 0.15);\n",
              "      fill: #174EA6;\n",
              "    }\n",
              "\n",
              "    [theme=dark] .colab-df-convert {\n",
              "      background-color: #3B4455;\n",
              "      fill: #D2E3FC;\n",
              "    }\n",
              "\n",
              "    [theme=dark] .colab-df-convert:hover {\n",
              "      background-color: #434B5C;\n",
              "      box-shadow: 0px 1px 3px 1px rgba(0, 0, 0, 0.15);\n",
              "      filter: drop-shadow(0px 1px 2px rgba(0, 0, 0, 0.3));\n",
              "      fill: #FFFFFF;\n",
              "    }\n",
              "  </style>\n",
              "\n",
              "      <script>\n",
              "        const buttonEl =\n",
              "          document.querySelector('#df-0222d607-4826-4e0d-b650-e196f3847430 button.colab-df-convert');\n",
              "        buttonEl.style.display =\n",
              "          google.colab.kernel.accessAllowed ? 'block' : 'none';\n",
              "\n",
              "        async function convertToInteractive(key) {\n",
              "          const element = document.querySelector('#df-0222d607-4826-4e0d-b650-e196f3847430');\n",
              "          const dataTable =\n",
              "            await google.colab.kernel.invokeFunction('convertToInteractive',\n",
              "                                                     [key], {});\n",
              "          if (!dataTable) return;\n",
              "\n",
              "          const docLinkHtml = 'Like what you see? Visit the ' +\n",
              "            '<a target=\"_blank\" href=https://colab.research.google.com/notebooks/data_table.ipynb>data table notebook</a>'\n",
              "            + ' to learn more about interactive tables.';\n",
              "          element.innerHTML = '';\n",
              "          dataTable['output_type'] = 'display_data';\n",
              "          await google.colab.output.renderOutput(dataTable, element);\n",
              "          const docLink = document.createElement('div');\n",
              "          docLink.innerHTML = docLinkHtml;\n",
              "          element.appendChild(docLink);\n",
              "        }\n",
              "      </script>\n",
              "    </div>\n",
              "  </div>\n",
              "  "
            ]
          },
          "metadata": {},
          "execution_count": 56
        }
      ]
    },
    {
      "cell_type": "code",
      "source": [
        "# Try to predict closing price for next closing price\n",
        "\n",
        "# Get the quote\n",
        "apple_quote = web.DataReader('AAPL', data_source='yahoo', start='2012-01-01', end='2022-04-07')\n",
        "# Create a new dataframe\n",
        "new_df = apple_quote.filter(['Close'])\n",
        "# Get the last 60 days closing price values and convert the dataframe to an array\n",
        "last_60_days = new_df[-60:].values\n",
        "# Scale the data to be values between 0 and 1\n",
        "last_60_days_scaled = scaler.transform(last_60_days)\n",
        "# Create an empty list\n",
        "X_test = []\n",
        "# Append the past 60 days\n",
        "X_test.append(last_60_days_scaled)\n",
        "# Convert X_test dataset to a numpy array\n",
        "X_test = np.array(X_test)\n",
        "# Reshape the data\n",
        "X_test = np.reshape(X_test, (X_test.shape[0], X_test.shape[1], 1))\n",
        "# Get the predicted scaled price\n",
        "predicted_price = model.predict(X_test)\n",
        "# Undo the sdcaling\n",
        "predicted_price = scaler.inverse_transform(predicted_price)\n",
        "print(predicted_price)"
      ],
      "metadata": {
        "colab": {
          "base_uri": "https://localhost:8080/"
        },
        "id": "mkrcYzfjR_sj",
        "outputId": "7967cadc-9ca5-43f5-8320-d4d840cd491c"
      },
      "execution_count": 57,
      "outputs": [
        {
          "output_type": "stream",
          "name": "stdout",
          "text": [
            "[[162.52255]]\n"
          ]
        }
      ]
    },
    {
      "cell_type": "code",
      "source": [
        "# Get actual price\n",
        "actual_price = web.DataReader('AAPL', data_source='yahoo', start='2022-04-08', end='2022-04-08')\n",
        "print(actual_price['Close'])"
      ],
      "metadata": {
        "colab": {
          "base_uri": "https://localhost:8080/"
        },
        "id": "w9Zfd9wbZ48E",
        "outputId": "f95d0005-ae99-418f-9797-247dac0e07f7"
      },
      "execution_count": 58,
      "outputs": [
        {
          "output_type": "stream",
          "name": "stdout",
          "text": [
            "Date\n",
            "2022-04-08    170.089996\n",
            "Name: Close, dtype: float64\n"
          ]
        }
      ]
    }
  ]
}